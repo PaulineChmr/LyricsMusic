{
 "cells": [
  {
   "cell_type": "code",
   "execution_count": null,
   "metadata": {},
   "outputs": [],
   "source": [
    "from tensorflow.python.saved_model import tag_constants\n",
    "import tensorflow as f\n",
    "\n",
    "graph = tf.Graph()\n",
    "with restored_graph.as_default()\n",
    "    with tf.Session as sess:\n",
    "        tf.saved_model.loader.load(\n",
    "            sess,\n",
    "            [tag_constants.SERVING],\n",
    "            'logs/tf/runs/Em-300_FS-3-4-5_NF-300_D-0.75_L2-0.01_B-64_Ep-12_W2V-1_V-50000/checkpoints/model-7100.index'        \n",
    "        )\n",
    "    \n",
    "        # Placeholders for input, output and dropout\n",
    "        input_x = graph.get_tensor_by_name('input_x')\n",
    "        input_y = graph.get_tensor_by_name('input_y')\n",
    "        dropout_keep_prob = graph.get_tensor_by_name('dropout_keep_prob')\n",
    "        \n",
    "        scores = graph.get_tensor_by_name(\"scores\")\n",
    "        predictions = graph.get_tensor_by_name(\"predictions\")\n",
    "        \n",
    "        sess.run(prediction, feed_dict={\n",
    "            batch_size_placeholder: some_value,\n",
    "            features_placeholder: some_other_value,\n",
    "            labels_placeholder: another_value\n",
    "        })"
   ]
  }
 ],
 "metadata": {
  "kernelspec": {
   "display_name": ".venv_w266_project",
   "language": "python",
   "name": ".venv_w266_project"
  },
  "language_info": {
   "codemirror_mode": {
    "name": "ipython",
    "version": 3
   },
   "file_extension": ".py",
   "mimetype": "text/x-python",
   "name": "python",
   "nbconvert_exporter": "python",
   "pygments_lexer": "ipython3",
   "version": "3.5.2"
  }
 },
 "nbformat": 4,
 "nbformat_minor": 2
}
