{
 "cells": [
  {
   "cell_type": "code",
   "execution_count": 1,
   "metadata": {},
   "outputs": [],
   "source": [
    "import pandas as pd\n",
    "import seaborn as sn\n",
    "import waterfall_chart\n",
    "import matplotlib.pyplot as plt\n",
    "\n",
    "%matplotlib inline\n",
    "\n",
    "from mood_classification import MOODS_AND_LYRICS_PICKLE, LYRICS_CSV_KEEP_COLS, LYRICS_CSV_DTYPES\n",
    "from utils import unpicklify"
   ]
  },
  {
   "cell_type": "markdown",
   "metadata": {},
   "source": [
    "# Data Filtering"
   ]
  },
  {
   "cell_type": "code",
   "execution_count": 47,
   "metadata": {},
   "outputs": [],
   "source": [
    "### import the data\n",
    "df = pd.read_csv(\n",
    "    'data/labeled_lyrics_expanded.csv',\n",
    "    dtype=LYRICS_CSV_DTYPES,\n",
    "    usecols=LYRICS_CSV_KEEP_COLS)"
   ]
  },
  {
   "cell_type": "code",
   "execution_count": 48,
   "metadata": {},
   "outputs": [
    {
     "name": "stdout",
     "output_type": "stream",
     "text": [
      "Data shape before filtering: (779056, 10)\n",
      "Shape after lyrics_available == 1 filter: (327234, 10)\n",
      "Shape after is_english == 1 filter: (266783, 10)\n",
      "Shape after matched_mood == 1 filter: (63803, 10)\n"
     ]
    }
   ],
   "source": [
    "print('Data shape before filtering: {0}'.format(df.shape))\n",
    "waterfall = [list(), list()]\n",
    "waterfall[0].append('initial count')\n",
    "waterfall[1].append(len(df))\n",
    "last_length = len(df)\n",
    "\n",
    "df = df[df.lyrics_available == 1]\n",
    "print('Shape after lyrics_available == 1 filter: {0}'.format(df.shape))\n",
    "waterfall[0].append('lyrics_available')\n",
    "waterfall[1].append(last_length - len(df))\n",
    "last_length = len(df)\n",
    "\n",
    "df = df[df.is_english == 1]\n",
    "print('Shape after is_english == 1 filter: {0}'.format(df.shape))\n",
    "waterfall[0].append('is_english')\n",
    "waterfall[1].append(last_length - len(df))\n",
    "last_length = len(df)\n",
    "\n",
    "df = df[df.matched_mood == 1]\n",
    "print('Shape after matched_mood == 1 filter: {0}'.format(df.shape))\n",
    "waterfall[0].append('matched_mood')\n",
    "waterfall[1].append(last_length - len(df))"
   ]
  },
  {
   "cell_type": "code",
   "execution_count": 49,
   "metadata": {},
   "outputs": [
    {
     "name": "stdout",
     "output_type": "stream",
     "text": [
      "[['initial count', 'lyrics_available', 'is_english', 'matched_mood'], [779056, -451822, -60451, -202980]]\n"
     ]
    }
   ],
   "source": [
    "waterfall_net = [waterfall[0], [waterfall[1][0]] + [-1 * x for x in waterfall[1][1:]]]\n",
    "print(waterfall_net)"
   ]
  },
  {
   "cell_type": "code",
   "execution_count": 50,
   "metadata": {},
   "outputs": [
    {
     "data": {
      "image/png": "[encoded data removed]",
      "text/plain": [
       "<Figure size 432x288 with 1 Axes>"
      ]
     },
     "metadata": {
      "needs_background": "light"
     },
     "output_type": "display_data"
    }
   ],
   "source": [
    "my_plot = waterfall_chart.plot(\n",
    "    waterfall_net[0],\n",
    "    waterfall_net[1],\n",
    "    net_label='final count',\n",
    "    Title='Lyric Data Filters')"
   ]
  },
  {
   "cell_type": "markdown",
   "metadata": {},
   "source": [
    "# Predictions Dumped During Model Training\n",
    "\n",
    "We figured out how to dump predictions by evaluating the predictions tensor as part of the call to session.run. The tensor returned the predicted mood for each input. We then created a confusion matrix with tf.confusion_matrix and saved it to a file. Here, we explore those saved matrices."
   ]
  },
  {
   "cell_type": "code",
   "execution_count": 5,
   "metadata": {},
   "outputs": [],
   "source": [
    "datasrc = MOODS_AND_LYRICS_PICKLE\n",
    "datasrc = datasrc.replace('mood_classification', 'mood_classification_quadrants')\n",
    "data = unpicklify(datasrc)"
   ]
  },
  {
   "cell_type": "code",
   "execution_count": 7,
   "metadata": {},
   "outputs": [
    {
     "name": "stdout",
     "output_type": "stream",
     "text": [
      "{'1': 'calm', '2': 'happy', '3': 'sad', '0': 'anger'}\n",
      "['anger', 'calm', 'happy', 'sad']\n"
     ]
    }
   ],
   "source": [
    "# https://stackoverflow.com/questions/30510562/get-mapping-of-categorical-variables-in-pandas\n",
    "mood_map = {str(key): value for key, value in dict(enumerate(data.mood.cat.categories)).items()}\n",
    "moods_ordered = [mood_map[str(i)] for i in range(len(mood_map))]\n",
    "print(mood_map)\n",
    "print(moods_ordered)"
   ]
  },
  {
   "cell_type": "code",
   "execution_count": 8,
   "metadata": {},
   "outputs": [
    {
     "data": {
      "image/png": "[encoded data removed]",
      "text/plain": [
       "<Figure size 432x288 with 1 Axes>"
      ]
     },
     "metadata": {
      "needs_background": "light"
     },
     "output_type": "display_data"
    }
   ],
   "source": [
    "_ = data.mood.value_counts().plot(kind='bar')"
   ]
  },
  {
   "cell_type": "code",
   "execution_count": 9,
   "metadata": {},
   "outputs": [],
   "source": [
    "# https://stackoverflow.com/questions/35572000/how-can-i-plot-a-confusion-matrix\n",
    "#for conf_csv in conf_matrices:\n",
    "def display_conf_matrix(df_cm):\n",
    "    plt.figure(figsize=(15,12))\n",
    "    #sn.set(font_scale=1.4)#for label size\n",
    "    # https://stackoverflow.com/questions/29647749/seaborn-showing-scientific-notation-in-heatmap-for-3-digit-numbers\n",
    "    _ = sn.heatmap(\n",
    "            df_cm,\n",
    "            annot=True,\n",
    "            fmt='g',\n",
    "            annot_kws={\"size\": 16},\n",
    "            cmap=sn.cm.rocket_r)\n",
    "\n",
    "def display_mood_pcts(df_cm):\n",
    "    moods_ordered = [mood_map[str(i)] for i in range(len(mood_map))]\n",
    "    total_total = 0\n",
    "    total_correct = 0\n",
    "    total_incorrect = 0\n",
    "    incorrect = dict()\n",
    "    for i, (index, row) in enumerate(df_cm.iteritems()):\n",
    "        value = row.sum() - row[i]\n",
    "        incorrect[index] = value\n",
    "        total_incorrect += value\n",
    "    for i, (index, row) in enumerate(df_cm.transpose().iteritems()):\n",
    "        total = row.sum()\n",
    "        total_total += total\n",
    "        correct = row[i]\n",
    "        total_correct += correct\n",
    "        pct = correct / total * 100\n",
    "        print('{0}: total={1}, correct={2}, pct={3:.02f}%, incorrect={4}'.format(\n",
    "            mood_map[str(i)], total, correct, pct, incorrect[mood_map[str(i)]]))\n",
    "    total_pct = total_correct / total_total * 100\n",
    "    print('TOTAL: total={}, correct={}, pct={:.02f}%, incorrect={}'.format(\n",
    "        total_total, total_correct, total_pct, total_incorrect))\n"
   ]
  },
  {
   "cell_type": "code",
   "execution_count": 10,
   "metadata": {},
   "outputs": [],
   "source": [
    "conf_matrices = [\n",
    "    'logs/tf/runs/Em-300_FS-3-4-5_NF-300_D-0.75_L2-0.01_B-128_Ep-12_W2V-1_V-49999/3600_confusion.csv',\n",
    "    # half of calm\n",
    "    'logs/tf/runs/Em-300_FS-3-4-5_NF-300_D-0.75_L2-0.01_B-128_Ep-11_W2V-1_V-49999/2640_confusion.csv',\n",
    "    # mood quadrant\n",
    "    'logs/tf/runs/Em-300_FS-3-4-5_NF-300_D-0.75_L2-0.01_B-128_Ep-11_W2V-1_V-49999_mood-quadrants/3091_confusion.csv',\n",
    "    # mood quadrant with adadelta\n",
    "    'logs/tf/runs/Em-300_FS-3-4-5_NF-300_D-0.75_L2-0.01_B-128_Ep-11_W2V-1_V-49999_mood-quadrants_adadelta/2400_confusion.csv',\n",
    "    # mood quadrant with dropout 0.8 for 60%!\n",
    "    'logs/tf/runs/Em-300_FS-3-4-5_NF-300_D-0.8_L2-0.01_B-128_Ep-10_W2V-1_V-49999_mood-quadrants/2810_confusion.csv',\n",
    "    # mood quadrant with vocab of 10,000 for 61.36%!\n",
    "    'logs/tf/runs/Em-300_FS-3-4-5_NF-300_D-0.8_L2-0.01_B-128_Ep-10_W2V-1_V-10000_mood-quadrants/2810_confusion.csv',\n",
    "    # mood quadrant with vocab of 10,000 for 63.97%!\n",
    "    'logs/tf/runs/Em-300_FS-3-4-5_NF-300_D-0.8_L2-0.01_B-128_Ep-8_W2V-1_V-10000_mood-quadrants_80-10-10/3000_confusion.csv',\n",
    "    # mood quadrant, vocab 10,000, balanced distribution for 74.86%!\n",
    "    'logs/tf/runs/Em-300_FS-3-4-5_NF-300_D-0.8_L2-0.01_B-128_Ep-8_W2V-1_V-10000_mood-quadrants_padded/5152_confusion.csv',\n",
    "    # mood quadrant, vocab 10,000, balanced distribution for 77.08%! Also no word2vec embeddings\n",
    "    'logs/tf/runs/Em-300_FS-3-4-5_NF-300_D-0.8_L2-0.01_B-128_Ep-10_W2V-0-Tr_V-10000_w2v0_equalized-mood-quadrants/6440_confusion.csv'\n",
    "]"
   ]
  },
  {
   "cell_type": "code",
   "execution_count": 11,
   "metadata": {
    "scrolled": false
   },
   "outputs": [
    {
     "name": "stdout",
     "output_type": "stream",
     "text": [
      "anger: total=2572, correct=2335, pct=90.79%, incorrect=190\n",
      "calm: total=2581, correct=1995, pct=77.30%, incorrect=1318\n",
      "happy: total=2581, correct=2028, pct=78.57%, incorrect=368\n",
      "sad: total=2555, correct=1573, pct=61.57%, incorrect=482\n",
      "TOTAL: total=10289, correct=7931, pct=77.08%, incorrect=2358\n"
     ]
    },
    {
     "data": {
      "image/png": "[encoded data removed]",
      "text/plain": [
       "<Figure size 1080x864 with 2 Axes>"
      ]
     },
     "metadata": {
      "needs_background": "light"
     },
     "output_type": "display_data"
    }
   ],
   "source": [
    "df_cm = pd.read_csv(conf_matrices[-1])\n",
    "\n",
    "# True: uses moods as index; False: uses ints as index\n",
    "# in case we saved csv with the index\n",
    "if 'Unnamed: 0' in df_cm.columns:\n",
    "    df_cm = df_cm.drop('Unnamed: 0', axis=1)\n",
    "df_cm = df_cm.rename(columns=mood_map)\n",
    "df_cm.index = moods_ordered\n",
    "\n",
    "display_conf_matrix(df_cm)\n",
    "display_mood_pcts(df_cm)"
   ]
  },
  {
   "cell_type": "markdown",
   "metadata": {},
   "source": [
    "# Attempt to Restore and Regenerate Predictions"
   ]
  },
  {
   "cell_type": "markdown",
   "metadata": {},
   "source": [
    "https://www.tensorflow.org/guide/saved_model"
   ]
  },
  {
   "cell_type": "code",
   "execution_count": 31,
   "metadata": {},
   "outputs": [
    {
     "ename": "FailedPreconditionError",
     "evalue": "logs/tf/runs/Em-300_FS-3-4-5_NF-300_D-0.75_L2-0.01_B-64_Ep-12_W2V-1_V-50000/checkpoints; Is a directory",
     "output_type": "error",
     "traceback": [
      "\u001b[0;31m---------------------------------------------------------------------------\u001b[0m",
      "\u001b[0;31mFailedPreconditionError\u001b[0m                   Traceback (most recent call last)",
      "\u001b[0;32m<ipython-input-31-3379802c7cf3>\u001b[0m in \u001b[0;36m<module>\u001b[0;34m\u001b[0m\n\u001b[1;32m      8\u001b[0m \u001b[0mmodel_index\u001b[0m \u001b[0;34m=\u001b[0m \u001b[0;34m\"logs/tf/runs/Em-300_FS-3-4-5_NF-300_D-0.75_L2-0.01_B-64_Ep-12_W2V-1_V-50000/checkpoints/model-7100.index\"\u001b[0m\u001b[0;34m\u001b[0m\u001b[0m\n\u001b[1;32m      9\u001b[0m \u001b[0;32mif\u001b[0m \u001b[0mos\u001b[0m\u001b[0;34m.\u001b[0m\u001b[0mpath\u001b[0m\u001b[0;34m.\u001b[0m\u001b[0mexists\u001b[0m\u001b[0;34m(\u001b[0m\u001b[0mmodel_meta\u001b[0m\u001b[0;34m)\u001b[0m\u001b[0;34m:\u001b[0m\u001b[0;34m\u001b[0m\u001b[0m\n\u001b[0;32m---> 10\u001b[0;31m     \u001b[0mimported_meta\u001b[0m \u001b[0;34m=\u001b[0m \u001b[0mtf\u001b[0m\u001b[0;34m.\u001b[0m\u001b[0mtrain\u001b[0m\u001b[0;34m.\u001b[0m\u001b[0mimport_meta_graph\u001b[0m\u001b[0;34m(\u001b[0m\u001b[0mlatest_ckp\u001b[0m\u001b[0;34m)\u001b[0m\u001b[0;34m\u001b[0m\u001b[0m\n\u001b[0m\u001b[1;32m     11\u001b[0m     \u001b[0mprint\u001b[0m\u001b[0;34m(\u001b[0m\u001b[0;34m'it is go time!'\u001b[0m\u001b[0;34m)\u001b[0m\u001b[0;34m\u001b[0m\u001b[0m\n\u001b[1;32m     12\u001b[0m \u001b[0mgraph\u001b[0m \u001b[0;34m=\u001b[0m \u001b[0mtf\u001b[0m\u001b[0;34m.\u001b[0m\u001b[0mGraph\u001b[0m\u001b[0;34m(\u001b[0m\u001b[0;34m)\u001b[0m\u001b[0;34m\u001b[0m\u001b[0m\n",
      "\u001b[0;32m~/jack/w266-group-project_lyric-mood-classification/.venv_w266_project/lib/python3.5/site-packages/tensorflow/python/training/saver.py\u001b[0m in \u001b[0;36mimport_meta_graph\u001b[0;34m(meta_graph_or_file, clear_devices, import_scope, **kwargs)\u001b[0m\n\u001b[1;32m   1672\u001b[0m   \"\"\"  # pylint: disable=g-doc-exception\n\u001b[1;32m   1673\u001b[0m   return _import_meta_graph_with_return_elements(\n\u001b[0;32m-> 1674\u001b[0;31m       meta_graph_or_file, clear_devices, import_scope, **kwargs)[0]\n\u001b[0m\u001b[1;32m   1675\u001b[0m \u001b[0;34m\u001b[0m\u001b[0m\n\u001b[1;32m   1676\u001b[0m \u001b[0;34m\u001b[0m\u001b[0m\n",
      "\u001b[0;32m~/jack/w266-group-project_lyric-mood-classification/.venv_w266_project/lib/python3.5/site-packages/tensorflow/python/training/saver.py\u001b[0m in \u001b[0;36m_import_meta_graph_with_return_elements\u001b[0;34m(meta_graph_or_file, clear_devices, import_scope, return_elements, **kwargs)\u001b[0m\n\u001b[1;32m   1684\u001b[0m                        \"execution is enabled.\")\n\u001b[1;32m   1685\u001b[0m   \u001b[0;32mif\u001b[0m \u001b[0;32mnot\u001b[0m \u001b[0misinstance\u001b[0m\u001b[0;34m(\u001b[0m\u001b[0mmeta_graph_or_file\u001b[0m\u001b[0;34m,\u001b[0m \u001b[0mmeta_graph_pb2\u001b[0m\u001b[0;34m.\u001b[0m\u001b[0mMetaGraphDef\u001b[0m\u001b[0;34m)\u001b[0m\u001b[0;34m:\u001b[0m\u001b[0;34m\u001b[0m\u001b[0m\n\u001b[0;32m-> 1686\u001b[0;31m     \u001b[0mmeta_graph_def\u001b[0m \u001b[0;34m=\u001b[0m \u001b[0mmeta_graph\u001b[0m\u001b[0;34m.\u001b[0m\u001b[0mread_meta_graph_file\u001b[0m\u001b[0;34m(\u001b[0m\u001b[0mmeta_graph_or_file\u001b[0m\u001b[0;34m)\u001b[0m\u001b[0;34m\u001b[0m\u001b[0m\n\u001b[0m\u001b[1;32m   1687\u001b[0m   \u001b[0;32melse\u001b[0m\u001b[0;34m:\u001b[0m\u001b[0;34m\u001b[0m\u001b[0m\n\u001b[1;32m   1688\u001b[0m     \u001b[0mmeta_graph_def\u001b[0m \u001b[0;34m=\u001b[0m \u001b[0mmeta_graph_or_file\u001b[0m\u001b[0;34m\u001b[0m\u001b[0m\n",
      "\u001b[0;32m~/jack/w266-group-project_lyric-mood-classification/.venv_w266_project/lib/python3.5/site-packages/tensorflow/python/framework/meta_graph.py\u001b[0m in \u001b[0;36mread_meta_graph_file\u001b[0;34m(filename)\u001b[0m\n\u001b[1;32m    633\u001b[0m     \u001b[0;32mraise\u001b[0m \u001b[0mIOError\u001b[0m\u001b[0;34m(\u001b[0m\u001b[0;34m\"File %s does not exist.\"\u001b[0m \u001b[0;34m%\u001b[0m \u001b[0mfilename\u001b[0m\u001b[0;34m)\u001b[0m\u001b[0;34m\u001b[0m\u001b[0m\n\u001b[1;32m    634\u001b[0m   \u001b[0;31m# First try to read it as a binary file.\u001b[0m\u001b[0;34m\u001b[0m\u001b[0;34m\u001b[0m\u001b[0m\n\u001b[0;32m--> 635\u001b[0;31m   \u001b[0mfile_content\u001b[0m \u001b[0;34m=\u001b[0m \u001b[0mfile_io\u001b[0m\u001b[0;34m.\u001b[0m\u001b[0mFileIO\u001b[0m\u001b[0;34m(\u001b[0m\u001b[0mfilename\u001b[0m\u001b[0;34m,\u001b[0m \u001b[0;34m\"rb\"\u001b[0m\u001b[0;34m)\u001b[0m\u001b[0;34m.\u001b[0m\u001b[0mread\u001b[0m\u001b[0;34m(\u001b[0m\u001b[0;34m)\u001b[0m\u001b[0;34m\u001b[0m\u001b[0m\n\u001b[0m\u001b[1;32m    636\u001b[0m   \u001b[0;32mtry\u001b[0m\u001b[0;34m:\u001b[0m\u001b[0;34m\u001b[0m\u001b[0m\n\u001b[1;32m    637\u001b[0m     \u001b[0mmeta_graph_def\u001b[0m\u001b[0;34m.\u001b[0m\u001b[0mParseFromString\u001b[0m\u001b[0;34m(\u001b[0m\u001b[0mfile_content\u001b[0m\u001b[0;34m)\u001b[0m\u001b[0;34m\u001b[0m\u001b[0m\n",
      "\u001b[0;32m~/jack/w266-group-project_lyric-mood-classification/.venv_w266_project/lib/python3.5/site-packages/tensorflow/python/lib/io/file_io.py\u001b[0m in \u001b[0;36mread\u001b[0;34m(self, n)\u001b[0m\n\u001b[1;32m    130\u001b[0m         \u001b[0mlength\u001b[0m \u001b[0;34m=\u001b[0m \u001b[0mn\u001b[0m\u001b[0;34m\u001b[0m\u001b[0m\n\u001b[1;32m    131\u001b[0m       return self._prepare_value(\n\u001b[0;32m--> 132\u001b[0;31m           pywrap_tensorflow.ReadFromStream(self._read_buf, length, status))\n\u001b[0m\u001b[1;32m    133\u001b[0m \u001b[0;34m\u001b[0m\u001b[0m\n\u001b[1;32m    134\u001b[0m   @deprecation.deprecated_args(\n",
      "\u001b[0;32m~/jack/w266-group-project_lyric-mood-classification/.venv_w266_project/lib/python3.5/site-packages/tensorflow/python/framework/errors_impl.py\u001b[0m in \u001b[0;36m__exit__\u001b[0;34m(self, type_arg, value_arg, traceback_arg)\u001b[0m\n\u001b[1;32m    526\u001b[0m             \u001b[0;32mNone\u001b[0m\u001b[0;34m,\u001b[0m \u001b[0;32mNone\u001b[0m\u001b[0;34m,\u001b[0m\u001b[0;34m\u001b[0m\u001b[0m\n\u001b[1;32m    527\u001b[0m             \u001b[0mcompat\u001b[0m\u001b[0;34m.\u001b[0m\u001b[0mas_text\u001b[0m\u001b[0;34m(\u001b[0m\u001b[0mc_api\u001b[0m\u001b[0;34m.\u001b[0m\u001b[0mTF_Message\u001b[0m\u001b[0;34m(\u001b[0m\u001b[0mself\u001b[0m\u001b[0;34m.\u001b[0m\u001b[0mstatus\u001b[0m\u001b[0;34m.\u001b[0m\u001b[0mstatus\u001b[0m\u001b[0;34m)\u001b[0m\u001b[0;34m)\u001b[0m\u001b[0;34m,\u001b[0m\u001b[0;34m\u001b[0m\u001b[0m\n\u001b[0;32m--> 528\u001b[0;31m             c_api.TF_GetCode(self.status.status))\n\u001b[0m\u001b[1;32m    529\u001b[0m     \u001b[0;31m# Delete the underlying status object from memory otherwise it stays alive\u001b[0m\u001b[0;34m\u001b[0m\u001b[0;34m\u001b[0m\u001b[0m\n\u001b[1;32m    530\u001b[0m     \u001b[0;31m# as there is a reference to status from this from the traceback due to\u001b[0m\u001b[0;34m\u001b[0m\u001b[0;34m\u001b[0m\u001b[0m\n",
      "\u001b[0;31mFailedPreconditionError\u001b[0m: logs/tf/runs/Em-300_FS-3-4-5_NF-300_D-0.75_L2-0.01_B-64_Ep-12_W2V-1_V-50000/checkpoints; Is a directory"
     ]
    }
   ],
   "source": [
    "import tensorflow as tf\n",
    "import os\n",
    "\n",
    "tf.reset_default_graph()  \n",
    "latest_ckp = 'logs/tf/runs/Em-300_FS-3-4-5_NF-300_D-0.75_L2-0.01_B-64_Ep-12_W2V-1_V-50000/checkpoints/'\n",
    "model_meta = \"logs/tf/runs/Em-300_FS-3-4-5_NF-300_D-0.75_L2-0.01_B-64_Ep-12_W2V-1_V-50000/checkpoints/model-7100.meta\"\n",
    "model_data = \"logs/tf/runs/Em-300_FS-3-4-5_NF-300_D-0.75_L2-0.01_B-64_Ep-12_W2V-1_V-50000/checkpoints/model-7100.data-00000-of-00001\"\n",
    "model_index = \"logs/tf/runs/Em-300_FS-3-4-5_NF-300_D-0.75_L2-0.01_B-64_Ep-12_W2V-1_V-50000/checkpoints/model-7100.index\"\n",
    "if os.path.exists(model_meta):\n",
    "    imported_meta = tf.train.import_meta_graph(model_data)\n",
    "    print('it is go time!')\n",
    "graph = tf.Graph()\n",
    "with graph.as_default():\n",
    "    with tf.Session() as sess:  \n",
    "        imported_meta.restore(sess, tf.train.latest_checkpoint(model_index))\n",
    "        #h_est2 = sess.run('hor_estimate:0')\n",
    "        #v_est2 = sess.run('ver_estimate:0')\n",
    "        #print(\"h_est: %.2f, v_est: %.2f\" % (h_est2, v_est2))\n",
    "\n",
    "        # Placeholders for input, output and dropout\n",
    "        input_x = graph.get_tensor_by_name('input_x:0')\n",
    "        input_y = graph.get_tensor_by_name('input_y')\n",
    "        dropout_keep_prob = graph.get_tensor_by_name('dropout_keep_prob')\n",
    "\n",
    "        scores = graph.get_tensor_by_name(\"scores\")\n",
    "        predictions = graph.get_tensor_by_name(\"predictions\")\n",
    "\n",
    "        sess.run(prediction, feed_dict={\n",
    "            batch_size_placeholder: some_value,\n",
    "            features_placeholder: some_other_value,\n",
    "            labels_placeholder: another_value\n",
    "        })\n",
    "\n",
    "        batch_size_placeholder = graph.get_tensor_by_name('batch_size_placeholder:0')\n",
    "        features_placeholder = graph.get_tensor_by_name('features_placeholder:0')\n",
    "        labels_placeholder = graph.get_tensor_by_name('labels_placeholder:0')\n",
    "        prediction = restored_graph.get_tensor_by_name('dense/BiasAdd:0')\n",
    "\n",
    "        self.input_x = tf.placeholder(tf.int32, [None, self.sequence_length], name=\"input_x\")\n",
    "        self.input_y = tf.placeholder(tf.float32, [None, self.num_classes], name=\"input_y\")\n",
    "        self.dropout_keep_prob = tf.placeholder(tf.float32, name=\"dropout_keep_prob\")\n",
    "\n",
    "        feed_dict = {\n",
    "            self.input_x: x_batch,\n",
    "            self.input_y: y_batch,\n",
    "            self.dropout_keep_prob: self.dropout if train_op else 1.0\n",
    "        }\n",
    "        _, step, summaries, loss, accuracy = sess.run(\n",
    "            [train_op, global_step, summary_op, self.loss, self.accuracy],\n",
    "            feed_dict)\n",
    "\n",
    "        step, summaries, loss, accuracy = sess.run(\n",
    "            [global_step, summary_op, self.loss, self.accuracy],\n",
    "            feed_dict)\n",
    "\n"
   ]
  },
  {
   "cell_type": "code",
   "execution_count": 27,
   "metadata": {},
   "outputs": [],
   "source": [
    "from tensorflow.python import pywrap_tensorflow\n",
    "import os\n",
    "\n",
    "\n",
    "checkpoint_path = model_index\n",
    "# List ALL tensors example output: v0/Adam (DT_FLOAT) [3,3,1,80]\n",
    "print_tensors_in_checkpoint_file(file_name=checkpoint_path, all_tensors=True, tensor_name='')\n",
    "\n",
    "# List contents of v0 tensor.\n",
    "# Example output: tensor_name:  v0 [[[[  9.27958265e-02   7.40226209e-02   4.52989563e-02   3.15700471e-02\n",
    "print_tensors_in_checkpoint_file(file_name=checkpoint_path, all_tensors=True, tensor_name='v0')\n",
    "\n",
    "# List contents of v1 tensor.\n",
    "print_tensors_in_checkpoint_file(file_name=checkpoint_path, all_tensors=True, tensor_name='v1')\n",
    "\n",
    "reader = pywrap_tensorflow.NewCheckpointReader(model_index)\n",
    "var_to_shape_map = reader.get_variable_to_shape_map()\n",
    "\n",
    "for key in var_to_shape_map:\n",
    "    print(\"tensor_name: \", key)\n",
    "    print(reader.get_tensor(key)) # Remove this is you want to print only variable names"
   ]
  },
  {
   "cell_type": "code",
   "execution_count": null,
   "metadata": {},
   "outputs": [],
   "source": []
  }
 ],
 "metadata": {
  "kernelspec": {
   "display_name": ".venv_w266_project",
   "language": "python",
   "name": ".venv_w266_project"
  },
  "language_info": {
   "codemirror_mode": {
    "name": "ipython",
    "version": 3
   },
   "file_extension": ".py",
   "mimetype": "text/x-python",
   "name": "python",
   "nbconvert_exporter": "python",
   "pygments_lexer": "ipython3",
   "version": "3.5.2"
  }
 },
 "nbformat": 4,
 "nbformat_minor": 2
}
