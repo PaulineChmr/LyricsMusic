{
 "cells": [
  {
   "cell_type": "markdown",
   "metadata": {},
   "source": [
    "# Lyric Mood Classification - Baselines\n",
    "\n",
    "In this notebook, we establish baseline classification accuracies from several common classification strategies:\n",
    "* Most-Common-Case\n",
    "* Multinomial Naive-Bayes (NB)\n",
    "* Support Vector Machines (SVM)\n",
    "\n",
    "For each of the above, we baseline with several forms of input:\n",
    "* Unequalized Moods\n",
    "* Unequalized Mood Quadrants\n",
    "* Equalized Moods\n",
    "* Equalized Mood Quadrants\n",
    "* Equalized Training Moods, Unequalized Test Moods\n",
    "* Equalized Training Mood Quadrants, Unequalized Test Mood Quadrants\n",
    "\n",
    "Where \"unequalized\" vs \"equalized\" refers to oversampling the under represented mood categories to create a more evenly distributed dataset and \"quadrants\" refers to grouping the categories into four quadrants to eliminate overlap between the moods.\n",
    "\n",
    "We will use these baselines to compare to our CNN for mood classification."
   ]
  },
  {
   "cell_type": "code",
   "execution_count": 69,
   "metadata": {},
   "outputs": [],
   "source": [
    "# Project Imports\n",
    "from label_lyrics import CSV_LABELED_LYRICS_EXPANDED\n",
    "from mood_classification import build_lyrics_dataset, split_data, split_x_y, pad_data\n",
    "\n",
    "# Python and Package Imports\n",
    "from sklearn.feature_extraction.text import CountVectorizer\n",
    "from sklearn.feature_extraction.text import TfidfTransformer\n",
    "from nltk import WordPunctTokenizer, word_tokenize\n",
    "from sklearn.linear_model import SGDClassifier\n",
    "from sklearn.naive_bayes import MultinomialNB\n",
    "import matplotlib.pyplot as plt\n",
    "import pandas as pd\n",
    "import numpy as np\n",
    "\n",
    "%matplotlib inline"
   ]
  },
  {
   "cell_type": "code",
   "execution_count": 70,
   "metadata": {},
   "outputs": [],
   "source": [
    "# Helpers\n",
    "def pprint_accuracy(acc):\n",
    "    return '{0:.02f}%'.format(acc * 100)"
   ]
  },
  {
   "cell_type": "markdown",
   "metadata": {},
   "source": [
    "## Baselining Functions\n",
    "\n",
    "Here we define functions for each classifier to be used in the following sections that vary based on form of data input."
   ]
  },
  {
   "cell_type": "code",
   "execution_count": 71,
   "metadata": {},
   "outputs": [],
   "source": [
    "def _most_common_case_accuracy(x, y):\n",
    "    total_count = len(x)\n",
    "    common_count = pd.Series(y).value_counts().max()\n",
    "    accuracy = common_count / total_count\n",
    "    return accuracy\n",
    "    \n",
    "def most_common_case_classification(df_train, df_dev, df_test):\n",
    "    train_acc = _most_common_case_accuracy(df_train.lyrics_filename, df_train.mood) \n",
    "    dev_acc = _most_common_case_accuracy(df_dev.lyrics_filename, df_dev.mood)\n",
    "    test_acc = _most_common_case_accuracy(df_test.lyrics_filename, df_test.mood)\n",
    "    print('Most-Common-Case Classifier Train Accuracy:', pprint_accuracy(train_acc))\n",
    "    print('Most-Common-Case Classifier Dev Accuracy:', pprint_accuracy(dev_acc))\n",
    "    print('Most-Common-Case Classifier Test Accuracy:', pprint_accuracy(test_acc))\n"
   ]
  },
  {
   "cell_type": "code",
   "execution_count": 72,
   "metadata": {},
   "outputs": [],
   "source": [
    "from sklearn.feature_extraction.text import CountVectorizer\n",
    "from sklearn.feature_extraction.text import TfidfTransformer\n",
    "from sklearn.naive_bayes import MultinomialNB\n",
    "\n",
    "def _prep_lyrics_for_nb(lyrics_series, count_vect=None, tfidf_transformer=None):\n",
    "   # thank you: https://scikit-learn.org/stable/tutorial/text_analytics/working_with_text_data.html\n",
    "    if not count_vect:\n",
    "        count_vect = CountVectorizer()\n",
    "        count_vect = count_vect.fit(lyrics_series)\n",
    "    x_train_counts = count_vect.transform(lyrics_series)\n",
    "    if not tfidf_transformer:\n",
    "        tfidf_transformer = TfidfTransformer()\n",
    "        tfidf_transformer = tfidf_transformer.fit(x_train_counts)\n",
    "    x_train_tfidf = tfidf_transformer.fit_transform(x_train_counts)\n",
    "    return count_vect, x_train_counts, tfidf_transformer, x_train_tfidf\n",
    "\n",
    "def prep_lyrics_for_nb(train_lyrics, dev_lyrics, test_lyrics):\n",
    "    # convert lyrics to counts and term-frequencies\n",
    "    count_vect, x_train_counts, tfidf_transformer, x_train_tfidf = _prep_lyrics_for_nb(train_lyrics)\n",
    "    #print(x_train_tfidf.shape)\n",
    "    _, x_dev_counts, _, x_dev_tfidf = _prep_lyrics_for_nb(dev_lyrics, count_vect, tfidf_transformer)\n",
    "    #print(x_dev_tfidf.shape)\n",
    "    _, x_test_counts, _, x_test_tfidf = _prep_lyrics_for_nb(test_lyrics, count_vect, tfidf_transformer)\n",
    "    #print(x_test_tfidf.shape)\n",
    "    return x_train_tfidf, x_dev_tfidf, x_test_tfidf\n",
    "\n",
    "def nb_classification(train_lyrics, y_train, dev_lyrics, y_dev, test_lyrics, y_test):\n",
    "    x_train_tfidf, x_dev_tfidf, x_test_tfidf = prep_lyrics_for_nb(train_lyrics, dev_lyrics, test_lyrics)\n",
    "    clf = MultinomialNB().fit(x_train_tfidf, y_train.astype('int')) \n",
    "    dev_acc = clf.score(x_dev_tfidf, y_dev.astype('int'))\n",
    "    print('Naive Bayes Classifier Dev Accuracy:', pprint_accuracy(dev_acc))\n",
    "    test_acc = clf.score(x_test_tfidf, y_test.astype('int'))\n",
    "    print('Naive Bayes Classifier Test Accuracy:', pprint_accuracy(test_acc))"
   ]
  },
  {
   "cell_type": "code",
   "execution_count": 73,
   "metadata": {},
   "outputs": [],
   "source": [
    "def svm_classification(train_lyrics, y_train, dev_lyrics, y_dev, test_lyrics, y_test):\n",
    "    x_train_tfidf, x_dev_tfidf, x_test_tfidf = prep_lyrics_for_nb(train_lyrics, dev_lyrics, test_lyrics)\n",
    "    clf = SGDClassifier(loss='hinge', penalty='l2', alpha=1e-3, random_state=42,\n",
    "                max_iter=5, tol=None).fit(x_train_tfidf, y_train.astype('int'))\n",
    "    dev_acc = clf.score(x_dev_tfidf, y_dev.astype('int'))\n",
    "    print('SVM Classifier Dev Accuracy:', pprint_accuracy(dev_acc))\n",
    "    test_acc = clf.score(x_test_tfidf, y_test.astype('int'))\n",
    "    print('SVM Classifier Test Accuracy:', pprint_accuracy(test_acc))"
   ]
  },
  {
   "cell_type": "code",
   "execution_count": 75,
   "metadata": {},
   "outputs": [],
   "source": [
    "def get_and_plot_x_y_data(quadrants, pad_data, pad_train_only=False):\n",
    "    print('building dataset')\n",
    "    df = build_lyrics_dataset(\n",
    "        CSV_LABELED_LYRICS_EXPANDED,\n",
    "        word_tokenize,\n",
    "        quadrants=quadrants,\n",
    "        pad_data_flag=pad_data and not pad_train_only)\n",
    "\n",
    "    print('plotting moods')\n",
    "    _ = df.mood.value_counts().plot(kind='bar', title='mood counts')\n",
    "\n",
    "    print('splitting data')\n",
    "    df_train, df_dev, df_test = split_data(df)\n",
    "    \n",
    "    if pad_data and pad_train_only:\n",
    "        print('padding train data')\n",
    "        df_train = pad_data(df_train)\n",
    "    \n",
    "    _ = df_train.mood.value_counts().plot(kind='bar', title='train data mood counts')\n",
    "    _ = df_dev.mood.value_counts().plot(kind='bar', title='dev data mood counts')\n",
    "    _ = df_test.mood.value_counts().plot(kind='bar', title='test data mood counts')\n",
    "\n",
    "    x_train, y_train, x_dev, y_dev, x_test, y_test = split_x_y(\n",
    "        df_train, df_dev, df_test, x_col='preprocessed_lyrics')\n",
    "\n",
    "    print('***\\nMost-Common-Case\\n')\n",
    "    most_common_case_classification(\n",
    "        df_train,\n",
    "        df_dev,\n",
    "        df_test)\n",
    "    print('***\\nMultinomial Naive-Bayes\\n')\n",
    "    nb_classification(\n",
    "        df_train.lyrics, df_train.mood_cats,\n",
    "        df_dev.lyrics, df_dev.mood_cats,\n",
    "        df_test.lyrics, df_test.mood_cats)\n",
    "    print('***\\nSupport Vector Machines\\n')\n",
    "    svm_classification(\n",
    "        df_train.lyrics, df_train.mood_cats,\n",
    "        df_dev.lyrics, df_dev.mood_cats,\n",
    "        df_test.lyrics, df_test.mood_cats)\n"
   ]
  },
  {
   "cell_type": "markdown",
   "metadata": {},
   "source": [
    "## Unequalized Moods\n"
   ]
  },
  {
   "cell_type": "code",
   "execution_count": 46,
   "metadata": {},
   "outputs": [
    {
     "name": "stdout",
     "output_type": "stream",
     "text": [
      "building dataset\n",
      "plotting moods\n",
      "splitting data\n",
      "***\n",
      "Most-Common-Case\n",
      "\n",
      "Most-Common-Case Classifier Train Accuracy: 40.07%\n",
      "Most-Common-Case Classifier Dev Accuracy: 39.36%\n",
      "Most-Common-Case Classifier Test Accuracy: 39.81%\n",
      "***\n",
      "Multinomial Naive-Bayes\n",
      "\n",
      "Naive Bayes Classifier Dev Accuracy: 39.67%\n",
      "Naive Bayes Classifier Test Accuracy: 39.93%\n",
      "***\n",
      "Support Vector Machines\n",
      "\n",
      "SVM Classifier Dev Accuracy: 45.41%\n",
      "SVM Classifier Test Accuracy: 44.88%\n"
     ]
    },
    {
     "data": {
      "image/png": "[encoded data removed]",
      "text/plain": [
       "<Figure size 432x288 with 1 Axes>"
      ]
     },
     "metadata": {
      "needs_background": "light"
     },
     "output_type": "display_data"
    }
   ],
   "source": [
    "get_and_plot_x_y_data(quadrants=False, pad_data=False)"
   ]
  },
  {
   "cell_type": "markdown",
   "metadata": {},
   "source": [
    "## Unequalized Moods Quadrants"
   ]
  },
  {
   "cell_type": "code",
   "execution_count": 47,
   "metadata": {},
   "outputs": [
    {
     "name": "stdout",
     "output_type": "stream",
     "text": [
      "building dataset\n",
      "plotting moods\n",
      "splitting data\n",
      "***\n",
      "Most-Common-Case\n",
      "\n",
      "Most-Common-Case Classifier Train Accuracy: 42.87%\n",
      "Most-Common-Case Classifier Dev Accuracy: 42.78%\n",
      "Most-Common-Case Classifier Test Accuracy: 43.61%\n",
      "***\n",
      "Multinomial Naive-Bayes\n",
      "\n",
      "Naive Bayes Classifier Dev Accuracy: 45.95%\n",
      "Naive Bayes Classifier Test Accuracy: 46.78%\n",
      "***\n",
      "Support Vector Machines\n",
      "\n",
      "SVM Classifier Dev Accuracy: 51.29%\n",
      "SVM Classifier Test Accuracy: 50.95%\n"
     ]
    },
    {
     "data": {
      "image/png": "[encoded data removed]",
      "text/plain": [
       "<Figure size 432x288 with 1 Axes>"
      ]
     },
     "metadata": {
      "needs_background": "light"
     },
     "output_type": "display_data"
    }
   ],
   "source": [
    "get_and_plot_x_y_data(quadrants=True, pad_data=False)"
   ]
  },
  {
   "cell_type": "markdown",
   "metadata": {},
   "source": [
    "## Equalized Moods"
   ]
  },
  {
   "cell_type": "code",
   "execution_count": 67,
   "metadata": {},
   "outputs": [
    {
     "name": "stdout",
     "output_type": "stream",
     "text": [
      "building dataset\n",
      "plotting moods\n",
      "splitting data\n",
      "***\n",
      "Most-Common-Case\n",
      "\n",
      "Most-Common-Case Classifier Train Accuracy: 5.59%\n",
      "Most-Common-Case Classifier Dev Accuracy: 5.69%\n",
      "Most-Common-Case Classifier Test Accuracy: 5.75%\n",
      "***\n",
      "Multinomial Naive-Bayes\n",
      "\n",
      "Naive Bayes Classifier Dev Accuracy: 74.74%\n",
      "Naive Bayes Classifier Test Accuracy: 74.63%\n",
      "***\n",
      "Support Vector Machines\n",
      "\n",
      "SVM Classifier Dev Accuracy: 67.35%\n",
      "SVM Classifier Test Accuracy: 67.28%\n"
     ]
    },
    {
     "data": {
      "image/png": "[encoded data removed]",
      "text/plain": [
       "<Figure size 432x288 with 1 Axes>"
      ]
     },
     "metadata": {
      "needs_background": "light"
     },
     "output_type": "display_data"
    }
   ],
   "source": [
    "get_and_plot_x_y_data(quadrants=False, pad_data=True)"
   ]
  },
  {
   "cell_type": "markdown",
   "metadata": {},
   "source": [
    "## Equalized Mood Quadrants"
   ]
  },
  {
   "cell_type": "code",
   "execution_count": 68,
   "metadata": {},
   "outputs": [
    {
     "name": "stdout",
     "output_type": "stream",
     "text": [
      "building dataset\n",
      "plotting moods\n",
      "splitting data\n",
      "***\n",
      "Most-Common-Case\n",
      "\n",
      "Most-Common-Case Classifier Train Accuracy: 25.13%\n",
      "Most-Common-Case Classifier Dev Accuracy: 25.34%\n",
      "Most-Common-Case Classifier Test Accuracy: 25.34%\n",
      "***\n",
      "Multinomial Naive-Bayes\n",
      "\n",
      "Naive Bayes Classifier Dev Accuracy: 55.32%\n",
      "Naive Bayes Classifier Test Accuracy: 55.19%\n",
      "***\n",
      "Support Vector Machines\n",
      "\n",
      "SVM Classifier Dev Accuracy: 54.28%\n",
      "SVM Classifier Test Accuracy: 54.07%\n"
     ]
    },
    {
     "data": {
      "image/png": "[encoded data removed]",
      "text/plain": [
       "<Figure size 432x288 with 1 Axes>"
      ]
     },
     "metadata": {
      "needs_background": "light"
     },
     "output_type": "display_data"
    }
   ],
   "source": [
    "get_and_plot_x_y_data(quadrants=True, pad_data=True)"
   ]
  },
  {
   "cell_type": "markdown",
   "metadata": {},
   "source": [
    "# Equalized Training Moods, Unequalized Test Moods"
   ]
  },
  {
   "cell_type": "code",
   "execution_count": null,
   "metadata": {},
   "outputs": [],
   "source": [
    "get_and_plot_x_y_data(quadrants=False, pad_data=True, pad_train_only=True)"
   ]
  },
  {
   "cell_type": "markdown",
   "metadata": {},
   "source": [
    "# Unequalized Training Mood Quadrants, Unequalized Test Mood Quadrants"
   ]
  },
  {
   "cell_type": "code",
   "execution_count": null,
   "metadata": {},
   "outputs": [],
   "source": []
  }
 ],
 "metadata": {
  "kernelspec": {
   "display_name": ".venv_w266_project",
   "language": "python",
   "name": ".venv_w266_project"
  },
  "language_info": {
   "codemirror_mode": {
    "name": "ipython",
    "version": 3
   },
   "file_extension": ".py",
   "mimetype": "text/x-python",
   "name": "python",
   "nbconvert_exporter": "python",
   "pygments_lexer": "ipython3",
   "version": "3.5.2"
  }
 },
 "nbformat": 4,
 "nbformat_minor": 2
}
