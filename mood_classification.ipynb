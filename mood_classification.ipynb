{
 "cells": [
  {
   "cell_type": "markdown",
   "metadata": {},
   "source": [
    "# Lyric Mood Classification - Mood Classification\n",
    "\n",
    "In the [word_embeddings](word_embeddings.ipynb) notebook, we demonstrated our embeddings model based on word2vec. In this notebook, we use those embeddings to produce real classification results with a neural network.\n",
    "\n",
    "First, we split our labeled data into the classic train-dev-test split.\n",
    "\n",
    "Second, we establish a baseline classification with simple classifiers.\n",
    "\n",
    "Third, we demonstrate our neural network architecture and model for mood classification."
   ]
  },
  {
   "cell_type": "code",
   "execution_count": 153,
   "metadata": {},
   "outputs": [],
   "source": [
    "import os\n",
    "import collections\n",
    "import time\n",
    "import pandas as pd\n",
    "import numpy as np\n",
    "import string\n",
    "import random\n",
    "import tensorflow as tf\n",
    "from tensorflow.contrib.tensorboard.plugins import projector\n",
    "from sklearn.model_selection import train_test_split\n",
    "%matplotlib inline\n",
    "import matplotlib.pyplot as plt\n",
    "\n",
    "from index_lyrics import read_file_contents\n",
    "from label_lyrics import CSV_LABELED_LYRICS\n",
    "from scrape_lyrics import LYRICS_TXT_DIR\n",
    "\n",
    "import math"
   ]
  },
  {
   "cell_type": "markdown",
   "metadata": {},
   "source": [
    "## Dataset\n",
    "\n",
    "The dataset consists of a large number of text files where each file represents a different song. The songs are indexed by a csv file produced by `label_lyrics.py`. We can use the index to retrieve a song's lyrics and observe its matched mood.\n",
    "\n",
    "We drop all songs that are not english, do not have lyrics available, and do not have a matched mood as classifying across languages is out of scope of this project and no classification can be done on a song without lyrics or without a matched mood."
   ]
  },
  {
   "cell_type": "code",
   "execution_count": 154,
   "metadata": {},
   "outputs": [
    {
     "data": {
      "text/plain": [
       "Index(['msd_id', 'msd_artist', 'msd_title', 'is_english', 'lyrics_available',\n",
       "       'wordcount', 'lyrics_filename', 'mood', 'found_tags', 'matched_mood'],\n",
       "      dtype='object')"
      ]
     },
     "execution_count": 154,
     "metadata": {},
     "output_type": "execute_result"
    }
   ],
   "source": [
    "# we leave out the musixmatch id, artist, and title cols\n",
    "df = pd.read_csv(CSV_LABELED_LYRICS, usecols=['msd_id', 'msd_artist', 'msd_title', 'is_english', 'lyrics_available', 'wordcount', 'lyrics_filename', 'mood', 'found_tags', 'matched_mood'])\n",
    "df.columns"
   ]
  },
  {
   "cell_type": "code",
   "execution_count": 155,
   "metadata": {},
   "outputs": [
    {
     "name": "stdout",
     "output_type": "stream",
     "text": [
      "Df shape: (779056, 10)\n"
     ]
    },
    {
     "data": {
      "text/html": [
       "<div>\n",
       "<style scoped>\n",
       "    .dataframe tbody tr th:only-of-type {\n",
       "        vertical-align: middle;\n",
       "    }\n",
       "\n",
       "    .dataframe tbody tr th {\n",
       "        vertical-align: top;\n",
       "    }\n",
       "\n",
       "    .dataframe thead th {\n",
       "        text-align: right;\n",
       "    }\n",
       "</style>\n",
       "<table border=\"1\" class=\"dataframe\">\n",
       "  <thead>\n",
       "    <tr style=\"text-align: right;\">\n",
       "      <th></th>\n",
       "      <th>is_english</th>\n",
       "      <th>lyrics_available</th>\n",
       "      <th>wordcount</th>\n",
       "      <th>found_tags</th>\n",
       "      <th>matched_mood</th>\n",
       "    </tr>\n",
       "  </thead>\n",
       "  <tbody>\n",
       "    <tr>\n",
       "      <th>count</th>\n",
       "      <td>779056.000000</td>\n",
       "      <td>779056.000000</td>\n",
       "      <td>779056.000000</td>\n",
       "      <td>779056.000000</td>\n",
       "      <td>779056.000000</td>\n",
       "    </tr>\n",
       "    <tr>\n",
       "      <th>mean</th>\n",
       "      <td>0.342566</td>\n",
       "      <td>0.420039</td>\n",
       "      <td>87.716389</td>\n",
       "      <td>5.870052</td>\n",
       "      <td>-0.611558</td>\n",
       "    </tr>\n",
       "    <tr>\n",
       "      <th>std</th>\n",
       "      <td>0.474571</td>\n",
       "      <td>0.493565</td>\n",
       "      <td>141.151970</td>\n",
       "      <td>19.502538</td>\n",
       "      <td>0.574065</td>\n",
       "    </tr>\n",
       "    <tr>\n",
       "      <th>min</th>\n",
       "      <td>-1.000000</td>\n",
       "      <td>0.000000</td>\n",
       "      <td>-1.000000</td>\n",
       "      <td>-1.000000</td>\n",
       "      <td>-1.000000</td>\n",
       "    </tr>\n",
       "    <tr>\n",
       "      <th>25%</th>\n",
       "      <td>0.000000</td>\n",
       "      <td>0.000000</td>\n",
       "      <td>0.000000</td>\n",
       "      <td>-1.000000</td>\n",
       "      <td>-1.000000</td>\n",
       "    </tr>\n",
       "    <tr>\n",
       "      <th>50%</th>\n",
       "      <td>0.000000</td>\n",
       "      <td>0.000000</td>\n",
       "      <td>0.000000</td>\n",
       "      <td>-1.000000</td>\n",
       "      <td>-1.000000</td>\n",
       "    </tr>\n",
       "    <tr>\n",
       "      <th>75%</th>\n",
       "      <td>1.000000</td>\n",
       "      <td>1.000000</td>\n",
       "      <td>161.000000</td>\n",
       "      <td>1.000000</td>\n",
       "      <td>0.000000</td>\n",
       "    </tr>\n",
       "    <tr>\n",
       "      <th>max</th>\n",
       "      <td>1.000000</td>\n",
       "      <td>1.000000</td>\n",
       "      <td>8623.000000</td>\n",
       "      <td>100.000000</td>\n",
       "      <td>1.000000</td>\n",
       "    </tr>\n",
       "  </tbody>\n",
       "</table>\n",
       "</div>"
      ],
      "text/plain": [
       "          is_english  lyrics_available      wordcount     found_tags  \\\n",
       "count  779056.000000     779056.000000  779056.000000  779056.000000   \n",
       "mean        0.342566          0.420039      87.716389       5.870052   \n",
       "std         0.474571          0.493565     141.151970      19.502538   \n",
       "min        -1.000000          0.000000      -1.000000      -1.000000   \n",
       "25%         0.000000          0.000000       0.000000      -1.000000   \n",
       "50%         0.000000          0.000000       0.000000      -1.000000   \n",
       "75%         1.000000          1.000000     161.000000       1.000000   \n",
       "max         1.000000          1.000000    8623.000000     100.000000   \n",
       "\n",
       "        matched_mood  \n",
       "count  779056.000000  \n",
       "mean       -0.611558  \n",
       "std         0.574065  \n",
       "min        -1.000000  \n",
       "25%        -1.000000  \n",
       "50%        -1.000000  \n",
       "75%         0.000000  \n",
       "max         1.000000  "
      ]
     },
     "execution_count": 155,
     "metadata": {},
     "output_type": "execute_result"
    }
   ],
   "source": [
    "print('Df shape:', df.shape)\n",
    "df.describe()"
   ]
  },
  {
   "cell_type": "code",
   "execution_count": 156,
   "metadata": {},
   "outputs": [
    {
     "name": "stdout",
     "output_type": "stream",
     "text": [
      "After is_english filter: (266879, 10)\n",
      "After lyrics_available filter: (266783, 10)\n",
      "After matched_mood filter: (35835, 10)\n"
     ]
    }
   ],
   "source": [
    "df = df[df.is_english == 1]\n",
    "print('After is_english filter:', df.shape)\n",
    "df = df[df.lyrics_available == 1]\n",
    "print('After lyrics_available filter:', df.shape)\n",
    "df = df[df.matched_mood == 1]\n",
    "print('After matched_mood filter:', df.shape)"
   ]
  },
  {
   "cell_type": "code",
   "execution_count": 157,
   "metadata": {},
   "outputs": [],
   "source": [
    "# remove no longer needed columns to conserve memory\n",
    "df = df.drop(['is_english', 'lyrics_available', 'matched_mood'], axis=1)"
   ]
  },
  {
   "cell_type": "code",
   "execution_count": 158,
   "metadata": {},
   "outputs": [
    {
     "name": "stdout",
     "output_type": "stream",
     "text": [
      "[ 7  2 14 16  3 15 10  0  4 12  1 11  5  8  9 13  6]\n",
      "(35835, 8)\n"
     ]
    }
   ],
   "source": [
    "# create a categorical data column for moods\n",
    "# thank you: https://stackoverflow.com/questions/38088652/pandas-convert-categories-to-numbers\n",
    "df.mood = pd.Categorical(df.mood)\n",
    "df['mood_cats'] = df.mood.cat.codes\n",
    "print(df['mood_cats'].unique())\n",
    "print(df.shape)"
   ]
  },
  {
   "cell_type": "code",
   "execution_count": 174,
   "metadata": {},
   "outputs": [
    {
     "data": {
      "text/plain": [
       "7     Electro eroticism\\nIntelligence is sexy\\nElect...\n",
       "19    I'm in the dark, I'd like to read his mind\\nBu...\n",
       "27    I'm in the dark, I'd like to read his mind\\nBu...\n",
       "28    One night in Iowa, he and I in a borrowed car\\...\n",
       "32    Shall we agree that just this once\\nI'm gonna ...\n",
       "Name: lyrics, dtype: object"
      ]
     },
     "execution_count": 174,
     "metadata": {},
     "output_type": "execute_result"
    }
   ],
   "source": [
    "# read in the lyrics of each song\n",
    "def extract_lyrics(lyrics_filepath):\n",
    "    lyrics = ''\n",
    "    if os.path.exists(lyrics_filepath):\n",
    "        lyrics = read_file_contents(lyrics_filepath)[0]\n",
    "    return lyrics\n",
    "\n",
    "def make_lyrics_txt_path(lyrics_filename):\n",
    "    return os.path.join(LYRICS_TXT_DIR, lyrics_filename) + '.txt'\n",
    "\n",
    "# here we make use of panda's apply function to parallelize the IO operation\n",
    "df['lyrics'] = df.lyrics_filename.apply(lambda x: extract_lyrics(make_lyrics_txt_path(x)))\n",
    "df.lyrics.head()"
   ]
  },
  {
   "cell_type": "code",
   "execution_count": 175,
   "metadata": {},
   "outputs": [
    {
     "name": "stdout",
     "output_type": "stream",
     "text": [
      "The final number of songs with a matched mood: 35835\n"
     ]
    },
    {
     "data": {
      "image/png": "[encoded data removed]",
      "text/plain": [
       "<Figure size 432x288 with 1 Axes>"
      ]
     },
     "metadata": {
      "needs_background": "light"
     },
     "output_type": "display_data"
    }
   ],
   "source": [
    "print('The final number of songs with a matched mood:', df.shape[0])\n",
    "_ = df.mood.value_counts().plot(kind='bar')"
   ]
  },
  {
   "cell_type": "markdown",
   "metadata": {},
   "source": [
    "## Train, Dev, & Test\n",
    "\n",
    "With our dataset index in hand, we are prepared to split the data."
   ]
  },
  {
   "cell_type": "code",
   "execution_count": 194,
   "metadata": {},
   "outputs": [],
   "source": [
    "# thank you: https://stackoverflow.com/questions/38250710/how-to-split-data-into-3-sets-train-validation-and-test/38251213#38251213\n",
    "# optional random dataframe shuffle\n",
    "#df = df.reindex(np.random.permutation(df.index))\n",
    "np.random.seed(12)\n",
    "def split_data(data):\n",
    "    return np.split(data.sample(frac=1), [int(.6*len(data)), int(.8*len(data))])\n",
    "\n",
    "df_train, df_dev, df_test = split_data(df)"
   ]
  },
  {
   "cell_type": "code",
   "execution_count": 195,
   "metadata": {},
   "outputs": [
    {
     "name": "stdout",
     "output_type": "stream",
     "text": [
      "Train: (21501, 9)\n",
      "Dev: (7167, 9)\n",
      "Test: (7167, 9)\n"
     ]
    }
   ],
   "source": [
    "print('Train:', df_train.shape)\n",
    "print('Dev:', df_dev.shape)\n",
    "print('Test:', df_test.shape)"
   ]
  },
  {
   "cell_type": "code",
   "execution_count": 178,
   "metadata": {},
   "outputs": [
    {
     "data": {
      "image/png": "[encoded data removed]",
      "text/plain": [
       "<Figure size 432x288 with 1 Axes>"
      ]
     },
     "metadata": {
      "needs_background": "light"
     },
     "output_type": "display_data"
    }
   ],
   "source": [
    "# thank you: https://stackoverflow.com/questions/14992644/turn-pandas-dataframe-of-strings-into-histogram\n",
    "_ = df_train.mood.value_counts().plot(kind='bar', title='Train Dataset Mood Distribution')"
   ]
  },
  {
   "cell_type": "code",
   "execution_count": 179,
   "metadata": {},
   "outputs": [
    {
     "data": {
      "image/png": "[encoded data removed]",
      "text/plain": [
       "<Figure size 432x288 with 1 Axes>"
      ]
     },
     "metadata": {
      "needs_background": "light"
     },
     "output_type": "display_data"
    }
   ],
   "source": [
    "_ = df_dev.mood.value_counts().plot(kind='bar', title='Dev Dataset Mood Distribution')"
   ]
  },
  {
   "cell_type": "code",
   "execution_count": 180,
   "metadata": {},
   "outputs": [
    {
     "data": {
      "image/png": "[encoded data removed]",
      "text/plain": [
       "<Figure size 432x288 with 1 Axes>"
      ]
     },
     "metadata": {
      "needs_background": "light"
     },
     "output_type": "display_data"
    }
   ],
   "source": [
    "_ = df_test.mood.value_counts().plot(kind='bar', title='Test Dataset Mood Distribution')"
   ]
  },
  {
   "cell_type": "markdown",
   "metadata": {},
   "source": [
    "## Baselines"
   ]
  },
  {
   "cell_type": "markdown",
   "metadata": {},
   "source": [
    "### Most-Common-Case Classification"
   ]
  },
  {
   "cell_type": "code",
   "execution_count": 181,
   "metadata": {},
   "outputs": [],
   "source": [
    "def pprint_accuracy(acc):\n",
    "    return '{0:.02f}%'.format(acc * 100)\n",
    "\n",
    "def most_common_case_classification(x, y):\n",
    "    assert len(x) == len(y)\n",
    "    total_count = len(x)\n",
    "    common_count = y.value_counts().max()\n",
    "    accuracy = common_count / total_count\n",
    "    return accuracy"
   ]
  },
  {
   "cell_type": "code",
   "execution_count": 182,
   "metadata": {},
   "outputs": [
    {
     "name": "stdout",
     "output_type": "stream",
     "text": [
      "The most common case for each dataset split is\n",
      "\tTrain: sad\n",
      "\tDev: sad\n",
      "\tTest: sad\n",
      "The accuracy of the most-common-case classifier for each dataset split is\n",
      "\tTrain: 27.02%\n",
      "\tDev: 26.11%\n",
      "\tTest: 26.34%\n"
     ]
    }
   ],
   "source": [
    "print('The most common case for each dataset split is')\n",
    "print('\\tTrain:', df_train.mood.value_counts().idxmax())\n",
    "print('\\tDev:', df_dev.mood.value_counts().idxmax())\n",
    "print('\\tTest:', df_test.mood.value_counts().idxmax())\n",
    "#df_test.loc[df_test.mood_classes.idxmax()].mood\n",
    "print('The accuracy of the most-common-case classifier for each dataset split is')\n",
    "print('\\tTrain:', pprint_accuracy(most_common_case_classification(df_train.lyrics_filename, df_train.mood)))\n",
    "print('\\tDev:', pprint_accuracy(most_common_case_classification(df_dev.lyrics_filename, df_dev.mood)))\n",
    "print('\\tTest:', pprint_accuracy(most_common_case_classification(df_test.lyrics_filename, df_test.mood)))\n"
   ]
  },
  {
   "cell_type": "markdown",
   "metadata": {},
   "source": [
    "### Naive-Bayes Classification\n",
    "\n",
    "The Naive-Bayes Classifier will require the actual lyrical text for classification, so we begin by reading into memory the text for each song in our dataset.\n",
    "\n",
    "Once we have the lyrics, we use the python sklearn package to vectorize and process the lyrical text, fit the Naive Bayes Classifier, and compute the accuracy."
   ]
  },
  {
   "cell_type": "code",
   "execution_count": 198,
   "metadata": {},
   "outputs": [
    {
     "name": "stdout",
     "output_type": "stream",
     "text": [
      "(21501, 42154)\n",
      "(7167, 42154)\n",
      "(7167, 42154)\n"
     ]
    }
   ],
   "source": [
    "from sklearn.feature_extraction.text import CountVectorizer\n",
    "from sklearn.feature_extraction.text import TfidfTransformer\n",
    "from sklearn.naive_bayes import MultinomialNB\n",
    "\n",
    "def prep_lyrics_for_nb(lyrics_series, count_vect=None, tfidf_transformer=None):\n",
    "   # thank you: https://scikit-learn.org/stable/tutorial/text_analytics/working_with_text_data.html\n",
    "    if not count_vect:\n",
    "        count_vect = CountVectorizer()\n",
    "        count_vect = count_vect.fit(lyrics_series)\n",
    "    x_train_counts = count_vect.transform(lyrics_series)\n",
    "    if not tfidf_transformer:\n",
    "        tfidf_transformer = TfidfTransformer()\n",
    "        tfidf_transformer = tfidf_transformer.fit(x_train_counts)\n",
    "    x_train_tfidf = tfidf_transformer.fit_transform(x_train_counts)\n",
    "    return count_vect, tfidf_transformer, x_train_tfidf\n",
    "\n",
    "# convert lyrics to counts and term-frequencies\n",
    "count_vect, tfidf_transformer, x_train_tfidf = prep_lyrics_for_nb(df_train.lyrics)\n",
    "print(x_train_tfidf.shape)\n",
    "_, _, x_dev_tfidf = prep_lyrics_for_nb(df_dev.lyrics, count_vect, tfidf_transformer)\n",
    "print(x_dev_tfidf.shape)\n",
    "_, _, x_test_tfidf = prep_lyrics_for_nb(df_test.lyrics, count_vect, tfidf_transformer)\n",
    "print(x_test_tfidf.shape)"
   ]
  },
  {
   "cell_type": "code",
   "execution_count": 201,
   "metadata": {},
   "outputs": [
    {
     "name": "stdout",
     "output_type": "stream",
     "text": [
      "Naive Bayes Classifier Dev Accuracy: 29.64%\n",
      "Naive Bayes Classifier Dev Accuracy: 30.25%\n"
     ]
    }
   ],
   "source": [
    "clf = MultinomialNB().fit(x_train_tfidf, df_train.mood_cats) \n",
    "dev_acc = clf.score(x_dev_tfidf, df_dev.mood_cats)\n",
    "print('Naive Bayes Classifier Dev Accuracy:', pprint_accuracy(dev_acc))\n",
    "test_acc = clf.score(x_test_tfidf, df_test.mood_cats)\n",
    "print('Naive Bayes Classifier Dev Accuracy:', pprint_accuracy(test_acc))"
   ]
  },
  {
   "cell_type": "code",
   "execution_count": 188,
   "metadata": {
    "collapsed": true
   },
   "outputs": [
    {
     "ename": "ValueError",
     "evalue": "could not convert string to float: \"When I was just a little girl\\nI asked my mother\\nWhat will I be?\\nWill I be pretty?\\nWill I be rich?\\nHere's what she said to me....\\nQue sera sera\\nWhatever will be, will be\\nThe future's not ours to see\\nQue sera sera\\nWhen I grew up and fell in love\\nI asked my lover what lies ahead?\\nWill there be rainbows day after day?\\nHere's what my lover said.....\\nQue sera sera\\nWhatever will be, will be\\nThe future's not ours to see\\nQue sera sera\\nQue sera sera\\nWhatever will be, will be\\nThe future's not ours to see\\nQue sera sera\"",
     "output_type": "error",
     "traceback": [
      "\u001b[0;31m---------------------------------------------------------------------------\u001b[0m",
      "\u001b[0;31mValueError\u001b[0m                                Traceback (most recent call last)",
      "\u001b[0;32m<ipython-input-188-25c5140e2081>\u001b[0m in \u001b[0;36m<module>\u001b[0;34m\u001b[0m\n\u001b[0;32m----> 1\u001b[0;31m \u001b[0mpredicted\u001b[0m \u001b[0;34m=\u001b[0m \u001b[0mclf\u001b[0m\u001b[0;34m.\u001b[0m\u001b[0mpredict\u001b[0m\u001b[0;34m(\u001b[0m\u001b[0mdf_dev\u001b[0m\u001b[0;34m.\u001b[0m\u001b[0mlyrics\u001b[0m\u001b[0;34m)\u001b[0m\u001b[0;34m\u001b[0m\u001b[0m\n\u001b[0m\u001b[1;32m      2\u001b[0m \u001b[0mnp\u001b[0m\u001b[0;34m.\u001b[0m\u001b[0mmean\u001b[0m\u001b[0;34m(\u001b[0m\u001b[0mpredicted\u001b[0m \u001b[0;34m==\u001b[0m \u001b[0mdf_dev\u001b[0m\u001b[0;34m.\u001b[0m\u001b[0mmood_cats\u001b[0m\u001b[0;34m)\u001b[0m\u001b[0;34m\u001b[0m\u001b[0m\n",
      "\u001b[0;32m~/jack/w266-group-project_lyric-mood-classification/.venv_w266_project/lib/python3.5/site-packages/sklearn/naive_bayes.py\u001b[0m in \u001b[0;36mpredict\u001b[0;34m(self, X)\u001b[0m\n\u001b[1;32m     64\u001b[0m             \u001b[0mPredicted\u001b[0m \u001b[0mtarget\u001b[0m \u001b[0mvalues\u001b[0m \u001b[0;32mfor\u001b[0m \u001b[0mX\u001b[0m\u001b[0;34m\u001b[0m\u001b[0m\n\u001b[1;32m     65\u001b[0m         \"\"\"\n\u001b[0;32m---> 66\u001b[0;31m         \u001b[0mjll\u001b[0m \u001b[0;34m=\u001b[0m \u001b[0mself\u001b[0m\u001b[0;34m.\u001b[0m\u001b[0m_joint_log_likelihood\u001b[0m\u001b[0;34m(\u001b[0m\u001b[0mX\u001b[0m\u001b[0;34m)\u001b[0m\u001b[0;34m\u001b[0m\u001b[0m\n\u001b[0m\u001b[1;32m     67\u001b[0m         \u001b[0;32mreturn\u001b[0m \u001b[0mself\u001b[0m\u001b[0;34m.\u001b[0m\u001b[0mclasses_\u001b[0m\u001b[0;34m[\u001b[0m\u001b[0mnp\u001b[0m\u001b[0;34m.\u001b[0m\u001b[0margmax\u001b[0m\u001b[0;34m(\u001b[0m\u001b[0mjll\u001b[0m\u001b[0;34m,\u001b[0m \u001b[0maxis\u001b[0m\u001b[0;34m=\u001b[0m\u001b[0;36m1\u001b[0m\u001b[0;34m)\u001b[0m\u001b[0;34m]\u001b[0m\u001b[0;34m\u001b[0m\u001b[0m\n\u001b[1;32m     68\u001b[0m \u001b[0;34m\u001b[0m\u001b[0m\n",
      "\u001b[0;32m~/jack/w266-group-project_lyric-mood-classification/.venv_w266_project/lib/python3.5/site-packages/sklearn/naive_bayes.py\u001b[0m in \u001b[0;36m_joint_log_likelihood\u001b[0;34m(self, X)\u001b[0m\n\u001b[1;32m    728\u001b[0m         \u001b[0mcheck_is_fitted\u001b[0m\u001b[0;34m(\u001b[0m\u001b[0mself\u001b[0m\u001b[0;34m,\u001b[0m \u001b[0;34m\"classes_\"\u001b[0m\u001b[0;34m)\u001b[0m\u001b[0;34m\u001b[0m\u001b[0m\n\u001b[1;32m    729\u001b[0m \u001b[0;34m\u001b[0m\u001b[0m\n\u001b[0;32m--> 730\u001b[0;31m         \u001b[0mX\u001b[0m \u001b[0;34m=\u001b[0m \u001b[0mcheck_array\u001b[0m\u001b[0;34m(\u001b[0m\u001b[0mX\u001b[0m\u001b[0;34m,\u001b[0m \u001b[0maccept_sparse\u001b[0m\u001b[0;34m=\u001b[0m\u001b[0;34m'csr'\u001b[0m\u001b[0;34m)\u001b[0m\u001b[0;34m\u001b[0m\u001b[0m\n\u001b[0m\u001b[1;32m    731\u001b[0m         return (safe_sparse_dot(X, self.feature_log_prob_.T) +\n\u001b[1;32m    732\u001b[0m                 self.class_log_prior_)\n",
      "\u001b[0;32m~/jack/w266-group-project_lyric-mood-classification/.venv_w266_project/lib/python3.5/site-packages/sklearn/utils/validation.py\u001b[0m in \u001b[0;36mcheck_array\u001b[0;34m(array, accept_sparse, accept_large_sparse, dtype, order, copy, force_all_finite, ensure_2d, allow_nd, ensure_min_samples, ensure_min_features, warn_on_dtype, estimator)\u001b[0m\n\u001b[1;32m    520\u001b[0m             \u001b[0;32mtry\u001b[0m\u001b[0;34m:\u001b[0m\u001b[0;34m\u001b[0m\u001b[0m\n\u001b[1;32m    521\u001b[0m                 \u001b[0mwarnings\u001b[0m\u001b[0;34m.\u001b[0m\u001b[0msimplefilter\u001b[0m\u001b[0;34m(\u001b[0m\u001b[0;34m'error'\u001b[0m\u001b[0;34m,\u001b[0m \u001b[0mComplexWarning\u001b[0m\u001b[0;34m)\u001b[0m\u001b[0;34m\u001b[0m\u001b[0m\n\u001b[0;32m--> 522\u001b[0;31m                 \u001b[0marray\u001b[0m \u001b[0;34m=\u001b[0m \u001b[0mnp\u001b[0m\u001b[0;34m.\u001b[0m\u001b[0masarray\u001b[0m\u001b[0;34m(\u001b[0m\u001b[0marray\u001b[0m\u001b[0;34m,\u001b[0m \u001b[0mdtype\u001b[0m\u001b[0;34m=\u001b[0m\u001b[0mdtype\u001b[0m\u001b[0;34m,\u001b[0m \u001b[0morder\u001b[0m\u001b[0;34m=\u001b[0m\u001b[0morder\u001b[0m\u001b[0;34m)\u001b[0m\u001b[0;34m\u001b[0m\u001b[0m\n\u001b[0m\u001b[1;32m    523\u001b[0m             \u001b[0;32mexcept\u001b[0m \u001b[0mComplexWarning\u001b[0m\u001b[0;34m:\u001b[0m\u001b[0;34m\u001b[0m\u001b[0m\n\u001b[1;32m    524\u001b[0m                 raise ValueError(\"Complex data not supported\\n\"\n",
      "\u001b[0;32m~/jack/w266-group-project_lyric-mood-classification/.venv_w266_project/lib/python3.5/site-packages/numpy/core/numeric.py\u001b[0m in \u001b[0;36masarray\u001b[0;34m(a, dtype, order)\u001b[0m\n\u001b[1;32m    499\u001b[0m \u001b[0;34m\u001b[0m\u001b[0m\n\u001b[1;32m    500\u001b[0m     \"\"\"\n\u001b[0;32m--> 501\u001b[0;31m     \u001b[0;32mreturn\u001b[0m \u001b[0marray\u001b[0m\u001b[0;34m(\u001b[0m\u001b[0ma\u001b[0m\u001b[0;34m,\u001b[0m \u001b[0mdtype\u001b[0m\u001b[0;34m,\u001b[0m \u001b[0mcopy\u001b[0m\u001b[0;34m=\u001b[0m\u001b[0;32mFalse\u001b[0m\u001b[0;34m,\u001b[0m \u001b[0morder\u001b[0m\u001b[0;34m=\u001b[0m\u001b[0morder\u001b[0m\u001b[0;34m)\u001b[0m\u001b[0;34m\u001b[0m\u001b[0m\n\u001b[0m\u001b[1;32m    502\u001b[0m \u001b[0;34m\u001b[0m\u001b[0m\n\u001b[1;32m    503\u001b[0m \u001b[0;34m\u001b[0m\u001b[0m\n",
      "\u001b[0;31mValueError\u001b[0m: could not convert string to float: \"When I was just a little girl\\nI asked my mother\\nWhat will I be?\\nWill I be pretty?\\nWill I be rich?\\nHere's what she said to me....\\nQue sera sera\\nWhatever will be, will be\\nThe future's not ours to see\\nQue sera sera\\nWhen I grew up and fell in love\\nI asked my lover what lies ahead?\\nWill there be rainbows day after day?\\nHere's what my lover said.....\\nQue sera sera\\nWhatever will be, will be\\nThe future's not ours to see\\nQue sera sera\\nQue sera sera\\nWhatever will be, will be\\nThe future's not ours to see\\nQue sera sera\""
     ]
    }
   ],
   "source": []
  },
  {
   "cell_type": "code",
   "execution_count": null,
   "metadata": {},
   "outputs": [],
   "source": []
  }
 ],
 "metadata": {
  "kernelspec": {
   "display_name": ".venv_w266_project",
   "language": "python",
   "name": ".venv_w266_project"
  },
  "language_info": {
   "codemirror_mode": {
    "name": "ipython",
    "version": 3
   },
   "file_extension": ".py",
   "mimetype": "text/x-python",
   "name": "python",
   "nbconvert_exporter": "python",
   "pygments_lexer": "ipython3",
   "version": "3.5.2"
  }
 },
 "nbformat": 4,
 "nbformat_minor": 2
}
