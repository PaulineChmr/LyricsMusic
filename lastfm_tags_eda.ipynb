{
 "cells": [
  {
   "cell_type": "markdown",
   "metadata": {},
   "source": [
    "# Exploratory Data Analysis of Last.fm's Mood Tags\n",
    "\n",
    "The Last.fm Tags dataset is a complementary dataset included as part of the Million Song Dataset. More information can be found [here](https://labrosa.ee.columbia.edu/millionsong/lastfm).\n",
    "\n",
    "The dataset is available in several different forms including individual json files for each track as well as an sqlite db. Iterating over the json files is cumbersome, so we make use of the sqlite db here.\n",
    "\n",
    "The goal of this workbook is to explore the tags available in the Last.fm dataset with a special focus on the moods targeted in our project."
   ]
  },
  {
   "cell_type": "code",
   "execution_count": 21,
   "metadata": {},
   "outputs": [
    {
     "name": "stdout",
     "output_type": "stream",
     "text": [
      "Pretty printing has been turned ON\n"
     ]
    }
   ],
   "source": [
    "import matplotlib.pyplot as plt\n",
    "from importlib import reload\n",
    "from pprint import pprint\n",
    "import pandas as pd\n",
    "\n",
    "%pprint\n",
    "%matplotlib inline"
   ]
  },
  {
   "cell_type": "markdown",
   "metadata": {},
   "source": [
    "# Getting Started\n",
    "\n",
    "### Connecting to the DB"
   ]
  },
  {
   "cell_type": "code",
   "execution_count": 2,
   "metadata": {},
   "outputs": [],
   "source": [
    "from lastfm_labels import LASTFM_TAGS_DB\n",
    "import sqlite3\n",
    "\n",
    "conn = sqlite3.connect(LASTFM_TAGS_DB)"
   ]
  },
  {
   "cell_type": "markdown",
   "metadata": {},
   "source": [
    "### Example Last.fm Tags Queries\n",
    "\n",
    "These examples are taken from the very helpful [MSD provided example code](https://labrosa.ee.columbia.edu/millionsong/sites/default/files/lastfm/demo_tags_db.py) demonstrating how to work with the last.fm sqlite db."
   ]
  },
  {
   "cell_type": "code",
   "execution_count": 3,
   "metadata": {},
   "outputs": [],
   "source": [
    "from lastfm_labels import sanitize"
   ]
  },
  {
   "cell_type": "code",
   "execution_count": 4,
   "metadata": {},
   "outputs": [
    {
     "name": "stdout",
     "output_type": "stream",
     "text": [
      "************** DEMO 4 **************\n",
      "We get all tracks for the tag: Acid Smurfs\n",
      "[('TRDATLJ128F92FC75F',),\n",
      " ('TRVTZIF128F42725C1',),\n",
      " ('TREPQOO128F9328886',),\n",
      " ('TROXKKP128F427886F',)]\n"
     ]
    }
   ],
   "source": [
    "print('************** DEMO 4 **************')\n",
    "tag = 'Acid Smurfs'\n",
    "print('We get all tracks for the tag: {0}'.format(tag))\n",
    "sql = \"SELECT tids.tid FROM tid_tag, tids, tags WHERE tids.ROWID=tid_tag.tid AND tid_tag.tag=tags.ROWID AND tags.tag='%s'\" % sanitize(tag)\n",
    "res = conn.execute(sql)\n",
    "data = res.fetchall()\n",
    "\n",
    "pprint(data)"
   ]
  },
  {
   "cell_type": "code",
   "execution_count": 5,
   "metadata": {},
   "outputs": [
    {
     "name": "stdout",
     "output_type": "stream",
     "text": [
      "************** DEMO 5 **************\n",
      "We get all tags and the number of tracks they're applied to\n"
     ]
    }
   ],
   "source": [
    "print('************** DEMO 5 **************')\n",
    "print(\"We get all tags and the number of tracks they're applied to\")\n",
    "sql = \"SELECT tags.tag, COUNT(tid_tag.tid) FROM tid_tag, tags WHERE tid_tag.tag=tags.ROWID GROUP BY tags.tag\"\n",
    "\n",
    "### WARNING - this one takes a minute... uncomment these lines to execute\n",
    "#res = conn.execute(sql)\n",
    "#data = res.fetchall()\n",
    "#data = sorted(data, key=lambda x: x[1], reverse=True)\n",
    "#print('after sorting...')\n",
    "#for k in range(10):\n",
    "#    print(data[k])\n",
    "#print('...')"
   ]
  },
  {
   "cell_type": "markdown",
   "metadata": {},
   "source": [
    "### Last.fm DB Schema Exploration\n",
    "\n",
    "In order to use the provided db effectively, we need to know its schema. Here we use sql commands to expose its table structure (credit: https://www.tomordonez.com/get-schema-sqlite-python.html).\n",
    "\n",
    "It turns out that the schema is incredibly simple.\n"
   ]
  },
  {
   "cell_type": "code",
   "execution_count": 45,
   "metadata": {},
   "outputs": [
    {
     "name": "stdout",
     "output_type": "stream",
     "text": [
      "Tables: ['tags', 'tids', 'tid_tag']\n",
      "\n",
      "Table \"tags\"\n",
      "\tcolumns: ['tag']\n",
      "\trows: 522366\n",
      "[('classic rock',), ('Progressive rock',), ('blues',), ('memphis slim',), ('pop',)]\n",
      "Table \"tids\"\n",
      "\tcolumns: ['tid']\n",
      "\trows: 505216\n",
      "[('TRCCCYE12903CFF0E9',), ('TRCCCFH12903CEBC70',), ('TRCCCJT128F429FFF6',), ('TRCCCBJ128F4286E6F',), ('TRCCJTI128EF35394A',)]\n",
      "Table \"tid_tag\"\n",
      "\tcolumns: ['tid', 'tag', 'val']\n",
      "\trows: 8598630\n",
      "[(1, 1, 100.0), (1, 2, 100.0), (2, 3, 100.0), (2, 4, 100.0), (3, 5, 100.0)]\n"
     ]
    }
   ],
   "source": [
    "cur = conn.cursor()\n",
    "\n",
    "tables = list()\n",
    "for row in cur.execute(\"SELECT name FROM sqlite_master WHERE type='table';\").fetchall():\n",
    "    tables.append(row[0])\n",
    "\n",
    "print('Tables: {0}\\n'.format(tables))\n",
    "\n",
    "for table in tables:\n",
    "    \n",
    "    cols = list()\n",
    "    for row in cur.execute(\"pragma table_info('{0}')\".format(table)).fetchall():\n",
    "        cols.append(row[1])\n",
    "\n",
    "    row_count = cur.execute(\"SELECT Count(*) FROM {0}\".format(table)).fetchall()[0][0]\n",
    "        \n",
    "    print('Table \"{0}\"'.format(table))\n",
    "    print('\\tcolumns: {0}'.format(cols))\n",
    "    print('\\trows: {0}'.format(row_count))\n",
    "    \n",
    "    #print(cur.execute(\"SELECT * FROM {0} LIMIT 5\".format(table)).fetchall())\n",
    "    \n",
    "cur.close()"
   ]
  },
  {
   "cell_type": "markdown",
   "metadata": {},
   "source": [
    "And here is a quick peek at the beginning five rows of each table."
   ]
  },
  {
   "cell_type": "code",
   "execution_count": 47,
   "metadata": {},
   "outputs": [
    {
     "name": "stdout",
     "output_type": "stream",
     "text": [
      "                tag\n",
      "0      classic rock\n",
      "1  Progressive rock\n",
      "2             blues\n",
      "3      memphis slim\n",
      "4               pop\n",
      "                  tid\n",
      "0  TRCCCYE12903CFF0E9\n",
      "1  TRCCCFH12903CEBC70\n",
      "2  TRCCCJT128F429FFF6\n",
      "3  TRCCCBJ128F4286E6F\n",
      "4  TRCCJTI128EF35394A\n",
      "   tid  tag    val\n",
      "0    1    1  100.0\n",
      "1    1    2  100.0\n",
      "2    2    3  100.0\n",
      "3    2    4  100.0\n",
      "4    3    5  100.0\n"
     ]
    }
   ],
   "source": [
    "for table in tables:\n",
    "    \n",
    "    df = pd.read_sql_query(\"SELECT * FROM {0} LIMIT 5\".format(table), conn)\n",
    "    print(df)"
   ]
  },
  {
   "cell_type": "markdown",
   "metadata": {},
   "source": [
    "### Matching a Song to its Labels\n",
    "\n",
    "With the mapping data from MusixMatch and the sqlite db from last.fm, we can tie songs to their labels."
   ]
  },
  {
   "cell_type": "code",
   "execution_count": 49,
   "metadata": {},
   "outputs": [
    {
     "name": "stdout",
     "output_type": "stream",
     "text": [
      "[('TRLIEDO12903CA41B4', 'classic rock', 53.0),\n",
      " ('TRLIEDO12903CA41B4', 'pop', 28.0),\n",
      " ('TRLIEDO12903CA41B4', '70s', 100.0),\n",
      " ('TRLIEDO12903CA41B4', 'rock', 38.0),\n",
      " ('TRLIEDO12903CA41B4', 'favorites', 3.0),\n",
      " ('TRLIEDO12903CA41B4', 'upbeat', 2.0),\n",
      " ('TRLIEDO12903CA41B4', 'loved', 2.0),\n",
      " ('TRLIEDO12903CA41B4', 'Awesome', 2.0),\n",
      " ('TRLIEDO12903CA41B4', 'british', 4.0),\n",
      " ('TRLIEDO12903CA41B4', 'Love', 4.0),\n",
      " ('TRLIEDO12903CA41B4', 'first person songs', 1.0),\n",
      " ('TRLIEDO12903CA41B4', 'male vocalists', 5.0),\n",
      " ('TRLIEDO12903CA41B4', 'adult contemporary', 2.0),\n",
      " ('TRLIEDO12903CA41B4', 'soft rock', 33.0),\n",
      " ('TRLIEDO12903CA41B4', 'pop rock', 3.0),\n",
      " ('TRLIEDO12903CA41B4', \"70's\", 2.0),\n",
      " ('TRLIEDO12903CA41B4', '1970s', 2.0),\n",
      " ('TRLIEDO12903CA41B4', 'oldies', 9.0),\n",
      " ('TRLIEDO12903CA41B4', 'love songs', 6.0),\n",
      " ('TRLIEDO12903CA41B4', 'close harmony', 2.0),\n",
      " ('TRLIEDO12903CA41B4', 'acclaimed music top 3000', 2.0),\n",
      " ('TRLIEDO12903CA41B4', 'golden oldies', 3.0),\n",
      " ('TRLIEDO12903CA41B4', 'easy now', 1.0),\n",
      " ('TRLIEDO12903CA41B4', 'Radiotsar approved', 1.0),\n",
      " ('TRLIEDO12903CA41B4', 'solx', 1.0),\n",
      " ('TRLIEDO12903CA41B4', 'to classify', 1.0),\n",
      " ('TRLIEDO12903CA41B4', 'top 2000', 1.0),\n",
      " ('TRLIEDO12903CA41B4', 'ik ben', 1.0),\n",
      " ('TRLIEDO12903CA41B4', 'fH Projex', 1.0),\n",
      " ('TRLIEDO12903CA41B4', 'GH baby', 1.0),\n",
      " ('TRLIEDO12903CA41B4', 'Beatlesque', 2.0),\n",
      " ('TRLIEDO12903CA41B4', 'male vocalist', 2.0),\n",
      " ('TRLIEDO12903CA41B4', 'handclaps', 2.0),\n",
      " ('TRLIEDO12903CA41B4', 'best songs of the 70s', 1.0),\n",
      " ('TRLIEDO12903CA41B4', 'Gamle Ole', 1.0),\n",
      " ('TRLIEDO12903CA41B4', 'gertski pick', 1.0),\n",
      " ('TRLIEDO12903CA41B4', 'New late night lax', 1.0),\n",
      " ('TRLIEDO12903CA41B4', 'the evening shadows', 1.0),\n",
      " ('TRLIEDO12903CA41B4', 'alltimefavs', 1.0),\n",
      " ('TRLIEDO12903CA41B4', '70s aor radio', 1.0),\n",
      " ('TRLIEDO12903CA41B4', 'Beelloved', 2.0),\n",
      " ('TRLIEDO12903CA41B4', 'flott', 1.0),\n",
      " ('TRLIEDO12903CA41B4', 'the word love', 1.0),\n",
      " ('TRLIEDO12903CA41B4', 'canadian rpm magazine number one hit', 3.0),\n",
      " ('TRLIEDO12903CA41B4', 'Middle 1970s', 1.0),\n",
      " ('TRLIEDO12903CA41B4', 'soft rock pop', 2.0),\n",
      " ('TRLIEDO12903CA41B4', 'remember70', 1.0),\n",
      " ('TRLIEDO12903CA41B4', 'slgdmbestof', 1.0),\n",
      " ('TRLIEDO12903CA41B4', 'golden oldie', 1.0),\n",
      " ('TRLIEDO12903CA41B4', 'gute laune music', 1.0),\n",
      " ('TRLIEDO12903CA41B4', 'i know all the words to this', 1.0),\n",
      " ('TRLIEDO12903CA41B4', 'lovesongs', 2.0),\n",
      " ('TRLIEDO12903CA41B4', 'all-time fav', 1.0),\n",
      " ('TRLIEDO12903CA41B4', 'Kloron - Top 500 van 2006', 1.0),\n",
      " ('TRLIEDO12903CA41B4', 'Kloron - Top 500 van 2007', 1.0),\n",
      " ('TRLIEDO12903CA41B4', 'the word do', 1.0),\n",
      " ('TRLIEDO12903CA41B4', 'the word thing', 1.0),\n",
      " ('TRLIEDO12903CA41B4', 'Soft-Rock', 2.0),\n",
      " ('TRLIEDO12903CA41B4', 'one star', 1.0),\n",
      " ('TRLIEDO12903CA41B4', '1976', 3.0),\n",
      " ('TRLIEDO12903CA41B4', 'pop ballad', 2.0),\n",
      " ('TRLIEDO12903CA41B4', 'You and Me', 2.0),\n",
      " ('TRLIEDO12903CA41B4', 'Mellow 70s', 1.0),\n",
      " ('TRLIEDO12903CA41B4', 'rosis', 2.0),\n",
      " ('TRLIEDO12903CA41B4', 'lugnt03-', 1.0),\n",
      " ('TRLIEDO12903CA41B4', 'kmem400', 1.0),\n",
      " ('TRLIEDO12903CA41B4', 'the word we', 1.0),\n",
      " ('TRLIEDO12903CA41B4', 'love in the title', 1.0),\n",
      " ('TRLIEDO12903CA41B4', 'x-files', 5.0),\n",
      " ('TRLIEDO12903CA41B4', 'barbaras mix', 1.0),\n",
      " ('TRLIEDO12903CA41B4', 'g16', 1.0),\n",
      " ('TRLIEDO12903CA41B4', 'WSFM', 1.0),\n",
      " ('TRLIEDO12903CA41B4', 'rock tag', 1.0),\n",
      " ('TRLIEDO12903CA41B4', 'pobgirlsmix', 1.0),\n",
      " ('TRLIEDO12903CA41B4', 'grew up on', 1.0),\n",
      " ('TRLIEDO12903CA41B4', 'Cheezing Out and Loving It', 1.0),\n",
      " ('TRLIEDO12903CA41B4', 'love songs of the 70s', 1.0),\n",
      " ('TRLIEDO12903CA41B4', 'seminal 70s', 1.0),\n",
      " ('TRLIEDO12903CA41B4', 'sooz soft rox', 1.0),\n",
      " ('TRLIEDO12903CA41B4', 'uk chart hits to check out - the 70s', 1.0),\n",
      " ('TRLIEDO12903CA41B4', 'sgn70s', 1.0),\n",
      " ('TRLIEDO12903CA41B4', 'for the heart', 2.0),\n",
      " ('TRLIEDO12903CA41B4', 'old faves', 2.0),\n",
      " ('TRLIEDO12903CA41B4', 'the word for', 1.0),\n",
      " ('TRLIEDO12903CA41B4', '10cc', 17.0),\n",
      " ('TRLIEDO12903CA41B4', 'game of love', 1.0),\n",
      " ('TRLIEDO12903CA41B4', 'grusin', 1.0),\n",
      " ('TRLIEDO12903CA41B4', 'Babysitting years', 1.0),\n",
      " ('TRLIEDO12903CA41B4', 'playfull', 1.0),\n",
      " ('TRLIEDO12903CA41B4', 'Things We Do', 1.0),\n",
      " ('TRLIEDO12903CA41B4', 'Definite play', 1.0),\n",
      " ('TRLIEDO12903CA41B4', 'My Favorite Classic Rock of All Time', 1.0),\n",
      " ('TRLIEDO12903CA41B4', 'wind down zone', 1.0),\n",
      " ('TRLIEDO12903CA41B4', 'aint love grand', 1.0),\n",
      " ('TRLIEDO12903CA41B4', 'songs of 1976', 1.0),\n",
      " ('TRLIEDO12903CA41B4', 'classic 70s radio', 1.0),\n",
      " ('TRLIEDO12903CA41B4', 'all this time-hmmm oh yeah', 1.0),\n",
      " ('TRLIEDO12903CA41B4', 'pre-intrest', 1.0),\n",
      " ('TRLIEDO12903CA41B4', 'the games we play', 1.0),\n",
      " ('TRLIEDO12903CA41B4', 'yeah-no joke', 1.0)]\n"
     ]
    }
   ],
   "source": [
    "example_song = {\n",
    "    'msd_id': 'TRLIEDO12903CA41B4',\n",
    "    'msd_artist': '10 CC',\n",
    "    'msd_title': 'The Things We Do For Love',\n",
    "    'mxm_id': '2258063',\n",
    "    'mxm_artist': '10cc',\n",
    "    'mxm_title': 'The Things We Do for Love'\n",
    "}\n",
    "sql = \"SELECT tids.tid, tags.tag, tid_tag.val FROM tid_tag, tids, tags WHERE tids.ROWID=tid_tag.tid AND tid_tag.tag=tags.ROWID AND tids.tid='{0}'\".format(sanitize(example_song['msd_id']))\n",
    "res = conn.execute(sql)\n",
    "data = res.fetchall()\n",
    "pprint(data)\n"
   ]
  },
  {
   "cell_type": "markdown",
   "metadata": {},
   "source": [
    "# Tag EDA\n",
    "\n",
    "Now that we know the schema and how to connect to and query the db, we can investigate its contents."
   ]
  },
  {
   "cell_type": "markdown",
   "metadata": {},
   "source": [
    "### Number of Tags"
   ]
  },
  {
   "cell_type": "code",
   "execution_count": 7,
   "metadata": {},
   "outputs": [
    {
     "name": "stdout",
     "output_type": "stream",
     "text": [
      "Number of Tags: 522366\n",
      "\n",
      "Example Tags: ['classic rock', 'Progressive rock', 'blues', 'memphis slim', 'pop', '70s', 'Middle of the road', 'Bonjour ca va', 'Tony Levin', 'instrumental']\n"
     ]
    }
   ],
   "source": [
    "from lastfm_labels import query\n",
    "\n",
    "data = query(conn, \"SELECT tag FROM tags\")\n",
    "print('Number of Tags:', len(data))\n",
    "\n",
    "data = query(conn, \"SELECT tag FROM tags LIMIT 10\")\n",
    "print('\\nExample Tags:', ([x[0] for x in data]))\n"
   ]
  },
  {
   "cell_type": "markdown",
   "metadata": {},
   "source": [
    "### Tag Count Histogram"
   ]
  },
  {
   "cell_type": "code",
   "execution_count": 8,
   "metadata": {},
   "outputs": [],
   "source": [
    "df = pd.read_sql_query(\"SELECT tags.tag, COUNT(tid_tag.tid) as count FROM tid_tag, tags WHERE tid_tag.tag=tags.ROWID GROUP BY tags.tag ORDER BY count desc\", conn)"
   ]
  },
  {
   "cell_type": "code",
   "execution_count": 26,
   "metadata": {},
   "outputs": [
    {
     "data": {
      "image/png": "[encoded data removed]",
      "text/plain": [
       "<Figure size 432x288 with 1 Axes>"
      ]
     },
     "metadata": {
      "needs_background": "light"
     },
     "output_type": "display_data"
    }
   ],
   "source": [
    "histodata = df\n",
    "_ = plt.hist(histodata['count'])"
   ]
  },
  {
   "cell_type": "code",
   "execution_count": 27,
   "metadata": {},
   "outputs": [
    {
     "data": {
      "image/png": "[encoded data removed]",
      "text/plain": [
       "<Figure size 432x288 with 1 Axes>"
      ]
     },
     "metadata": {
      "needs_background": "light"
     },
     "output_type": "display_data"
    }
   ],
   "source": [
    "histodata = df.head(100)\n",
    "_ = plt.hist(histodata['count'])"
   ]
  },
  {
   "cell_type": "code",
   "execution_count": 28,
   "metadata": {},
   "outputs": [
    {
     "data": {
      "image/png": "[encoded data removed]",
      "text/plain": [
       "<Figure size 432x288 with 1 Axes>"
      ]
     },
     "metadata": {
      "needs_background": "light"
     },
     "output_type": "display_data"
    }
   ],
   "source": [
    "histodata = df.head(50)\n",
    "_ = plt.hist(histodata['count'])"
   ]
  },
  {
   "cell_type": "markdown",
   "metadata": {},
   "source": [
    "# Defining the Moods"
   ]
  },
  {
   "cell_type": "markdown",
   "metadata": {},
   "source": [
    "### Mood Categories\n",
    "\n",
    "The moods and categories we use are based on the mapping found in the paper [\"Lyric Text Mining in Music Mood Classification\"](http://www.ismir2009.ismir.net/proceedings/PS3-4.pdf).\n",
    "\n",
    "H. Xiao, J. S. Downie, and A. F. Ehmann, “Lyric TextMining in Music Mood Classiﬁcation,” American Mu-sic, vol. 183, no. 5040, pp. 411–416, 2009\n",
    "\n"
   ]
  },
  {
   "cell_type": "code",
   "execution_count": 29,
   "metadata": {},
   "outputs": [
    {
     "name": "stdout",
     "output_type": "stream",
     "text": [
      "Number of Mood Categories = 18\n",
      "\n",
      "Categories:\n",
      "\n",
      "{'aggression': ['aggression', 'aggressive'],\n",
      " 'anger': ['anger', 'angry', 'choleric', 'fury', 'outraged', 'rage'],\n",
      " 'angst': ['angst', 'anxiety', 'anxious', 'jumpy', 'nervous', 'angsty'],\n",
      " 'brooding': ['brooding', 'contemplative', 'meditative', 'reflective'],\n",
      " 'calm': ['calm', 'comfort', 'quiet', 'serene', 'mellow', 'chill out'],\n",
      " 'cheerful': ['cheerful', 'cheer up', 'festive', 'jolly', 'jovial', 'merry'],\n",
      " 'confident': ['confident', 'encouraging', 'encouragement', 'optimism'],\n",
      " 'depressed': ['depressed', 'blue', 'dark', 'depressive', 'dreary'],\n",
      " 'desire': ['desire', 'hope', 'hopeful', 'mood: hopeful'],\n",
      " 'dreamy': ['dreamy'],\n",
      " 'earnest': ['earnest', 'heartfelt'],\n",
      " 'excitement': ['excitement', 'exciting', 'exhilarating', 'thrill', 'ardor'],\n",
      " 'grief': ['grief', 'heartbreak', 'mournful', 'sorrow', 'sorry'],\n",
      " 'happy': ['happy', 'happiness', 'happy songs', 'happy music'],\n",
      " 'pessimism': ['pessimism', 'cynical', 'pessimistic', 'weltschmerz'],\n",
      " 'romantic': ['romantic', 'romantic music'],\n",
      " 'sad': ['sadness', 'unhappy', 'melancholic', 'melancholy'],\n",
      " 'upbeat': ['upbeat', 'gleeful', 'high spirits', 'zest', 'enthusiastic']}\n"
     ]
    }
   ],
   "source": [
    "from lastfm_labels import MOOD_CATEGORIES\n",
    "print('Number of Mood Categories = {0}\\n'.format(len(MOOD_CATEGORIES)))\n",
    "print('Categories:\\n')\n",
    "pprint(MOOD_CATEGORIES)"
   ]
  },
  {
   "cell_type": "markdown",
   "metadata": {},
   "source": [
    "### Category Breakdown For '1' Artists"
   ]
  },
  {
   "cell_type": "code",
   "execution_count": 50,
   "metadata": {},
   "outputs": [],
   "source": [
    "import index_lyrics\n",
    "#reload(index_lyrics)"
   ]
  },
  {
   "cell_type": "code",
   "execution_count": null,
   "metadata": {},
   "outputs": [],
   "source": []
  },
  {
   "cell_type": "code",
   "execution_count": 44,
   "metadata": {},
   "outputs": [
    {
     "name": "stdout",
     "output_type": "stream",
     "text": [
      "data/lyrics/json\\10000_Maniacs___Across_The_Fields.json\n",
      "{'artist': '10,000 Maniacs',\n",
      " 'songs': [{'album': 'Love Among the Ruins',\n",
      "            'artist': '10,000 Maniacs',\n",
      "            'image': 'https://images.genius.com/7e0d355bb260be0939dc6e840a6e031f.1000x1000x1.jpg',\n",
      "            'json': {'album': {'api_path': '/albums/119947',\n",
      "                               'artist': {'api_path': '/artists/329672',\n",
      "                                          'header_image_url': 'https://images.genius.com/19bce682233adf201461879d086f844b.450x294x1.jpg',\n",
      "                                          'id': 329672,\n",
      "                                          'image_url': 'https://images.genius.com/d1719d6fec954289d9e067a2929ba69e.640x420x1.jpg',\n",
      "                                          'is_meme_verified': False,\n",
      "                                          'is_verified': False,\n",
      "                                          'name': '10,000 Maniacs',\n",
      "                                          'url': 'https://genius.com/artists/10000-maniacs'},\n",
      "                               'cover_art_url': 'https://images.genius.com/7e0d355bb260be0939dc6e840a6e031f.1000x1000x1.jpg',\n",
      "                               'full_title': 'Love Among the Ruins by 10,000 '\n",
      "                                             'Maniacs',\n",
      "                               'id': 119947,\n",
      "                               'name': 'Love Among the Ruins',\n",
      "                               'url': 'https://genius.com/albums/10000-maniacs/Love-among-the-ruins'},\n",
      "                     'annotation_count': 1,\n",
      "                     'api_path': '/songs/870695',\n",
      "                     'apple_music_id': '116094',\n",
      "                     'apple_music_player_url': 'https://genius.com/songs/870695/apple_music_player',\n",
      "                     'current_user_metadata': {'excluded_permissions': ['follow',\n",
      "                                                                        'award_transcription_iq',\n",
      "                                                                        'remove_transcription_iq',\n",
      "                                                                        'see_pageviews',\n",
      "                                                                        'pyong',\n",
      "                                                                        'edit_lyrics',\n",
      "                                                                        'view_annotation_engagement_data',\n",
      "                                                                        'publish',\n",
      "                                                                        'unpublish',\n",
      "                                                                        'edit_spotify_details',\n",
      "                                                                        'hide',\n",
      "                                                                        'unhide',\n",
      "                                                                        'toggle_featured_video',\n",
      "                                                                        'add_pinned_annotation_to',\n",
      "                                                                        'add_community_annotation_to',\n",
      "                                                                        'destroy',\n",
      "                                                                        'mark_as_not_spam',\n",
      "                                                                        'edit_spotify_annotations_for',\n",
      "                                                                        'verify_lyrics',\n",
      "                                                                        'unverify_lyrics',\n",
      "                                                                        'edit_anything',\n",
      "                                                                        'edit_album_appearances',\n",
      "                                                                        'edit_any_media',\n",
      "                                                                        'edit',\n",
      "                                                                        'rename',\n",
      "                                                                        'edit_tags',\n",
      "                                                                        'watch_fact_track',\n",
      "                                                                        'reindex',\n",
      "                                                                        'view_lyrics_synchronization',\n",
      "                                                                        'enable_media',\n",
      "                                                                        'disable_media',\n",
      "                                                                        'edit_lyrics_or_annotation_brackets',\n",
      "                                                                        'see_editorial_indicators',\n",
      "                                                                        'view_attribution_visualization',\n",
      "                                                                        'edit_annotation_brackets',\n",
      "                                                                        'preview_lyrics_for_export',\n",
      "                                                                        'hide_apple_player',\n",
      "                                                                        'unhide_apple_player',\n",
      "                                                                        'trigger_apple_match',\n",
      "                                                                        'mark_lyrics_evaluation_as_approved',\n",
      "                                                                        'mark_lyrics_evaluation_as_staff_approved',\n",
      "                                                                        'mark_lyrics_evaluation_as_unapproved',\n",
      "                                                                        'mark_lyrics_evaluation_as_un_staff_approved',\n",
      "                                                                        'edit_youtube_url',\n",
      "                                                                        'edit_soundcloud_url',\n",
      "                                                                        'edit_spotify_uuid',\n",
      "                                                                        'edit_vevo_url',\n",
      "                                                                        'moderate_annotations',\n",
      "                                                                        'create_annotation',\n",
      "                                                                        'see_short_id',\n",
      "                                                                        'manage_chart_item',\n",
      "                                                                        'create_tag',\n",
      "                                                                        'propose_lyrics_edit',\n",
      "                                                                        'moderate_lyrics_edit_proposals'],\n",
      "                                               'interactions': {'following': False,\n",
      "                                                                'pyong': False},\n",
      "                                               'iq_by_action': {},\n",
      "                                               'permissions': ['view_apple_music_player',\n",
      "                                                               'create_comment',\n",
      "                                                               'view_song_story_gallery'],\n",
      "                                               'relationships': {}},\n",
      "                     'custom_performances': [],\n",
      "                     'description': {'plain': '?'},\n",
      "                     'description_annotation': {'_type': 'referent',\n",
      "                                                'annotatable': {'api_path': '/songs/870695',\n",
      "                                                                'client_timestamps': {'lyrics_updated_at': 1429292966,\n",
      "                                                                                      'updated_by_human_at': 1433778762},\n",
      "                                                                'context': '10,000 '\n",
      "                                                                           'Maniacs',\n",
      "                                                                'id': 870695,\n",
      "                                                                'image_url': 'https://images.genius.com/7e0d355bb260be0939dc6e840a6e031f.1000x1000x1.jpg',\n",
      "                                                                'link_title': 'Across '\n",
      "                                                                              'The '\n",
      "                                                                              'Fields '\n",
      "                                                                              'by\\xa0'\n",
      "                                                                              '10,000\\xa0'\n",
      "                                                                              'Maniacs',\n",
      "                                                                'title': 'Across '\n",
      "                                                                         'The '\n",
      "                                                                         'Fields',\n",
      "                                                                'type': 'Song',\n",
      "                                                                'url': 'https://genius.com/10000-maniacs-across-the-fields-lyrics'},\n",
      "                                                'annotations': [{'api_path': '/annotations/5352450',\n",
      "                                                                 'authors': [{'attribution': 1.0,\n",
      "                                                                              'pinned_role': None,\n",
      "                                                                              'user': {'api_path': '/users/1549345',\n",
      "                                                                                       'avatar': {'medium': {'bounding_box': {'height': 400,\n",
      "                                                                                                                              'width': 300},\n",
      "                                                                                                             'url': 'https://images.rapgenius.com/avatars/medium/04d14b7ca5774ab1736acddc83edd261'},\n",
      "                                                                                                  'small': {'bounding_box': {'height': 100,\n",
      "                                                                                                                             'width': 100},\n",
      "                                                                                                            'url': 'https://images.rapgenius.com/avatars/small/04d14b7ca5774ab1736acddc83edd261'},\n",
      "                                                                                                  'thumb': {'bounding_box': {'height': 32,\n",
      "                                                                                                                             'width': 32},\n",
      "                                                                                                            'url': 'https://images.rapgenius.com/avatars/thumb/04d14b7ca5774ab1736acddc83edd261'},\n",
      "                                                                                                  'tiny': {'bounding_box': {'height': 16,\n",
      "                                                                                                                            'width': 16},\n",
      "                                                                                                           'url': 'https://images.rapgenius.com/avatars/tiny/04d14b7ca5774ab1736acddc83edd261'}},\n",
      "                                                                                       'current_user_metadata': {'excluded_permissions': ['follow'],\n",
      "                                                                                                                 'features': [],\n",
      "                                                                                                                 'interactions': {'following': False},\n",
      "                                                                                                                 'permissions': []},\n",
      "                                                                                       'header_image_url': 'https://images.rapgenius.com/avatars/medium/04d14b7ca5774ab1736acddc83edd261',\n",
      "                                                                                       'human_readable_role_for_display': None,\n",
      "                                                                                       'id': 1549345,\n",
      "                                                                                       'iq': 0,\n",
      "                                                                                       'login': 'pressburg',\n",
      "                                                                                       'name': 'pressburg',\n",
      "                                                                                       'role_for_display': None,\n",
      "                                                                                       'url': 'https://genius.com/pressburg'}}],\n",
      "                                                                 'body': {'plain': ''},\n",
      "                                                                 'comment_count': 0,\n",
      "                                                                 'community': True,\n",
      "                                                                 'cosigned_by': [],\n",
      "                                                                 'current_user_metadata': {'excluded_permissions': ['vote',\n",
      "                                                                                                                    'edit',\n",
      "                                                                                                                    'cosign',\n",
      "                                                                                                                    'uncosign',\n",
      "                                                                                                                    'destroy',\n",
      "                                                                                                                    'accept',\n",
      "                                                                                                                    'reject',\n",
      "                                                                                                                    'see_unreviewed',\n",
      "                                                                                                                    'clear_votes',\n",
      "                                                                                                                    'propose_edit_to',\n",
      "                                                                                                                    'pin_to_profile',\n",
      "                                                                                                                    'unpin_from_profile',\n",
      "                                                                                                                    'update_source',\n",
      "                                                                                                                    'edit_custom_preview',\n",
      "                                                                                                                    'create_comment'],\n",
      "                                                                                           'interactions': {'cosign': False,\n",
      "                                                                                                            'pyong': False,\n",
      "                                                                                                            'vote': None},\n",
      "                                                                                           'iq_by_action': {},\n",
      "                                                                                           'permissions': []},\n",
      "                                                                 'custom_preview': None,\n",
      "                                                                 'has_voters': False,\n",
      "                                                                 'id': 5352450,\n",
      "                                                                 'pinned': False,\n",
      "                                                                 'rejection_comment': None,\n",
      "                                                                 'share_url': 'https://genius.com/5352450',\n",
      "                                                                 'source': None,\n",
      "                                                                 'state': 'needs_exegesis',\n",
      "                                                                 'url': 'https://genius.com/5352450/10000-maniacs-across-the-fields/Across-the-fields',\n",
      "                                                                 'verified': False,\n",
      "                                                                 'verified_by': None,\n",
      "                                                                 'votes_total': 0}],\n",
      "                                                'annotator_id': 1549345,\n",
      "                                                'annotator_login': 'pressburg',\n",
      "                                                'api_path': '/referents/5352450',\n",
      "                                                'classification': 'needs_exegesis',\n",
      "                                                'fragment': 'Across The Fields',\n",
      "                                                'id': 5352450,\n",
      "                                                'is_description': True,\n",
      "                                                'path': '/5352450/10000-maniacs-across-the-fields/Across-the-fields',\n",
      "                                                'range': {'content': 'Across '\n",
      "                                                                     'The '\n",
      "                                                                     'Fields'},\n",
      "                                                'song_id': 870695,\n",
      "                                                'url': 'https://genius.com/5352450/10000-maniacs-across-the-fields/Across-the-fields',\n",
      "                                                'verified_annotator_ids': []},\n",
      "                     'embed_content': \"<div id='rg_embed_link_870695' \"\n",
      "                                      \"class='rg_embed_link' \"\n",
      "                                      \"data-song-id='870695'>Read <a \"\n",
      "                                      \"href='https://genius.com/10000-maniacs-across-the-fields-lyrics'>“Across \"\n",
      "                                      'The Fields” by 10,000\\xa0Maniacs</a> on '\n",
      "                                      'Genius</div> <script crossorigin '\n",
      "                                      \"src='//genius.com/songs/870695/embed.js'></script>\",\n",
      "                     'featured_artists': [],\n",
      "                     'featured_video': False,\n",
      "                     'full_title': 'Across The Fields by\\xa010,000\\xa0Maniacs',\n",
      "                     'header_image_thumbnail_url': 'https://images.genius.com/7e0d355bb260be0939dc6e840a6e031f.300x300x1.jpg',\n",
      "                     'header_image_url': 'https://images.genius.com/7e0d355bb260be0939dc6e840a6e031f.1000x1000x1.jpg',\n",
      "                     'id': 870695,\n",
      "                     'lyrics': 'Across the fields 10.000 Maniacs\\n'\n",
      "                               '\\n'\n",
      "                               'Well they left then in the morning\\n'\n",
      "                               'A hundred pairs of wings in the light moved '\n",
      "                               'together\\n'\n",
      "                               'In the colors of the morning\\n'\n",
      "                               'I looked to the clouds in the cirrus sky and '\n",
      "                               \"they'd gone\\n\"\n",
      "                               'Across the marshes, across the fields below\\n'\n",
      "                               'I fell through the vines and I hoped they '\n",
      "                               'would catch me below\\n'\n",
      "                               'If only to take me with them there\\n'\n",
      "                               'Tell me the part that shines in your heart on '\n",
      "                               'the wind\\n'\n",
      "                               'And the reeds blew me in the morning\\n'\n",
      "                               \"Take me along to the places you've gone when \"\n",
      "                               'my eyes looked away\\n'\n",
      "                               'Tell me the song that you sing in the trees in '\n",
      "                               'the dawning\\n'\n",
      "                               'Tell me the part that shines in your heart\\n'\n",
      "                               'And the rays of love forever, please take me '\n",
      "                               'there',\n",
      "                     'lyrics_marked_complete_by': None,\n",
      "                     'lyrics_owner_id': 1549345,\n",
      "                     'lyrics_state': 'complete',\n",
      "                     'media': [],\n",
      "                     'path': '/10000-maniacs-across-the-fields-lyrics',\n",
      "                     'primary_artist': {'api_path': '/artists/329672',\n",
      "                                        'header_image_url': 'https://images.genius.com/19bce682233adf201461879d086f844b.450x294x1.jpg',\n",
      "                                        'id': 329672,\n",
      "                                        'image_url': 'https://images.genius.com/d1719d6fec954289d9e067a2929ba69e.640x420x1.jpg',\n",
      "                                        'is_meme_verified': False,\n",
      "                                        'is_verified': False,\n",
      "                                        'name': '10,000 Maniacs',\n",
      "                                        'url': 'https://genius.com/artists/10000-maniacs'},\n",
      "                     'producer_artists': [],\n",
      "                     'pyongs_count': None,\n",
      "                     'recording_location': None,\n",
      "                     'release_date': None,\n",
      "                     'song_art_image_thumbnail_url': 'https://images.genius.com/7e0d355bb260be0939dc6e840a6e031f.300x300x1.jpg',\n",
      "                     'song_art_image_url': 'https://images.genius.com/7e0d355bb260be0939dc6e840a6e031f.1000x1000x1.jpg',\n",
      "                     'song_relationships': [{'songs': [], 'type': 'samples'},\n",
      "                                            {'songs': [], 'type': 'sampled_in'},\n",
      "                                            {'songs': [],\n",
      "                                             'type': 'interpolates'},\n",
      "                                            {'songs': [],\n",
      "                                             'type': 'interpolated_by'},\n",
      "                                            {'songs': [], 'type': 'cover_of'},\n",
      "                                            {'songs': [], 'type': 'covered_by'},\n",
      "                                            {'songs': [], 'type': 'remix_of'},\n",
      "                                            {'songs': [], 'type': 'remixed_by'},\n",
      "                                            {'songs': [],\n",
      "                                             'type': 'live_version_of'},\n",
      "                                            {'songs': [],\n",
      "                                             'type': 'performed_live_as'}],\n",
      "                     'stats': {'accepted_annotations': 0,\n",
      "                               'contributors': 1,\n",
      "                               'hot': False,\n",
      "                               'iq_earners': 0,\n",
      "                               'transcribers': 1,\n",
      "                               'unreviewed_annotations': 0,\n",
      "                               'verified_annotations': 0},\n",
      "                     'title': 'Across The Fields',\n",
      "                     'title_with_featured': 'Across The Fields',\n",
      "                     'url': 'https://genius.com/10000-maniacs-across-the-fields-lyrics',\n",
      "                     'verified_annotations_by': [],\n",
      "                     'verified_contributors': [],\n",
      "                     'verified_lyrics_by': [],\n",
      "                     'writer_artists': []},\n",
      "            'lyrics': 'Across the fields 10.000 Maniacs\\n'\n",
      "                      '\\n'\n",
      "                      'Well they left then in the morning\\n'\n",
      "                      'A hundred pairs of wings in the light moved together\\n'\n",
      "                      'In the colors of the morning\\n'\n",
      "                      \"I looked to the clouds in the cirrus sky and they'd \"\n",
      "                      'gone\\n'\n",
      "                      'Across the marshes, across the fields below\\n'\n",
      "                      'I fell through the vines and I hoped they would catch '\n",
      "                      'me below\\n'\n",
      "                      'If only to take me with them there\\n'\n",
      "                      'Tell me the part that shines in your heart on the wind\\n'\n",
      "                      'And the reeds blew me in the morning\\n'\n",
      "                      \"Take me along to the places you've gone when my eyes \"\n",
      "                      'looked away\\n'\n",
      "                      'Tell me the song that you sing in the trees in the '\n",
      "                      'dawning\\n'\n",
      "                      'Tell me the part that shines in your heart\\n'\n",
      "                      'And the rays of love forever, please take me there',\n",
      "            'title': 'Across The Fields',\n",
      "            'year': None}]}\n"
     ]
    }
   ],
   "source": [
    "from scrape_lyrics import make_lyric_file_name\n",
    "from etl_lyrics import read_file_contents\n",
    "import os\n",
    "\n",
    "data_path = 'data/lyrics/json'\n",
    "for lyric_file in os.listdir(data_path):\n",
    "    if lyric_file.startswith('1'):\n",
    "        lyric_file = os.path.join(data_path, lyric_file)\n",
    "        print(lyric_file)\n",
    "        lyrics_json = read_file_contents(lyric_file, read_json=True)\n",
    "        pprint(lyric_json)\n",
    "        break"
   ]
  },
  {
   "cell_type": "code",
   "execution_count": null,
   "metadata": {},
   "outputs": [],
   "source": []
  }
 ],
 "metadata": {
  "kernelspec": {
   "display_name": ".venv_w266_project",
   "language": "python",
   "name": ".venv_w266_project"
  },
  "language_info": {
   "codemirror_mode": {
    "name": "ipython",
    "version": 3
   },
   "file_extension": ".py",
   "mimetype": "text/x-python",
   "name": "python",
   "nbconvert_exporter": "python",
   "pygments_lexer": "ipython3",
   "version": "3.5.2"
  }
 },
 "nbformat": 4,
 "nbformat_minor": 2
}
