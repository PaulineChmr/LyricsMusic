{
 "cells": [
  {
   "cell_type": "markdown",
   "metadata": {},
   "source": [
    "# Exploratory Data Analysis of Last.fm's Mood Tags\n",
    "\n",
    "The Last.fm Tags dataset is a complementary dataset included as part of the Million Song Dataset. More information can be found [here](https://labrosa.ee.columbia.edu/millionsong/lastfm).\n",
    "\n",
    "The dataset is available in several different forms including individual json files for each track as well as an sqlite db. Iterating over the json files is cumbersome, so we make use of the sqlite db here.\n",
    "\n",
    "The goal of this workbook is to explore the tags available in the Last.fm dataset with a special focus on the moods targeted in our project."
   ]
  },
  {
   "cell_type": "code",
   "execution_count": 89,
   "metadata": {},
   "outputs": [
    {
     "name": "stdout",
     "output_type": "stream",
     "text": [
      "Pretty printing has been turned ON\n"
     ]
    }
   ],
   "source": [
    "from importlib import reload\n",
    "from pprint import pprint\n",
    "import pandas as pd\n",
    "\n",
    "%pprint"
   ]
  },
  {
   "cell_type": "markdown",
   "metadata": {},
   "source": [
    "# Getting Started\n",
    "\n",
    "### Connecting to the DB"
   ]
  },
  {
   "cell_type": "code",
   "execution_count": 64,
   "metadata": {},
   "outputs": [],
   "source": [
    "from lastfm_labels import LASTFM_TAGS_DB\n",
    "import sqlite3\n",
    "\n",
    "conn = sqlite3.connect(LASTFM_TAGS_DB)"
   ]
  },
  {
   "cell_type": "markdown",
   "metadata": {},
   "source": [
    "### Example Last.fm Tags Queries\n",
    "\n",
    "These examples are taken from the very helpful [MSD provided example code](https://labrosa.ee.columbia.edu/millionsong/sites/default/files/lastfm/demo_tags_db.py) demonstrating how to work with the last.fm sqlite db."
   ]
  },
  {
   "cell_type": "code",
   "execution_count": 65,
   "metadata": {},
   "outputs": [],
   "source": [
    "from lastfm_labels import sanitize"
   ]
  },
  {
   "cell_type": "code",
   "execution_count": 66,
   "metadata": {},
   "outputs": [
    {
     "name": "stdout",
     "output_type": "stream",
     "text": [
      "************** DEMO 4 **************\n",
      "We get all tracks for the tag: Acid Smurfs\n",
      "[('TRDATLJ128F92FC75F',),\n",
      " ('TRVTZIF128F42725C1',),\n",
      " ('TREPQOO128F9328886',),\n",
      " ('TROXKKP128F427886F',)]\n"
     ]
    }
   ],
   "source": [
    "print('************** DEMO 4 **************')\n",
    "tag = 'Acid Smurfs'\n",
    "print('We get all tracks for the tag: {0}'.format(tag))\n",
    "sql = \"SELECT tids.tid FROM tid_tag, tids, tags WHERE tids.ROWID=tid_tag.tid AND tid_tag.tag=tags.ROWID AND tags.tag='%s'\" % sanitize(tag)\n",
    "res = conn.execute(sql)\n",
    "data = res.fetchall()\n",
    "\n",
    "pprint(data)"
   ]
  },
  {
   "cell_type": "code",
   "execution_count": 110,
   "metadata": {},
   "outputs": [
    {
     "name": "stdout",
     "output_type": "stream",
     "text": [
      "************** DEMO 5 **************\n",
      "We get all tags and the number of tracks they're applied to\n",
      "after sorting...\n",
      "('rock', 101071)\n",
      "('pop', 69159)\n",
      "('alternative', 55777)\n",
      "('indie', 48175)\n",
      "('electronic', 46270)\n",
      "('female vocalists', 42565)\n",
      "('favorites', 39921)\n",
      "('Love', 34901)\n",
      "('dance', 33618)\n",
      "('00s', 31432)\n",
      "...\n"
     ]
    }
   ],
   "source": [
    "print('************** DEMO 5 **************')\n",
    "print(\"We get all tags and the number of tracks they're applied to\")\n",
    "sql = \"SELECT tags.tag, COUNT(tid_tag.tid) FROM tid_tag, tags WHERE tid_tag.tag=tags.ROWID GROUP BY tags.tag\"\n",
    "res = conn.execute(sql)\n",
    "data = res.fetchall()\n",
    "data = sorted(data, key=lambda x: x[1], reverse=True)\n",
    "print('after sorting...')\n",
    "for k in range(10):\n",
    "    print(data[k])\n",
    "print('...')"
   ]
  },
  {
   "cell_type": "markdown",
   "metadata": {},
   "source": [
    "### Last.fm DB Schema Exploration\n",
    "\n",
    "In order to use the provided db effectively, we need to know its schema. Here we use sql commands to expose its table structure (credit: https://www.tomordonez.com/get-schema-sqlite-python.html).\n",
    "\n",
    "It turns out that the schema is incredibly simple.\n"
   ]
  },
  {
   "cell_type": "code",
   "execution_count": 67,
   "metadata": {},
   "outputs": [
    {
     "name": "stdout",
     "output_type": "stream",
     "text": [
      "Tables: ['tags', 'tids', 'tid_tag']\n",
      "\n",
      "Table \"tags\"\n",
      "\tcolumns: ['tag']\n",
      "\trows: 522366\n",
      "Table \"tids\"\n",
      "\tcolumns: ['tid']\n",
      "\trows: 505216\n",
      "Table \"tid_tag\"\n",
      "\tcolumns: ['tid', 'tag', 'val']\n",
      "\trows: 8598630\n"
     ]
    }
   ],
   "source": [
    "cur = conn.cursor()\n",
    "\n",
    "tables = list()\n",
    "for row in cur.execute(\"SELECT name FROM sqlite_master WHERE type='table';\").fetchall():\n",
    "    tables.append(row[0])\n",
    "\n",
    "print('Tables: {0}\\n'.format(tables))\n",
    "\n",
    "for table in tables:\n",
    "    \n",
    "    cols = list()\n",
    "    for row in cur.execute(\"pragma table_info('{0}')\".format(table)).fetchall():\n",
    "        cols.append(row[1])\n",
    "\n",
    "    row_count = cur.execute(\"SELECT Count(*) FROM {0}\".format(table)).fetchall()[0][0]\n",
    "        \n",
    "    print('Table \"{0}\"'.format(table))\n",
    "    print('\\tcolumns: {0}'.format(cols))\n",
    "    print('\\trows: {0}'.format(row_count))\n",
    "    \n",
    "cur.close()"
   ]
  },
  {
   "cell_type": "markdown",
   "metadata": {},
   "source": [
    "# Tag EDA\n",
    "\n",
    "Now that we know the schema and how to connect to and query the db, we can investigate its contents."
   ]
  },
  {
   "cell_type": "code",
   "execution_count": 87,
   "metadata": {},
   "outputs": [
    {
     "data": {
      "text/plain": [
       "<module 'lastfm_labels' from 'C:\\\\Users\\\\jcworkma\\\\Documents\\\\personal\\\\gradschool\\\\berkeley\\\\W266\\\\w266-group-project_lyric-mood-classification\\\\lastfm_labels.py'>"
      ]
     },
     "execution_count": 87,
     "metadata": {},
     "output_type": "execute_result"
    }
   ],
   "source": [
    "reload(lastfm_labels)"
   ]
  },
  {
   "cell_type": "markdown",
   "metadata": {},
   "source": [
    "### Number of Tags"
   ]
  },
  {
   "cell_type": "code",
   "execution_count": 82,
   "metadata": {},
   "outputs": [
    {
     "name": "stdout",
     "output_type": "stream",
     "text": [
      "Number of Tags: 522366\n",
      "\n",
      "Example Tags: ['classic rock', 'Progressive rock', 'blues', 'memphis slim', 'pop', '70s', 'Middle of the road', 'Bonjour ca va', 'Tony Levin', 'instrumental']\n"
     ]
    }
   ],
   "source": [
    "from lastfm_labels import query\n",
    "\n",
    "data = query(conn, \"SELECT tag FROM tags\")\n",
    "print('Number of Tags:', len(data))\n",
    "\n",
    "data = query(conn, \"SELECT tag FROM tags LIMIT 10\")\n",
    "print('\\nExample Tags:', ([x[0] for x in data]))\n"
   ]
  },
  {
   "cell_type": "code",
   "execution_count": 112,
   "metadata": {},
   "outputs": [],
   "source": [
    "df = pd.read_sql_query(\"SELECT tags.tag, COUNT(tid_tag.tid) as count FROM tid_tag, tags WHERE tid_tag.tag=tags.ROWID GROUP BY tags.tag ORDER BY count desc\", conn)"
   ]
  },
  {
   "cell_type": "code",
   "execution_count": 114,
   "metadata": {},
   "outputs": [
    {
     "ename": "ModuleNotFoundError",
     "evalue": "No module named 'plotly'",
     "output_type": "error",
     "traceback": [
      "\u001b[1;31m---------------------------------------------------------------------------\u001b[0m",
      "\u001b[1;31mModuleNotFoundError\u001b[0m                       Traceback (most recent call last)",
      "\u001b[1;32m<ipython-input-114-fa3bd350885c>\u001b[0m in \u001b[0;36m<module>\u001b[1;34m()\u001b[0m\n\u001b[1;32m----> 1\u001b[1;33m \u001b[1;32mimport\u001b[0m \u001b[0mplotly\u001b[0m\u001b[1;33m.\u001b[0m\u001b[0mplotly\u001b[0m \u001b[1;32mas\u001b[0m \u001b[0mpy\u001b[0m\u001b[1;33m\u001b[0m\u001b[0m\n\u001b[0m\u001b[0;32m      2\u001b[0m \u001b[1;32mimport\u001b[0m \u001b[0mplotly\u001b[0m\u001b[1;33m.\u001b[0m\u001b[0mgraph_objs\u001b[0m \u001b[1;32mas\u001b[0m \u001b[0mgo\u001b[0m\u001b[1;33m\u001b[0m\u001b[0m\n\u001b[0;32m      3\u001b[0m \u001b[1;33m\u001b[0m\u001b[0m\n\u001b[0;32m      4\u001b[0m \u001b[0mhistodata\u001b[0m \u001b[1;33m=\u001b[0m \u001b[0mdf\u001b[0m\u001b[1;33m.\u001b[0m\u001b[0mhead\u001b[0m\u001b[1;33m(\u001b[0m\u001b[1;36m100\u001b[0m\u001b[1;33m)\u001b[0m\u001b[1;33m\u001b[0m\u001b[0m\n\u001b[0;32m      5\u001b[0m data = [go.Bar(x=histodata.tag,\n",
      "\u001b[1;31mModuleNotFoundError\u001b[0m: No module named 'plotly'"
     ]
    }
   ],
   "source": [
    "import plotly.plotly as py\n",
    "import plotly.graph_objs as go\n",
    "\n",
    "histodata = df.head(100)\n",
    "data = [go.Bar(x=histodata.tag,\n",
    "            y=histodata.count)]\n",
    "\n",
    "py.iplot(data, filename='lastfm_tag_100_histo')"
   ]
  },
  {
   "cell_type": "markdown",
   "metadata": {},
   "source": [
    "### Tag Count Histogram"
   ]
  },
  {
   "cell_type": "code",
   "execution_count": 104,
   "metadata": {},
   "outputs": [
    {
     "name": "stdout",
     "output_type": "stream",
     "text": [
      "(522366, 2)\n",
      "101071\n",
      "           tag  count\n",
      "522365  522366      1\n",
      "207260  207261      1\n",
      "389769  389770      1\n",
      "389768  389769      1\n",
      "389767  389768      1\n"
     ]
    }
   ],
   "source": [
    "# credit: https://stackoverflow.com/questions/485409/generating-a-histogram-from-column-values-in-a-database\n",
    "df = pd.read_sql_query(\"SELECT tag, COUNT(tag) as count FROM tid_tag GROUP BY tag ORDER BY tag\", conn)\n",
    "print(df.shape)\n",
    "print(df['count'].max())\n",
    "df = df.sort_values('count')\n",
    "print(df.head())\n"
   ]
  },
  {
   "cell_type": "markdown",
   "metadata": {},
   "source": [
    "# Defining the Moods"
   ]
  },
  {
   "cell_type": "markdown",
   "metadata": {},
   "source": [
    "### Mood Categories\n",
    "\n",
    "The moods and categories we use are based on the mapping found in the paper [\"Lyric Text Mining in Music Mood Classification\"](http://www.ismir2009.ismir.net/proceedings/PS3-4.pdf).\n",
    "\n",
    "H. Xiao, J. S. Downie, and A. F. Ehmann, “Lyric TextMining in Music Mood Classiﬁcation,” American Mu-sic, vol. 183, no. 5040, pp. 411–416, 2009\n",
    "\n"
   ]
  },
  {
   "cell_type": "code",
   "execution_count": null,
   "metadata": {},
   "outputs": [],
   "source": [
    "from lastfm_labels import MOOD_CATEGORIES\n",
    "print('Number of Mood Categories = {0}\\n'.format(len(MOOD_CATEGORIES)))\n",
    "print('Categories:\\n')\n",
    "pprint(MOOD_CATEGORIES)"
   ]
  },
  {
   "cell_type": "code",
   "execution_count": null,
   "metadata": {},
   "outputs": [],
   "source": []
  }
 ],
 "metadata": {
  "kernelspec": {
   "display_name": "Python 3",
   "language": "python",
   "name": "python3"
  },
  "language_info": {
   "codemirror_mode": {
    "name": "ipython",
    "version": 3
   },
   "file_extension": ".py",
   "mimetype": "text/x-python",
   "name": "python",
   "nbconvert_exporter": "python",
   "pygments_lexer": "ipython3",
   "version": "3.7.0"
  }
 },
 "nbformat": 4,
 "nbformat_minor": 2
}
