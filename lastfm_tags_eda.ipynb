{
 "cells": [
  {
   "cell_type": "markdown",
   "metadata": {},
   "source": [
    "# Exploratory Data Analysis of Last.fm's Mood Tags\n",
    "\n",
    "The Last.fm Tags dataset is a complementary dataset included as part of the Million Song Dataset. More information can be found [here](https://labrosa.ee.columbia.edu/millionsong/lastfm).\n",
    "\n",
    "The dataset is available in several different forms including individual json files for each track as well as an sqlite db. Iterating over the json files is cumbersome, so we make use of the sqlite db here.\n",
    "\n",
    "The goal of this workbook is to explore the tags available in the Last.fm dataset with a special focus on the moods targeted in our project."
   ]
  },
  {
   "cell_type": "code",
   "execution_count": 17,
   "metadata": {},
   "outputs": [
    {
     "name": "stdout",
     "output_type": "stream",
     "text": [
      "Pretty printing has been turned ON\n"
     ]
    }
   ],
   "source": [
    "import matplotlib.pyplot as plt\n",
    "from importlib import reload\n",
    "from pprint import pprint\n",
    "import pandas as pd\n",
    "import os\n",
    "\n",
    "%pprint\n",
    "%matplotlib inline"
   ]
  },
  {
   "cell_type": "markdown",
   "metadata": {},
   "source": [
    "# Getting Started\n",
    "\n",
    "### Connecting to the DB"
   ]
  },
  {
   "cell_type": "code",
   "execution_count": 18,
   "metadata": {},
   "outputs": [
    {
     "name": "stdout",
     "output_type": "stream",
     "text": [
      "/home/jcworkma/jack/w266-group-project_lyric-mood-classification/data/lastfm_tags.db\n"
     ]
    },
    {
     "data": {
      "text/plain": [
       "<sqlite3.Connection at 0x7f4460c3ce30>"
      ]
     },
     "execution_count": 18,
     "metadata": {},
     "output_type": "execute_result"
    }
   ],
   "source": [
    "from label_lyrics import LASTFM_TAGS_DB\n",
    "import sqlite3\n",
    "\n",
    "dbpath = os.path.abspath(LASTFM_TAGS_DB)\n",
    "print(dbpath)\n",
    "conn = sqlite3.connect(dbpath)\n",
    "conn"
   ]
  },
  {
   "cell_type": "markdown",
   "metadata": {},
   "source": [
    "### Example Last.fm Tags Queries\n",
    "\n",
    "These examples are taken from the very helpful [MSD provided example code](https://labrosa.ee.columbia.edu/millionsong/sites/default/files/lastfm/demo_tags_db.py) demonstrating how to work with the last.fm sqlite db."
   ]
  },
  {
   "cell_type": "code",
   "execution_count": 19,
   "metadata": {},
   "outputs": [],
   "source": [
    "from label_lyrics import sanitize"
   ]
  },
  {
   "cell_type": "code",
   "execution_count": 20,
   "metadata": {},
   "outputs": [
    {
     "name": "stdout",
     "output_type": "stream",
     "text": [
      "************** DEMO 4 **************\n",
      "We get all tracks for the tag: Acid Smurfs\n",
      "[('TRDATLJ128F92FC75F',),\n",
      " ('TRVTZIF128F42725C1',),\n",
      " ('TREPQOO128F9328886',),\n",
      " ('TROXKKP128F427886F',)]\n"
     ]
    }
   ],
   "source": [
    "print('************** DEMO 4 **************')\n",
    "tag = 'Acid Smurfs'\n",
    "print('We get all tracks for the tag: {0}'.format(tag))\n",
    "sql = \"SELECT tids.tid FROM tags, tids, tid_tag WHERE tids.ROWID=tid_tag.tid AND tid_tag.tag=tags.ROWID AND tags.tag='{0}'\".format(sanitize(tag))\n",
    "res = conn.execute(sql)\n",
    "data = res.fetchall()\n",
    "\n",
    "pprint(data)"
   ]
  },
  {
   "cell_type": "code",
   "execution_count": 21,
   "metadata": {},
   "outputs": [
    {
     "name": "stdout",
     "output_type": "stream",
     "text": [
      "************** DEMO 5 **************\n",
      "We get all tags and the number of tracks they're applied to\n"
     ]
    }
   ],
   "source": [
    "print('************** DEMO 5 **************')\n",
    "print(\"We get all tags and the number of tracks they're applied to\")\n",
    "sql = \"SELECT tags.tag, COUNT(tid_tag.tid) FROM tid_tag, tags WHERE tid_tag.tag=tags.ROWID GROUP BY tags.tag\"\n",
    "\n",
    "### WARNING - this one takes a minute... uncomment these lines to execute\n",
    "#res = conn.execute(sql)\n",
    "#data = res.fetchall()\n",
    "#data = sorted(data, key=lambda x: x[1], reverse=True)\n",
    "#print('after sorting...')\n",
    "#for k in range(10):\n",
    "#    print(data[k])\n",
    "#print('...')"
   ]
  },
  {
   "cell_type": "markdown",
   "metadata": {},
   "source": [
    "### Last.fm DB Schema Exploration\n",
    "\n",
    "In order to use the provided db effectively, we need to know its schema. Here we use sql commands to expose its table structure (credit: https://www.tomordonez.com/get-schema-sqlite-python.html).\n",
    "\n",
    "It turns out that the schema is incredibly simple.\n"
   ]
  },
  {
   "cell_type": "code",
   "execution_count": 22,
   "metadata": {},
   "outputs": [
    {
     "name": "stdout",
     "output_type": "stream",
     "text": [
      "Tables: ['tags', 'tids', 'tid_tag']\n",
      "\n",
      "Table \"tags\"\n",
      "\tcolumns: ['tag']\n",
      "\trows: 522366\n",
      "Table \"tids\"\n",
      "\tcolumns: ['tid']\n",
      "\trows: 505216\n",
      "Table \"tid_tag\"\n",
      "\tcolumns: ['tid', 'tag', 'val']\n",
      "\trows: 8598630\n"
     ]
    }
   ],
   "source": [
    "cur = conn.cursor()\n",
    "\n",
    "tables = list()\n",
    "for row in cur.execute(\"SELECT name FROM sqlite_master WHERE type='table';\").fetchall():\n",
    "    tables.append(row[0])\n",
    "\n",
    "print('Tables: {0}\\n'.format(tables))\n",
    "\n",
    "for table in tables:\n",
    "    \n",
    "    cols = list()\n",
    "    for row in cur.execute(\"pragma table_info('{0}')\".format(table)).fetchall():\n",
    "        cols.append(row[1])\n",
    "\n",
    "    row_count = cur.execute(\"SELECT Count(*) FROM {0}\".format(table)).fetchall()[0][0]\n",
    "        \n",
    "    print('Table \"{0}\"'.format(table))\n",
    "    print('\\tcolumns: {0}'.format(cols))\n",
    "    print('\\trows: {0}'.format(row_count))\n",
    "    \n",
    "    #print(cur.execute(\"SELECT * FROM {0} LIMIT 5\".format(table)).fetchall())\n",
    "    \n",
    "cur.close()"
   ]
  },
  {
   "cell_type": "markdown",
   "metadata": {},
   "source": [
    "And here is a quick peek at the beginning five rows of each table."
   ]
  },
  {
   "cell_type": "code",
   "execution_count": 23,
   "metadata": {},
   "outputs": [
    {
     "name": "stdout",
     "output_type": "stream",
     "text": [
      "                tag\n",
      "0      classic rock\n",
      "1  Progressive rock\n",
      "2             blues\n",
      "3      memphis slim\n",
      "4               pop\n",
      "                  tid\n",
      "0  TRCCCYE12903CFF0E9\n",
      "1  TRCCCFH12903CEBC70\n",
      "2  TRCCCJT128F429FFF6\n",
      "3  TRCCCBJ128F4286E6F\n",
      "4  TRCCJTI128EF35394A\n",
      "   tid  tag    val\n",
      "0    1    1  100.0\n",
      "1    1    2  100.0\n",
      "2    2    3  100.0\n",
      "3    2    4  100.0\n",
      "4    3    5  100.0\n"
     ]
    }
   ],
   "source": [
    "for table in tables:\n",
    "    \n",
    "    df = pd.read_sql_query(\"SELECT * FROM {0} LIMIT 5\".format(table), conn)\n",
    "    print(df)"
   ]
  },
  {
   "cell_type": "markdown",
   "metadata": {},
   "source": [
    "### Matching a Song to its Labels\n",
    "\n",
    "With the mapping data from MusixMatch and the sqlite db from last.fm, we can tie songs to their labels."
   ]
  },
  {
   "cell_type": "code",
   "execution_count": 24,
   "metadata": {},
   "outputs": [
    {
     "name": "stdout",
     "output_type": "stream",
     "text": [
      "[('TRLIEDO12903CA41B4', 'classic rock', 53.0),\n",
      " ('TRLIEDO12903CA41B4', 'pop', 28.0),\n",
      " ('TRLIEDO12903CA41B4', '70s', 100.0),\n",
      " ('TRLIEDO12903CA41B4', 'rock', 38.0),\n",
      " ('TRLIEDO12903CA41B4', 'favorites', 3.0),\n",
      " ('TRLIEDO12903CA41B4', 'upbeat', 2.0),\n",
      " ('TRLIEDO12903CA41B4', 'loved', 2.0),\n",
      " ('TRLIEDO12903CA41B4', 'Awesome', 2.0),\n",
      " ('TRLIEDO12903CA41B4', 'british', 4.0),\n",
      " ('TRLIEDO12903CA41B4', 'Love', 4.0),\n",
      " ('TRLIEDO12903CA41B4', 'first person songs', 1.0),\n",
      " ('TRLIEDO12903CA41B4', 'male vocalists', 5.0),\n",
      " ('TRLIEDO12903CA41B4', 'adult contemporary', 2.0),\n",
      " ('TRLIEDO12903CA41B4', 'soft rock', 33.0),\n",
      " ('TRLIEDO12903CA41B4', 'pop rock', 3.0),\n",
      " ('TRLIEDO12903CA41B4', \"70's\", 2.0),\n",
      " ('TRLIEDO12903CA41B4', '1970s', 2.0),\n",
      " ('TRLIEDO12903CA41B4', 'oldies', 9.0),\n",
      " ('TRLIEDO12903CA41B4', 'love songs', 6.0),\n",
      " ('TRLIEDO12903CA41B4', 'close harmony', 2.0),\n",
      " ('TRLIEDO12903CA41B4', 'acclaimed music top 3000', 2.0),\n",
      " ('TRLIEDO12903CA41B4', 'golden oldies', 3.0),\n",
      " ('TRLIEDO12903CA41B4', 'easy now', 1.0),\n",
      " ('TRLIEDO12903CA41B4', 'Radiotsar approved', 1.0),\n",
      " ('TRLIEDO12903CA41B4', 'solx', 1.0),\n",
      " ('TRLIEDO12903CA41B4', 'to classify', 1.0),\n",
      " ('TRLIEDO12903CA41B4', 'top 2000', 1.0),\n",
      " ('TRLIEDO12903CA41B4', 'ik ben', 1.0),\n",
      " ('TRLIEDO12903CA41B4', 'fH Projex', 1.0),\n",
      " ('TRLIEDO12903CA41B4', 'GH baby', 1.0),\n",
      " ('TRLIEDO12903CA41B4', 'Beatlesque', 2.0),\n",
      " ('TRLIEDO12903CA41B4', 'male vocalist', 2.0),\n",
      " ('TRLIEDO12903CA41B4', 'handclaps', 2.0),\n",
      " ('TRLIEDO12903CA41B4', 'best songs of the 70s', 1.0),\n",
      " ('TRLIEDO12903CA41B4', 'Gamle Ole', 1.0),\n",
      " ('TRLIEDO12903CA41B4', 'gertski pick', 1.0),\n",
      " ('TRLIEDO12903CA41B4', 'New late night lax', 1.0),\n",
      " ('TRLIEDO12903CA41B4', 'the evening shadows', 1.0),\n",
      " ('TRLIEDO12903CA41B4', 'alltimefavs', 1.0),\n",
      " ('TRLIEDO12903CA41B4', '70s aor radio', 1.0),\n",
      " ('TRLIEDO12903CA41B4', 'Beelloved', 2.0),\n",
      " ('TRLIEDO12903CA41B4', 'flott', 1.0),\n",
      " ('TRLIEDO12903CA41B4', 'the word love', 1.0),\n",
      " ('TRLIEDO12903CA41B4', 'canadian rpm magazine number one hit', 3.0),\n",
      " ('TRLIEDO12903CA41B4', 'Middle 1970s', 1.0),\n",
      " ('TRLIEDO12903CA41B4', 'soft rock pop', 2.0),\n",
      " ('TRLIEDO12903CA41B4', 'remember70', 1.0),\n",
      " ('TRLIEDO12903CA41B4', 'slgdmbestof', 1.0),\n",
      " ('TRLIEDO12903CA41B4', 'golden oldie', 1.0),\n",
      " ('TRLIEDO12903CA41B4', 'gute laune music', 1.0),\n",
      " ('TRLIEDO12903CA41B4', 'i know all the words to this', 1.0),\n",
      " ('TRLIEDO12903CA41B4', 'lovesongs', 2.0),\n",
      " ('TRLIEDO12903CA41B4', 'all-time fav', 1.0),\n",
      " ('TRLIEDO12903CA41B4', 'Kloron - Top 500 van 2006', 1.0),\n",
      " ('TRLIEDO12903CA41B4', 'Kloron - Top 500 van 2007', 1.0),\n",
      " ('TRLIEDO12903CA41B4', 'the word do', 1.0),\n",
      " ('TRLIEDO12903CA41B4', 'the word thing', 1.0),\n",
      " ('TRLIEDO12903CA41B4', 'Soft-Rock', 2.0),\n",
      " ('TRLIEDO12903CA41B4', 'one star', 1.0),\n",
      " ('TRLIEDO12903CA41B4', '1976', 3.0),\n",
      " ('TRLIEDO12903CA41B4', 'pop ballad', 2.0),\n",
      " ('TRLIEDO12903CA41B4', 'You and Me', 2.0),\n",
      " ('TRLIEDO12903CA41B4', 'Mellow 70s', 1.0),\n",
      " ('TRLIEDO12903CA41B4', 'rosis', 2.0),\n",
      " ('TRLIEDO12903CA41B4', 'lugnt03-', 1.0),\n",
      " ('TRLIEDO12903CA41B4', 'kmem400', 1.0),\n",
      " ('TRLIEDO12903CA41B4', 'the word we', 1.0),\n",
      " ('TRLIEDO12903CA41B4', 'love in the title', 1.0),\n",
      " ('TRLIEDO12903CA41B4', 'x-files', 5.0),\n",
      " ('TRLIEDO12903CA41B4', 'barbaras mix', 1.0),\n",
      " ('TRLIEDO12903CA41B4', 'g16', 1.0),\n",
      " ('TRLIEDO12903CA41B4', 'WSFM', 1.0),\n",
      " ('TRLIEDO12903CA41B4', 'rock tag', 1.0),\n",
      " ('TRLIEDO12903CA41B4', 'pobgirlsmix', 1.0),\n",
      " ('TRLIEDO12903CA41B4', 'grew up on', 1.0),\n",
      " ('TRLIEDO12903CA41B4', 'Cheezing Out and Loving It', 1.0),\n",
      " ('TRLIEDO12903CA41B4', 'love songs of the 70s', 1.0),\n",
      " ('TRLIEDO12903CA41B4', 'seminal 70s', 1.0),\n",
      " ('TRLIEDO12903CA41B4', 'sooz soft rox', 1.0),\n",
      " ('TRLIEDO12903CA41B4', 'uk chart hits to check out - the 70s', 1.0),\n",
      " ('TRLIEDO12903CA41B4', 'sgn70s', 1.0),\n",
      " ('TRLIEDO12903CA41B4', 'for the heart', 2.0),\n",
      " ('TRLIEDO12903CA41B4', 'old faves', 2.0),\n",
      " ('TRLIEDO12903CA41B4', 'the word for', 1.0),\n",
      " ('TRLIEDO12903CA41B4', '10cc', 17.0),\n",
      " ('TRLIEDO12903CA41B4', 'game of love', 1.0),\n",
      " ('TRLIEDO12903CA41B4', 'grusin', 1.0),\n",
      " ('TRLIEDO12903CA41B4', 'Babysitting years', 1.0),\n",
      " ('TRLIEDO12903CA41B4', 'playfull', 1.0),\n",
      " ('TRLIEDO12903CA41B4', 'Things We Do', 1.0),\n",
      " ('TRLIEDO12903CA41B4', 'Definite play', 1.0),\n",
      " ('TRLIEDO12903CA41B4', 'My Favorite Classic Rock of All Time', 1.0),\n",
      " ('TRLIEDO12903CA41B4', 'wind down zone', 1.0),\n",
      " ('TRLIEDO12903CA41B4', 'aint love grand', 1.0),\n",
      " ('TRLIEDO12903CA41B4', 'songs of 1976', 1.0),\n",
      " ('TRLIEDO12903CA41B4', 'classic 70s radio', 1.0),\n",
      " ('TRLIEDO12903CA41B4', 'all this time-hmmm oh yeah', 1.0),\n",
      " ('TRLIEDO12903CA41B4', 'pre-intrest', 1.0),\n",
      " ('TRLIEDO12903CA41B4', 'the games we play', 1.0),\n",
      " ('TRLIEDO12903CA41B4', 'yeah-no joke', 1.0)]\n"
     ]
    }
   ],
   "source": [
    "example_song = {\n",
    "    'msd_id': 'TRLIEDO12903CA41B4',\n",
    "    'msd_artist': '10 CC',\n",
    "    'msd_title': 'The Things We Do For Love',\n",
    "    'mxm_id': '2258063',\n",
    "    'mxm_artist': '10cc',\n",
    "    'mxm_title': 'The Things We Do for Love'\n",
    "}\n",
    "sql = \"SELECT tids.tid, tags.tag, tid_tag.val FROM tid_tag, tids, tags WHERE tids.ROWID=tid_tag.tid AND tid_tag.tag=tags.ROWID AND tids.tid='{0}'\".format(sanitize(example_song['msd_id']))\n",
    "res = conn.execute(sql)\n",
    "data = res.fetchall()\n",
    "pprint(data)\n"
   ]
  },
  {
   "cell_type": "markdown",
   "metadata": {},
   "source": [
    "# Tag EDA\n",
    "\n",
    "Now that we know the schema and how to connect to and query the db, we can investigate its contents."
   ]
  },
  {
   "cell_type": "markdown",
   "metadata": {},
   "source": [
    "### Number of Tags"
   ]
  },
  {
   "cell_type": "code",
   "execution_count": 26,
   "metadata": {},
   "outputs": [
    {
     "name": "stdout",
     "output_type": "stream",
     "text": [
      "Number of Tags: 522366\n",
      "\n",
      "Example Tags: ['classic rock', 'Progressive rock', 'blues', 'memphis slim', 'pop', '70s', 'Middle of the road', 'Bonjour ca va', 'Tony Levin', 'instrumental']\n"
     ]
    }
   ],
   "source": [
    "from label_lyrics import query\n",
    "\n",
    "data = query(conn, \"SELECT tag FROM tags\")\n",
    "print('Number of Tags:', len(data))\n",
    "\n",
    "data = query(conn, \"SELECT tag FROM tags LIMIT 10\")\n",
    "print('\\nExample Tags:', ([x[0] for x in data]))\n"
   ]
  },
  {
   "cell_type": "markdown",
   "metadata": {},
   "source": [
    "### Tag Count Histogram\n",
    "\n",
    "From the following histogram, we observe, that there must be a very, very long rightward tail."
   ]
  },
  {
   "cell_type": "code",
   "execution_count": 27,
   "metadata": {},
   "outputs": [],
   "source": [
    "df = pd.read_sql_query(\"SELECT tags.tag, COUNT(tid_tag.tid) as count FROM tid_tag, tags WHERE tid_tag.tag=tags.ROWID GROUP BY tags.tag ORDER BY count desc\", conn)"
   ]
  },
  {
   "cell_type": "code",
   "execution_count": 28,
   "metadata": {},
   "outputs": [
    {
     "data": {
      "image/png": "[encoded data removed]",
      "text/plain": [
       "<Figure size 432x288 with 1 Axes>"
      ]
     },
     "metadata": {
      "needs_background": "light"
     },
     "output_type": "display_data"
    }
   ],
   "source": [
    "histodata = df\n",
    "_ = plt.hist(histodata['count'])"
   ]
  },
  {
   "cell_type": "code",
   "execution_count": 29,
   "metadata": {},
   "outputs": [
    {
     "data": {
      "image/png": "[encoded data removed]",
      "text/plain": [
       "<Figure size 432x288 with 1 Axes>"
      ]
     },
     "metadata": {
      "needs_background": "light"
     },
     "output_type": "display_data"
    }
   ],
   "source": [
    "histodata = df.head(100)\n",
    "_ = plt.hist(histodata['count'])"
   ]
  },
  {
   "cell_type": "code",
   "execution_count": 30,
   "metadata": {},
   "outputs": [
    {
     "data": {
      "image/png": "[encoded data removed]",
      "text/plain": [
       "<Figure size 432x288 with 1 Axes>"
      ]
     },
     "metadata": {
      "needs_background": "light"
     },
     "output_type": "display_data"
    }
   ],
   "source": [
    "histodata = df.head(50)\n",
    "_ = plt.hist(histodata['count'])"
   ]
  },
  {
   "cell_type": "markdown",
   "metadata": {},
   "source": [
    "# Defining the Moods"
   ]
  },
  {
   "cell_type": "markdown",
   "metadata": {},
   "source": [
    "### Mood Categories\n",
    "\n",
    "The moods and categories we use are based on the mapping found in the paper [\"Lyric Text Mining in Music Mood Classification\"](http://www.ismir2009.ismir.net/proceedings/PS3-4.pdf).\n",
    "\n",
    "H. Xiao, J. S. Downie, and A. F. Ehmann, “Lyric TextMining in Music Mood Classiﬁcation,” American Mu-sic, vol. 183, no. 5040, pp. 411–416, 2009\n",
    "\n"
   ]
  },
  {
   "cell_type": "code",
   "execution_count": 31,
   "metadata": {},
   "outputs": [
    {
     "name": "stdout",
     "output_type": "stream",
     "text": [
      "Number of Mood Categories = 18\n",
      "\n",
      "Categories:\n",
      "\n",
      "{'aggression': ['aggression', 'aggressive'],\n",
      " 'anger': ['anger', 'angry', 'choleric', 'fury', 'outraged', 'rage'],\n",
      " 'angst': ['angst', 'anxiety', 'anxious', 'jumpy', 'nervous', 'angsty'],\n",
      " 'brooding': ['brooding', 'contemplative', 'meditative', 'reflective'],\n",
      " 'calm': ['calm', 'comfort', 'quiet', 'serene', 'mellow', 'chill out'],\n",
      " 'cheerful': ['cheerful', 'cheer up', 'festive', 'jolly', 'jovial', 'merry'],\n",
      " 'confident': ['confident', 'encouraging', 'encouragement', 'optimism'],\n",
      " 'depressed': ['depressed', 'blue', 'dark', 'depressive', 'dreary'],\n",
      " 'desire': ['desire', 'hope', 'hopeful', 'mood: hopeful'],\n",
      " 'dreamy': ['dreamy'],\n",
      " 'earnest': ['earnest', 'heartfelt'],\n",
      " 'excitement': ['excitement', 'exciting', 'exhilarating', 'thrill', 'ardor'],\n",
      " 'grief': ['grief', 'heartbreak', 'mournful', 'sorrow', 'sorry'],\n",
      " 'happy': ['happy', 'happiness', 'happy songs', 'happy music'],\n",
      " 'pessimism': ['pessimism', 'cynical', 'pessimistic', 'weltschmerz'],\n",
      " 'romantic': ['romantic', 'romantic music'],\n",
      " 'sad': ['sadness', 'unhappy', 'melancholic', 'melancholy'],\n",
      " 'upbeat': ['upbeat', 'gleeful', 'high spirits', 'zest', 'enthusiastic']}\n"
     ]
    }
   ],
   "source": [
    "from label_lyrics import MOOD_CATEGORIES\n",
    "print('Number of Mood Categories = {0}\\n'.format(len(MOOD_CATEGORIES)))\n",
    "print('Categories:\\n')\n",
    "pprint(MOOD_CATEGORIES)"
   ]
  },
  {
   "cell_type": "markdown",
   "metadata": {},
   "source": [
    "### Expanding the Categories\n",
    "\n",
    "The last.fm dataset is generated by users without scientific rigor in mind. There is a chance that searching for an exact match on a mood and its related moods will not always yield all possible matches. In this section, we will explore additional tags that match with each category.\n",
    "\n",
    "For each mood, we\n",
    "1. Query all tracks that match exactly with the mood and its siblings\n",
    "2. Query all tracks that match with LIKE the mood and its siblings with some small modifications if necessary (ex: instead of an exact match on 'meditation', we query for a LIKE match on 'meditat' to allow for different conjugations)\n",
    "3. Compare the difference between (1) and (2)\n",
    "4. Manually build a set of filters to remove tags that match (2) but are not appropriate. (ex: 'happy' ~= 'unhappy' but is not appropriate)\n"
   ]
  },
  {
   "cell_type": "code",
   "execution_count": 279,
   "metadata": {},
   "outputs": [],
   "source": [
    "# to store all filter words for each mood\n",
    "filters = dict()\n",
    "# to store all like-query words for each mood\n",
    "likes = dict()\n",
    "\n",
    "def match_tags_to_songs(tags, conn):\n",
    "    \"\"\"\n",
    "    Helper function to get all songs that match a group of tags\n",
    "    \"\"\"\n",
    "    sql = (\"SELECT tids.tid, tags.tag, tid_tag.val \"\n",
    "           \"FROM tid_tag, tids, tags \"\n",
    "           \"WHERE tids.ROWID=tid_tag.tid AND tid_tag.tag=tags.ROWID AND (\")\n",
    "    last = len(tags)\n",
    "    for i, tag in enumerate(tags):\n",
    "        sql += \"tags.tag='{0}' \".format(tag)\n",
    "        if i + 1 != last:\n",
    "            sql += 'OR '\n",
    "    sql += ')'\n",
    "    df = pd.read_sql_query(sql, conn)\n",
    "    return df\n",
    "\n",
    "def match_like_tags_to_songs(tags, conn):\n",
    "    \"\"\"\n",
    "    Helper function to get all songs that match with 'LIKE' a group of tags\n",
    "    \"\"\"\n",
    "    sql = (\"SELECT tids.tid, tags.tag, tid_tag.val \"\n",
    "           \"FROM tid_tag, tids, tags \"\n",
    "           \"WHERE tids.ROWID=tid_tag.tid AND tid_tag.tag=tags.ROWID AND (\")\n",
    "    last = len(tags)\n",
    "    for i, tag in enumerate(tags):\n",
    "        sql += \"tags.tag LIKE '%{0}%' \".format(tag)\n",
    "        if i + 1 != last:\n",
    "            sql += 'OR '\n",
    "    sql += ')'\n",
    "    df = pd.read_sql_query(sql, conn)\n",
    "    return df\n",
    "\n",
    "def set_difference(pd_series1, pd_series2):\n",
    "    set_diff = set(pd_series1.unique()) - set(pd_series2.unique())\n",
    "    return set_diff\n",
    "\n",
    "def filter_by_substring(df, filters):\n",
    "    for filt in filters:\n",
    "        df = df[~df.tag.str.lower().str.contains(filt)]\n",
    "    return df\n",
    "\n",
    "def like_match_analysis(tags, likes, conn, filters=None):\n",
    "    \"\"\"\n",
    "    Helper function to query and then compare the difference between the two\n",
    "    query methods\n",
    "    \"\"\"\n",
    "    df_exact = match_tags_to_songs(tags, conn)\n",
    "    df_like = match_like_tags_to_songs(likes, conn)\n",
    "    print('Number of songs that are a direct match:', len(df_exact))\n",
    "    print('Number of songs that are an approximate match:', len(df_like))\n",
    "    if filters:\n",
    "        df_like = filter_by_substring(df_like, filters)\n",
    "        print('\\tafter filter:', len(df_like))\n",
    "    print('\\nExample tags covered by the approximate match and not by the direct match:\\n')\n",
    "    set_diff = set_difference(df_like.tag, df_exact.tag)\n",
    "    print(list(set_diff)[:10])\n",
    "    pct_improve = -1\n",
    "    if len(df_exact) > 0:\n",
    "        pct_improve = len(df_like) / len(df_exact) * 100\n",
    "    print('\\nImprovement granted by like match: {0} songs, {1:.2f}%'.format(\n",
    "        len(df_like) - len(df_exact), pct_improve))\n",
    "    \n",
    "    return df_exact, df_like, set_diff"
   ]
  },
  {
   "cell_type": "markdown",
   "metadata": {},
   "source": [
    "#### Aggression"
   ]
  },
  {
   "cell_type": "code",
   "execution_count": 281,
   "metadata": {},
   "outputs": [
    {
     "name": "stdout",
     "output_type": "stream",
     "text": [
      "Number of songs that are a direct match: 1656\n",
      "Number of songs that are an approximate match: 2428\n",
      "\n",
      "Example tags covered by the approximate match and not by the direct match:\n",
      "\n",
      "['Aggressive Thrash Metal', 'Post Aggressive', 'volatile aggressive', 'not so aggressive', 'softly-aggressive', 'Aggressive Singing', 'Aggressive Alternative - At work music', 'aggressiv', 'awesomely aggressive', 'chill-to-aggressive']\n",
      "\n",
      "Improvement granted by like match: 772 songs, 146.62%\n"
     ]
    }
   ],
   "source": [
    "likes['aggression'] = ['aggress']\n",
    "\n",
    "_, _, _ = like_match_analysis(\n",
    "    MOOD_CATEGORIES['aggression'],\n",
    "    likes['aggression'],\n",
    "    conn)"
   ]
  },
  {
   "cell_type": "markdown",
   "metadata": {},
   "source": [
    "Wow! The LIKE search uncovered a lot of missing tags. However, there are some that do not fit the bill. Reviewing the above list, we see the following that should not be included as part of Aggressive. These will be manually culled.\n",
    "\n",
    "* 'not so aggressive'\n",
    "* 'aggressio'"
   ]
  },
  {
   "cell_type": "code",
   "execution_count": 282,
   "metadata": {},
   "outputs": [
    {
     "name": "stdout",
     "output_type": "stream",
     "text": [
      "Number of songs that are a direct match: 1656\n",
      "Number of songs that are an approximate match: 2428\n",
      "\tafter filter: 2303\n",
      "\n",
      "Example tags covered by the approximate match and not by the direct match:\n",
      "\n",
      "['Aggressive Thrash Metal', 'volatile aggressive', 'Post Aggressive', 'softly-aggressive', 'Aggressive Singing', 'aggressiv', 'awesomely aggressive', 'chill-to-aggressive', 'aggressively feminine', 'melodically aggressive']\n",
      "\n",
      "Improvement granted by like match: 647 songs, 139.07%\n"
     ]
    }
   ],
   "source": [
    "filters['aggression'] = ['not so aggressive', 'aggressio']\n",
    "\n",
    "_, _, _ = like_match_analysis(\n",
    "    MOOD_CATEGORIES['aggression'],\n",
    "    likes['aggression'],\n",
    "    conn,\n",
    "    filters=filters['aggression'])"
   ]
  },
  {
   "cell_type": "markdown",
   "metadata": {},
   "source": [
    "#### Anger"
   ]
  },
  {
   "cell_type": "code",
   "execution_count": 283,
   "metadata": {},
   "outputs": [
    {
     "name": "stdout",
     "output_type": "stream",
     "text": [
      "Number of songs that are a direct match: 3158\n",
      "Number of songs that are an approximate match: 21928\n",
      "\n",
      "Example tags covered by the approximate match and not by the direct match:\n",
      "\n",
      "['garage-psych', 'angry pop music', 'entourage soundtrack', 'i am angry', 'English Garage', 'Lone Daranger', 'swedish-garage-rock-revival', 'rage against the machine - down rodeo', 'angry break up songs', 'good when your angry']\n",
      "\n",
      "Improvement granted by like match: 18770 songs, 694.36%\n"
     ]
    }
   ],
   "source": [
    "likes['anger'] = ['anger', 'angry', 'choleric', 'fury', 'outraged', 'rage']\n",
    "\n",
    "df_exact, df_like, set_diff = like_match_analysis(\n",
    "    MOOD_CATEGORIES['anger'],\n",
    "    likes['anger'],\n",
    "    conn)"
   ]
  },
  {
   "cell_type": "code",
   "execution_count": 284,
   "metadata": {},
   "outputs": [
    {
     "name": "stdout",
     "output_type": "stream",
     "text": [
      "Number of songs that are a direct match: 3158\n",
      "Number of songs that are an approximate match: 21928\n",
      "\tafter filter: 5968\n",
      "\n",
      "Example tags covered by the approximate match and not by the direct match:\n",
      "\n",
      "['angry donald duck metal', 'songs better than dont look back in anger', 'angry pop music', 'i am angry', 'angry break up songs', 'good when your angry', 'videos I loved on rage when I was a kid', 'angry muzak', 'Sound and Fury', 'it is hard to be angry while listening to this']\n",
      "\n",
      "Improvement granted by like match: 2810 songs, 188.98%\n"
     ]
    }
   ],
   "source": [
    "# we can see that there are many tags that do not fit in with 'anger'\n",
    "# we attempt to filter those out here for a better look\n",
    "filters['anger'] = ['garage', 'entourage', 'daranger', 'danger', 'underage', 'banger',\n",
    "          'ranger', 'doppleganger', 'doppelganger', 'traged', 'piangere', 'stranger',\n",
    "          'beverage', 'coverage', 'zangeres', 'average', 'mirage', 'underage',\n",
    "          'langer', 'not in anger', 'tanger', 'fuleragem', 'fragements', 'enouragement',\n",
    "          'suffragette', 'avarage', 'leverage', 'changer', 'courage', 'hervorragend', \n",
    "          'bursdagsanger', 'tragedies', 'rage against the machine', 'volkzangers',\n",
    "          'getragen', 'frageze', 'tanger', 'arragem', 'not rage', 'wangerFamilie',\n",
    "          'cooperage', 'anchorage', 'sanger', 'manger', 'sangerin', 'kenneth anger',\n",
    "          'svanger', 'songs that take all the anger out of you', 'pandeiragem', 'behangers',\n",
    "          'fragen', 'angerls', 'frage', 'korageklimper', 'sjanger', 'umbrageous']\n",
    "\n",
    "df_exact, df_like, set_diff = like_match_analysis(\n",
    "    MOOD_CATEGORIES['anger'],\n",
    "    likes['anger'],\n",
    "    conn,\n",
    "    filters=filters['anger'])"
   ]
  },
  {
   "cell_type": "markdown",
   "metadata": {},
   "source": [
    "#### Angst"
   ]
  },
  {
   "cell_type": "code",
   "execution_count": 285,
   "metadata": {},
   "outputs": [
    {
     "name": "stdout",
     "output_type": "stream",
     "text": [
      "Number of songs that are a direct match: 1213\n",
      "Number of songs that are an approximate match: 5488\n",
      "\n",
      "Example tags covered by the approximate match and not by the direct match:\n",
      "\n",
      "['im tense and nervous', 'angstyish', 'electronic angst', 'angstt', 'existential angst', 'chill gangsta tunes', 'gangsta shit g-unit', 'Gangsta free zone', 'Nervous Records', 'hardcore gangster rap']\n",
      "\n",
      "Improvement granted by like match: 4275 songs, 452.43%\n"
     ]
    }
   ],
   "source": [
    "likes['angst'] = ['angst', 'anxiety', 'anxious', 'jumpy', 'nervous', 'angsty']\n",
    "\n",
    "df_exact, df_like, set_diff = like_match_analysis(\n",
    "    MOOD_CATEGORIES['angst'],\n",
    "    likes['angst'],\n",
    "    conn)    "
   ]
  },
  {
   "cell_type": "code",
   "execution_count": 329,
   "metadata": {},
   "outputs": [
    {
     "name": "stdout",
     "output_type": "stream",
     "text": [
      "Number of songs that are a direct match: 1213\n",
      "Number of songs that are an approximate match: 5488\n",
      "\tafter filter: 1912\n",
      "\n",
      "Example tags covered by the approximate match and not by the direct match:\n",
      "\n",
      "['tense-anxious love-ache heart-sex song', 'im tense and nervous', 'the word nervous', 'angsti', 'angstyish', 'existential angst', 'angstt', 'electronic angst', 'Nervous Records', 'too angsty for a tuesday']\n",
      "\n",
      "Improvement granted by like match: 699 songs, 157.63%\n"
     ]
    }
   ],
   "source": [
    "filters['angst'] = ['gangst', 'langstrumpf', 'farangstar', 'gaaangstaa', 'klangstark', ]\n",
    "\n",
    "df_exact, df_like, set_diff = like_match_analysis(\n",
    "    MOOD_CATEGORIES['angst'],\n",
    "    likes['angst'],\n",
    "    conn,\n",
    "    filters=filters['angst'])    "
   ]
  },
  {
   "cell_type": "markdown",
   "metadata": {},
   "source": [
    "#### Brooding"
   ]
  },
  {
   "cell_type": "code",
   "execution_count": 287,
   "metadata": {},
   "outputs": [
    {
     "name": "stdout",
     "output_type": "stream",
     "text": [
      "Number of songs that are a direct match: 1360\n",
      "Number of songs that are an approximate match: 5443\n",
      "\n",
      "Example tags covered by the approximate match and not by the direct match:\n",
      "\n",
      "['reflective funk', 'seashore meditation', 'self reflection being drowned in a bathtub', 'Reflections of me', 'music for contemplation', 'Silverchair-Reflections of a sound', 'Marilyn Manson - The Reflecting God', 'music is meditation', 'meditative funk', 'premeditated pleasures']\n",
      "\n",
      "Improvement granted by like match: 4083 songs, 400.22%\n"
     ]
    }
   ],
   "source": [
    "likes['brooding'] = ['brood', 'contemplat', 'meditat', 'reflect']\n",
    "\n",
    "df_exact, df_like, set_diff = like_match_analysis(\n",
    "    MOOD_CATEGORIES['brooding'],\n",
    "    likes['brooding'],\n",
    "    conn)    "
   ]
  },
  {
   "cell_type": "code",
   "execution_count": 288,
   "metadata": {},
   "outputs": [
    {
     "name": "stdout",
     "output_type": "stream",
     "text": [
      "Number of songs that are a direct match: 1360\n",
      "Number of songs that are an approximate match: 5443\n",
      "\tafter filter: 5439\n",
      "\n",
      "Example tags covered by the approximate match and not by the direct match:\n",
      "\n",
      "['reflective funk', 'seashore meditation', 'self reflection being drowned in a bathtub', 'Reflections of me', 'music for contemplation', 'music is meditation', 'meditative funk', 'premeditated pleasures', 'post-rock contemplative', 'self reflection']\n",
      "\n",
      "Improvement granted by like match: 4079 songs, 399.93%\n"
     ]
    }
   ],
   "source": [
    "filters['brooding'] = ['broodcast', 'marilyn manson - the reflecting god', 'silverchair-reflections of a sound']\n",
    "\n",
    "df_exact, df_like, set_diff = like_match_analysis(\n",
    "    MOOD_CATEGORIES['brooding'],\n",
    "    likes['brooding'],\n",
    "    conn,\n",
    "    filters=filters['brooding'])   "
   ]
  },
  {
   "cell_type": "markdown",
   "metadata": {},
   "source": [
    "#### Calm"
   ]
  },
  {
   "cell_type": "code",
   "execution_count": 290,
   "metadata": {},
   "outputs": [
    {
     "name": "stdout",
     "output_type": "stream",
     "text": [
      "Number of songs that are a direct match: 10785\n",
      "Number of songs that are an approximate match: 142518\n",
      "\n",
      "Example tags covered by the approximate match and not by the direct match:\n",
      "\n",
      "['chillout to check out', 'serenes it up', 'takin a chill pill', 'progressive chill', 'David design From Sweden with Love and mellow voices', 'soundtrack quiet', 'chillstrumental', 'chill bossa', 'chillout dnb', 'Norwegian Chillout']\n",
      "\n",
      "Improvement granted by like match: 131733 songs, 1321.45%\n"
     ]
    }
   ],
   "source": [
    "likes['calm'] = ['calm', 'comfort', 'quiet', 'serene', 'mellow', 'chill']\n",
    "\n",
    "df_exact, df_like, set_diff = like_match_analysis(\n",
    "    MOOD_CATEGORIES['calm'],\n",
    "    likes['calm'],\n",
    "    conn)   "
   ]
  },
  {
   "cell_type": "code",
   "execution_count": 291,
   "metadata": {},
   "outputs": [
    {
     "name": "stdout",
     "output_type": "stream",
     "text": [
      "Number of songs that are a direct match: 10785\n",
      "Number of songs that are an approximate match: 142518\n",
      "\tafter filter: 142048\n",
      "\n",
      "Example tags covered by the approximate match and not by the direct match:\n",
      "\n",
      "['chillout to check out', 'serenes it up', 'takin a chill pill', 'progressive chill', 'David design From Sweden with Love and mellow voices', 'soundtrack quiet', 'chillstrumental', 'chill bossa', 'chillout dnb', 'Norwegian Chillout']\n",
      "\n",
      "Improvement granted by like match: 131263 songs, 1317.09%\n"
     ]
    }
   ],
   "source": [
    "filters['calm'] = ['calminha', 'schill-das', 'dragonland', 'clelia felix', 'schiller', 'quiet riot',\n",
    "          'chillung', 'alex gopher', 'royksoppia', 'bob baldwin', 'uncomfortabl',\n",
    "          'chili con carnage', 'hot as chilli', 'smokey robinson', 'quiet roit', \n",
    "          'grover washington', 'stvari', 'mobb deep', 'scott matthews', 'shadow puppets',\n",
    "          'red hot chilli pipers', 'feeder-2002', 'piehti', 'peter schilling',\n",
    "          'the main ingredient', 'red hot chilli pepper', 'impossible to listen to quietly',\n",
    "          'cannot be played quietly', 'probably have listened to the chills', 'rustycanuckchill',\n",
    "          'southern comfort', 'most serene republic', 'john mayer', 'nusrat fateh', 'pink martini',\n",
    "          'skunk anansie', 'tonight is glory', 'brutal metal for quiet people', 'calmeback',\n",
    "          'red hot chilli pepers', 'comfort food', 'chilli peppers', 'comfortably numb',\n",
    "          'simon cooper', 'redhotchillypeppers', 'the sea is calm once more', 'paul brown',\n",
    "          'maria mena', 'chilli pepers', 'comfortable liar', 'unrequieted', 'carly simon',\n",
    "          'shai', 'quietdrive', 'red hot chillis', 'buddha-bar', 'discomfort',\n",
    "          'red hot chilly pepers', 'children of bodom', 'not calming']\n",
    "\n",
    "df_exact, df_like, set_diff = like_match_analysis(\n",
    "    MOOD_CATEGORIES['calm'],\n",
    "    likes['calm'],\n",
    "    conn,\n",
    "    filters=filters['calm'])"
   ]
  },
  {
   "cell_type": "markdown",
   "metadata": {},
   "source": [
    "#### Cheerful"
   ]
  },
  {
   "cell_type": "code",
   "execution_count": 292,
   "metadata": {},
   "outputs": [
    {
     "name": "stdout",
     "output_type": "stream",
     "text": [
      "Number of songs that are a direct match: 1395\n",
      "Number of songs that are an approximate match: 4920\n",
      "\n",
      "Example tags covered by the approximate match and not by the direct match:\n",
      "\n",
      "['the hipster guide to a very merry christmas', 'cheerful 9', 'hey cheer up i love you', 'bizarre cheerleader rock-hop', 'samples jolly roger by adam and the ants', 'happy and cheerful', 'Rosemary Clooney Merry Xmas', 'merry-go-round', 'merry metal', 'Merry Christmas']\n",
      "\n",
      "Improvement granted by like match: 3525 songs, 352.69%\n"
     ]
    }
   ],
   "source": [
    "likes['cheerful'] = ['cheer', 'festive', 'jolly', 'jovial', 'merry']\n",
    "\n",
    "df_exact, df_like, set_diff = like_match_analysis(\n",
    "    MOOD_CATEGORIES['cheerful'],\n",
    "    likes['cheerful'],\n",
    "    conn)"
   ]
  },
  {
   "cell_type": "code",
   "execution_count": 293,
   "metadata": {},
   "outputs": [
    {
     "name": "stdout",
     "output_type": "stream",
     "text": [
      "Number of songs that are a direct match: 1395\n",
      "Number of songs that are an approximate match: 4920\n",
      "\tafter filter: 4819\n",
      "\n",
      "Example tags covered by the approximate match and not by the direct match:\n",
      "\n",
      "['the hipster guide to a very merry christmas', 'cheerful 9', 'hey cheer up i love you', 'happy and cheerful', 'Rosemary Clooney Merry Xmas', 'merry-go-round', 'merry metal', 'Merry Christmas', 'can cheer you up', 'cheer-accident']\n",
      "\n",
      "Improvement granted by like match: 3424 songs, 345.45%\n"
     ]
    }
   ],
   "source": [
    "filters['cheerful'] = ['cheerlead', 'samples jolly roger', 'pretty depressing', 'cheerless', 'Sophie Merry']\n",
    "\n",
    "df_exact, df_like, set_diff = like_match_analysis(\n",
    "    MOOD_CATEGORIES['cheerful'],\n",
    "    likes['cheerful'],\n",
    "    conn,\n",
    "    filters=filters['cheerful'])"
   ]
  },
  {
   "cell_type": "markdown",
   "metadata": {},
   "source": [
    "#### Confident"
   ]
  },
  {
   "cell_type": "code",
   "execution_count": 294,
   "metadata": {},
   "outputs": [
    {
     "name": "stdout",
     "output_type": "stream",
     "text": [
      "Number of songs that are a direct match: 247\n",
      "Number of songs that are an approximate match: 1612\n",
      "\n",
      "Example tags covered by the approximate match and not by the direct match:\n",
      "\n",
      "['Extraordinally Optimistic', 'Creative Encouragement', 'Doctor Who Confidential', 'Zeit fuer Optimisten', 'seamos optimistas', 'oddly optimistic', 'what a dark optimism', 'High School Confidential', 'optimism as irony', 'Optimistic Songs']\n",
      "\n",
      "Improvement granted by like match: 1365 songs, 652.63%\n"
     ]
    }
   ],
   "source": [
    "likes['confident'] = ['confident', 'encourag', 'optimis']\n",
    "\n",
    "df_exact, df_like, set_diff = like_match_analysis(\n",
    "    MOOD_CATEGORIES['confident'],\n",
    "    likes['confident'],\n",
    "    conn)   "
   ]
  },
  {
   "cell_type": "code",
   "execution_count": 295,
   "metadata": {},
   "outputs": [
    {
     "name": "stdout",
     "output_type": "stream",
     "text": [
      "Number of songs that are a direct match: 247\n",
      "Number of songs that are an approximate match: 1612\n",
      "\tafter filter: 1604\n",
      "\n",
      "Example tags covered by the approximate match and not by the direct match:\n",
      "\n",
      "['Extraordinally Optimistic', 'Creative Encouragement', 'oddly optimistic', 'Zeit fuer Optimisten', 'seamos optimistas', 'what a dark optimism', 'optimism as irony', 'Optimistic Songs', 'optimista y alegre', '80s confident']\n",
      "\n",
      "Improvement granted by like match: 1357 songs, 649.39%\n"
     ]
    }
   ],
   "source": [
    "filters['confident'] = ['confidential']\n",
    "\n",
    "df_exact, df_like, set_diff = like_match_analysis(\n",
    "    MOOD_CATEGORIES['confident'],\n",
    "    likes['confident'],\n",
    "    conn,\n",
    "    filters=filters['confident'])   "
   ]
  },
  {
   "cell_type": "markdown",
   "metadata": {},
   "source": [
    "#### Depressed"
   ]
  },
  {
   "cell_type": "code",
   "execution_count": 296,
   "metadata": {},
   "outputs": [
    {
     "name": "stdout",
     "output_type": "stream",
     "text": [
      "Number of songs that are a direct match: 9522\n",
      "Number of songs that are an approximate match: 36328\n",
      "\n",
      "Example tags covered by the approximate match and not by the direct match:\n",
      "\n",
      "['dark doom', 'dark shoegaze', 'Dark Nu Metal', 'dark shoegazer rock', 'depressiv black metal', 'dark and female', 'darkling', 'Dark Classic', 'dark synths', 'dark nu jazz']\n",
      "\n",
      "Improvement granted by like match: 26806 songs, 381.52%\n"
     ]
    }
   ],
   "source": [
    "likes['depressed'] = ['depress', 'dark', 'drear']\n",
    "\n",
    "df_exact, df_like, set_diff = like_match_analysis(\n",
    "    MOOD_CATEGORIES['depressed'],\n",
    "    # removed blue as it returned far more negative hits than positive\n",
    "    likes['depressed'],\n",
    "    conn)   "
   ]
  },
  {
   "cell_type": "code",
   "execution_count": 297,
   "metadata": {},
   "outputs": [
    {
     "name": "stdout",
     "output_type": "stream",
     "text": [
      "Number of songs that are a direct match: 9522\n",
      "Number of songs that are an approximate match: 36328\n",
      "\tafter filter: 36249\n",
      "\n",
      "Example tags covered by the approximate match and not by the direct match:\n",
      "\n",
      "['dark doom', 'dark shoegaze', 'Dark Nu Metal', 'dark shoegazer rock', 'depressiv black metal', 'dark and female', 'darkling', 'Dark Classic', 'dark synths', 'dark nu jazz']\n",
      "\n",
      "Improvement granted by like match: 26727 songs, 380.69%\n"
     ]
    }
   ],
   "source": [
    "filters['depressed'] = ['billy squier', 'david benoit', 'dark alley', 'john fogerty', 'jacks mannequin',\n",
    "          'naglfar', 'brenda russell', 'uncle tupelo', 'omarion', 'ozzy osbourne',\n",
    "          'donnie darko', 'donny darko', 'its dark outside', 'julenzeit', 'the hoosiers',\n",
    "          'black shuck', 'hot chip', 'mary gauthier', 'zombie girl', 'tuna sandwiches',\n",
    "          'dark sky demo', 'macbeth', 'poisonblack', 'oxide and neutrino', \n",
    "          'motion picture soundtrack', ]\n",
    "\n",
    "df_exact, df_like, set_diff = like_match_analysis(\n",
    "    MOOD_CATEGORIES['depressed'],\n",
    "    # removed blue as it returned far more negative hits than positive\n",
    "    likes['depressed'],\n",
    "    conn,\n",
    "    filters=filters['depressed'])   \n",
    "\n",
    "#pd.options.display.max_rows = 4000\n",
    "#pd.Series(list(set_diff)).sort_values()"
   ]
  },
  {
   "cell_type": "markdown",
   "metadata": {},
   "source": [
    "#### Desire"
   ]
  },
  {
   "cell_type": "code",
   "execution_count": 299,
   "metadata": {},
   "outputs": [
    {
     "name": "stdout",
     "output_type": "stream",
     "text": [
      "Number of songs that are a direct match: 576\n",
      "Number of songs that are an approximate match: 2850\n",
      "\n",
      "Example tags covered by the approximate match and not by the direct match:\n",
      "\n",
      "['hope tinged with melancholy', 'Naieela Hope of the States mix', 'hopelorn', 'you hope that he get what he deservesa', 'desire music', 'Trip-HopElectronicJazzExperimentalNorwegianIdmNu JazzNu-JazzAcid JazzDowntempoChillout', 'gives me hope for rap music', 'always hope that we die holding hands', 'miridesire', 'hope for the hopeless']\n",
      "\n",
      "Improvement granted by like match: 2274 songs, 494.79%\n"
     ]
    }
   ],
   "source": [
    "likes['desire'] = ['desire', 'desirin', 'hope', 'hopin']\n",
    "\n",
    "df_exact, df_like, set_diff = like_match_analysis(\n",
    "    MOOD_CATEGORIES['desire'],\n",
    "    likes['desire'],\n",
    "    conn)   "
   ]
  },
  {
   "cell_type": "code",
   "execution_count": 300,
   "metadata": {},
   "outputs": [
    {
     "name": "stdout",
     "output_type": "stream",
     "text": [
      "Number of songs that are a direct match: 576\n",
      "Number of songs that are an approximate match: 2850\n",
      "\tafter filter: 2350\n",
      "\n",
      "Example tags covered by the approximate match and not by the direct match:\n",
      "\n",
      "['hope tinged with melancholy', 'desire music', 'gives me hope for rap music', 'always hope that we die holding hands', 'hope for america', 'hopeful lyrics', 'withered hope', 'hope and desire', 'With hope', 'Prayer Hope Faith God']\n",
      "\n",
      "Improvement granted by like match: 1774 songs, 407.99%\n"
     ]
    }
   ],
   "source": [
    "filters['desire'] = ['hope of the states mix', 'hopelorn', 'you hope that he get what', 'trip-hop', 'hope sandoval',\n",
    "          'hopeless', 'swallow the sun', 'trip hop', 'hopelessness', 'chopin', 'the white ship of hope', 'no hope',\n",
    "          'hope is gone', 'hopeton', 'hip-hope', 'james hope', 'hoperas', 'randy hope', 'falsehope', 'i hope not',\n",
    "          'rapid hope loss', 'hopek', 'give up all hope', 'barbershopesque', 'miridesire', 'i hope my neighbour',\n",
    "          'pirates of the caribbean']\n",
    "\n",
    "df_exact, df_like, set_diff = like_match_analysis(\n",
    "    MOOD_CATEGORIES['desire'],\n",
    "    likes['desire'],\n",
    "    conn,\n",
    "    filters=filters['desire'])"
   ]
  },
  {
   "cell_type": "markdown",
   "metadata": {},
   "source": [
    "#### Dreamy"
   ]
  },
  {
   "cell_type": "code",
   "execution_count": 301,
   "metadata": {},
   "outputs": [
    {
     "name": "stdout",
     "output_type": "stream",
     "text": [
      "Number of songs that are a direct match: 0\n",
      "Number of songs that are an approximate match: 7487\n",
      "\n",
      "Example tags covered by the approximate match and not by the direct match:\n",
      "\n",
      "['dreamy melancholy', 'Dreamy Mind', 'dreamy goodness', 'dreamy shoegazer', 'dreamy hip hop', 'dreamyGrooves', 'dreamy sun', 'dreamy mix', 'dreamy-drifty-floaty goodness', 'dreamy post-punk']\n",
      "\n",
      "Improvement granted by like match: 7487 songs, -1.00%\n"
     ]
    }
   ],
   "source": [
    "likes['dreamy'] = ['dreamy']\n",
    "\n",
    "df_exact, df_like, set_diff = like_match_analysis(\n",
    "    MOOD_CATEGORIES['dreamy'],\n",
    "    likes['dreamy'],\n",
    "    conn)"
   ]
  },
  {
   "cell_type": "code",
   "execution_count": 302,
   "metadata": {},
   "outputs": [
    {
     "name": "stdout",
     "output_type": "stream",
     "text": [
      "Number of songs that are a direct match: 0\n",
      "Number of songs that are an approximate match: 7487\n",
      "\tafter filter: 7480\n",
      "\n",
      "Example tags covered by the approximate match and not by the direct match:\n",
      "\n",
      "['dreamy melancholy', 'Dreamy Mind', 'dreamy goodness', 'dreamy shoegazer', 'dreamy hip hop', 'dreamyGrooves', 'dreamy sun', 'dreamy mix', 'dreamy-drifty-floaty goodness', 'dreamy post-punk']\n",
      "\n",
      "Improvement granted by like match: 7480 songs, -1.00%\n"
     ]
    }
   ],
   "source": [
    "filters['dreamy'] = ['wasnt jake dreamy', 'val kilmer is dreamy', 'alex james', 'roots manuva']\n",
    "\n",
    "df_exact, df_like, set_diff = like_match_analysis(\n",
    "    MOOD_CATEGORIES['dreamy'],\n",
    "    likes['dreamy'],\n",
    "    conn,\n",
    "    filters=filters['dreamy'])"
   ]
  },
  {
   "cell_type": "markdown",
   "metadata": {},
   "source": [
    "#### Earnest"
   ]
  },
  {
   "cell_type": "code",
   "execution_count": 306,
   "metadata": {},
   "outputs": [
    {
     "name": "stdout",
     "output_type": "stream",
     "text": [
      "Number of songs that are a direct match: 509\n",
      "Number of songs that are an approximate match: 923\n",
      "\n",
      "Example tags covered by the approximate match and not by the direct match:\n",
      "\n",
      "['french earnest sentimental', 'fervent qawwali', 'those songs that take you back in a way that is sincerely frightening', 'importance of being earnest', 'impassioned', 'seems to be passionate but not sincere', 'heartfelt vocals', 'i know my sentimental earnestness is not so much in fashion', 'just what made our encounters so sincere', 'Sincerely Me von  New Found Glory']\n",
      "\n",
      "Improvement granted by like match: 414 songs, 181.34%\n"
     ]
    }
   ],
   "source": [
    "# extra synonyms gathered from google \"earnest synonyms\"\n",
    "likes['earnest'] = ['earnest', 'heartfelt'] + ['devout', 'wholeheart', 'sincere', 'impassion', 'fervent', 'ardent']\n",
    "\n",
    "df_exact, df_like, set_diff = like_match_analysis(\n",
    "    MOOD_CATEGORIES['earnest'],\n",
    "    likes['earnest'],\n",
    "    conn)   "
   ]
  },
  {
   "cell_type": "code",
   "execution_count": 307,
   "metadata": {},
   "outputs": [
    {
     "name": "stdout",
     "output_type": "stream",
     "text": [
      "Number of songs that are a direct match: 509\n",
      "Number of songs that are an approximate match: 923\n",
      "\tafter filter: 898\n",
      "\n",
      "Example tags covered by the approximate match and not by the direct match:\n",
      "\n",
      "['french earnest sentimental', 'importance of being earnest', 'impassioned', 'heartfelt soul', 'heartfelt vocals', 'i know my sentimental earnestness is not so much in fashion', 'just what made our encounters so sincere', 'heartfelt sing out loud', 'heartfelted wrenching and stangulation of emotions', 'sounds so sincere I could die']\n",
      "\n",
      "Improvement granted by like match: 389 songs, 176.42%\n"
     ]
    }
   ],
   "source": [
    "filters['earnest'] = ['fervent qawwali', 'sincerely frightening', 'not sincere', 'sincere mj cole nero rmx',\n",
    "          'brand nubian', 'i would clap', 'insincere', 'monneglows', 'sri radha', 'new found glory']\n",
    "\n",
    "df_exact, df_like, set_diff = like_match_analysis(\n",
    "    MOOD_CATEGORIES['earnest'],\n",
    "    likes['earnest'],\n",
    "    conn,\n",
    "    filters=filters['earnest'])\n"
   ]
  },
  {
   "cell_type": "markdown",
   "metadata": {},
   "source": [
    "#### Excitement"
   ]
  },
  {
   "cell_type": "code",
   "execution_count": 308,
   "metadata": {},
   "outputs": [
    {
     "name": "stdout",
     "output_type": "stream",
     "text": [
      "Number of songs that are a direct match: 532\n",
      "Number of songs that are an approximate match: 1071\n",
      "\n",
      "Example tags covered by the approximate match and not by the direct match:\n",
      "\n",
      "['thriller-fall out boy', 'you re my thrill', 'No cheap thrill', 'The Thrilla - Juat Travelling Through', 'thrillseekers-super ambient', 'thriller', 'so excited', 'orchestral-thriller', 'songs that excite me', 'pretend this is thriller']\n",
      "\n",
      "Improvement granted by like match: 539 songs, 201.32%\n"
     ]
    }
   ],
   "source": [
    "likes['excitement'] = ['excite', 'exhilarating', 'thrill', 'ardor']\n",
    "\n",
    "df_exact, df_like, set_diff = like_match_analysis(\n",
    "    MOOD_CATEGORIES['excitement'],\n",
    "    likes['excitement'],\n",
    "    conn)   "
   ]
  },
  {
   "cell_type": "code",
   "execution_count": 310,
   "metadata": {},
   "outputs": [
    {
     "name": "stdout",
     "output_type": "stream",
     "text": [
      "Number of songs that are a direct match: 532\n",
      "Number of songs that are an approximate match: 1071\n",
      "\tafter filter: 964\n",
      "\n",
      "Example tags covered by the approximate match and not by the direct match:\n",
      "\n",
      "['you re my thrill', 'orange juice - simply thrilled honey', 'No cheap thrill', 'makes me excited', 'ThrillerLily', 'thriller', 'thrilling neo tango', 'Automatic Thrill', 'Thrill Me', 'so excited']\n",
      "\n",
      "Improvement granted by like match: 432 songs, 181.20%\n"
     ]
    }
   ],
   "source": [
    "filters['excitement'] = ['juat travelling through', 'tardor', 'excited for full album', 'michael jackson', 'richardor',\n",
    "          'thrilla riddim', 'hardore', 'the pointer sisters', 'the thrills', 'in his excitement', \n",
    "          'jagged edge', 'the theme', 'thrill is gone', 'thrillseekers', 'fall out boy']\n",
    "\n",
    "df_exact, df_like, set_diff = like_match_analysis(\n",
    "    MOOD_CATEGORIES['excitement'],\n",
    "    likes['excitement'],\n",
    "    conn,\n",
    "    filters=filters['excitement'])\n"
   ]
  },
  {
   "cell_type": "markdown",
   "metadata": {},
   "source": [
    "#### Grief"
   ]
  },
  {
   "cell_type": "code",
   "execution_count": 311,
   "metadata": {},
   "outputs": [
    {
     "name": "stdout",
     "output_type": "stream",
     "text": [
      "Number of songs that are a direct match: 1909\n",
      "Number of songs that are an approximate match: 4896\n",
      "\n",
      "Example tags covered by the approximate match and not by the direct match:\n",
      "\n",
      "['johnny cashjohnny thunders and the heartbreakers', 'christmas heartbreak', 'elegance and heartbreak', 'In sorrow not in anger', 'the real heartbreaking ones', 'tom petty and the heartbreakers', 'sorrowed heart of sadness', 'mournful guitar', 'tom petty and the heartbreakers - born in chicago preformed live at soundstage', 'the dawn before heartbreak']\n",
      "\n",
      "Improvement granted by like match: 2987 songs, 256.47%\n"
     ]
    }
   ],
   "source": [
    "likes['grief'] = ['grief', 'heartbreak', 'mournful', 'sorrow', 'sorry']\n",
    "\n",
    "df_exact, df_like, set_diff = like_match_analysis(\n",
    "    MOOD_CATEGORIES['grief'],\n",
    "    likes['grief'],\n",
    "    conn)   "
   ]
  },
  {
   "cell_type": "code",
   "execution_count": 312,
   "metadata": {},
   "outputs": [
    {
     "name": "stdout",
     "output_type": "stream",
     "text": [
      "Number of songs that are a direct match: 1909\n",
      "Number of songs that are an approximate match: 4896\n",
      "\tafter filter: 4738\n",
      "\n",
      "Example tags covered by the approximate match and not by the direct match:\n",
      "\n",
      "['christmas heartbreak', 'elegance and heartbreak', 'In sorrow not in anger', 'the real heartbreaking ones', 'sorrowed heart of sadness', 'mournful guitar', 'the dawn before heartbreak', 'sorry but I like it', 'Heartbreak Lyrics', 'Beautiful sorrow']\n",
      "\n",
      "Improvement granted by like match: 2829 songs, 248.19%\n"
     ]
    }
   ],
   "source": [
    "# a lot of artists have written songs with the word \"sorry\" in the title...\n",
    "filters['grief'] = ['the heartbreakers', '1st album', 'femi kuti', 'glenn jones', 'brenda lee',\n",
    "          'kenny g', 'kings of convenience', 'madonna', 'maria mena', 'markus schulz',\n",
    "          'matt wertz', 'mcfly', 'moonsorrow', 'mustard plug', 'my chemical romance',\n",
    "          'pat benatar', 'paul cardall', 'jonas brothers', 'ferry corsten',\n",
    "          'taylor swift', 'ted leo', 'not sorry', 'impalas', 'pillows',\n",
    "          'whitney houston', 'calvin johnston', 'jackson browne', 'johnny cash', ]\n",
    "\n",
    "df_exact, df_like, set_diff = like_match_analysis(\n",
    "    MOOD_CATEGORIES['grief'],\n",
    "    likes['grief'],\n",
    "    conn,\n",
    "    filters=filters['grief'])"
   ]
  },
  {
   "cell_type": "markdown",
   "metadata": {},
   "source": [
    "#### Happy"
   ]
  },
  {
   "cell_type": "code",
   "execution_count": 313,
   "metadata": {},
   "outputs": [
    {
     "name": "stdout",
     "output_type": "stream",
     "text": [
      "Number of songs that are a direct match: 13069\n",
      "Number of songs that are an approximate match: 28106\n",
      "\n",
      "Example tags covered by the approximate match and not by the direct match:\n",
      "\n",
      "['happy alternative', 'happy hippy', 'chill happy', 'Get happy along the way', 'warm soulful and happy', 'Wake-Up-And-Be-Happy-Music', 'happy as we can be', 'happy or happyish travis', 'Not Happy', 'happy and cheerful']\n",
      "\n",
      "Improvement granted by like match: 15037 songs, 215.06%\n"
     ]
    }
   ],
   "source": [
    "likes['happy'] = ['happy', 'happiness']\n",
    "\n",
    "df_exact, df_like, set_diff = like_match_analysis(\n",
    "    MOOD_CATEGORIES['happy'],\n",
    "    likes['happy'],\n",
    "    conn)   "
   ]
  },
  {
   "cell_type": "code",
   "execution_count": 314,
   "metadata": {},
   "outputs": [
    {
     "name": "stdout",
     "output_type": "stream",
     "text": [
      "Number of songs that are a direct match: 13069\n",
      "Number of songs that are an approximate match: 28106\n",
      "\tafter filter: 28011\n",
      "\n",
      "Example tags covered by the approximate match and not by the direct match:\n",
      "\n",
      "['happy alternative', 'happy hippy', 'chill happy', 'Get happy along the way', 'warm soulful and happy', 'Wake-Up-And-Be-Happy-Music', 'happy as we can be', 'happy or happyish travis', 'happy and cheerful', 'lonelybuthappy']\n",
      "\n",
      "Improvement granted by like match: 14942 songs, 214.33%\n"
     ]
    }
   ],
   "source": [
    "filters['happy'] = ['al green', 'altered image', 'angelique', 'avril lavigne', 'bert kaempfert',\n",
    "          'black uhuru', 'bud powell trio', 'cloudy', 'enrico rava', 'edwin hawkins singers',\n",
    "          'faith evans', 'garbage', 'tim hughes', 'kotaro oshio', 'junior jack', 'jill cunniff',\n",
    "          'modeselektor', 'phillip walker', 'siouxsie and the banshees', 'snow patrol', \n",
    "          'all-american rejects', 'all american rejects', 'the cure', 'tomas andersson',\n",
    "          'neil sedaka', 'happy feet soundtrack', 'happy gilmore', 'not happy']\n",
    "\n",
    "df_exact, df_like, set_diff = like_match_analysis(\n",
    "    MOOD_CATEGORIES['happy'],\n",
    "    likes['happy'],\n",
    "    conn,\n",
    "    filters=filters['happy'])\n"
   ]
  },
  {
   "cell_type": "markdown",
   "metadata": {},
   "source": [
    "#### Pessimism"
   ]
  },
  {
   "cell_type": "code",
   "execution_count": 315,
   "metadata": {},
   "outputs": [
    {
     "name": "stdout",
     "output_type": "stream",
     "text": [
      "Number of songs that are a direct match: 37\n",
      "Number of songs that are an approximate match: 982\n",
      "\n",
      "Example tags covered by the approximate match and not by the direct match:\n",
      "\n",
      "['cynical lovesong', 'cynical/sarcastic', 'pessimismo e fastidio', 'the sound of my cynicism melting', 'pessimism can be so pretty', 'i am too cynical to say i dont give a fuck', 'mood: pessimistic', 'For a pessimist', 'Music to feed my inner Pessimist', 'cynic']\n",
      "\n",
      "Improvement granted by like match: 945 songs, 2654.05%\n"
     ]
    }
   ],
   "source": [
    "likes['pessimism'] = ['pessimis', 'cynic', 'weltschmerz']\n",
    "\n",
    "df_exact, df_like, set_diff = like_match_analysis(\n",
    "    MOOD_CATEGORIES['pessimism'],\n",
    "    likes['pessimism'],\n",
    "    conn)   "
   ]
  },
  {
   "cell_type": "code",
   "execution_count": 316,
   "metadata": {},
   "outputs": [
    {
     "name": "stdout",
     "output_type": "stream",
     "text": [
      "Number of songs that are a direct match: 37\n",
      "Number of songs that are an approximate match: 982\n",
      "\tafter filter: 980\n",
      "\n",
      "Example tags covered by the approximate match and not by the direct match:\n",
      "\n",
      "['cynical lovesong', 'cynical/sarcastic', 'pessimismo e fastidio', 'the sound of my cynicism melting', 'pessimism can be so pretty', 'i am too cynical to say i dont give a fuck', 'mood: pessimistic', 'For a pessimist', 'Music to feed my inner Pessimist', 'cynic']\n",
      "\n",
      "Improvement granted by like match: 943 songs, 2648.65%\n"
     ]
    }
   ],
   "source": [
    "filters['pessimism'] = ['veil of maya', 'marshal crenshaw']\n",
    "\n",
    "df_exact, df_like, set_diff = like_match_analysis(\n",
    "    MOOD_CATEGORIES['pessimism'],\n",
    "    likes['pessimism'],\n",
    "    conn,\n",
    "    filters=filters['pessimism'])\n"
   ]
  },
  {
   "cell_type": "markdown",
   "metadata": {},
   "source": [
    "#### Romantic"
   ]
  },
  {
   "cell_type": "code",
   "execution_count": 331,
   "metadata": {},
   "outputs": [
    {
     "name": "stdout",
     "output_type": "stream",
     "text": [
      "Number of songs that are a direct match: 9448\n",
      "Number of songs that are an approximate match: 18283\n",
      "\n",
      "Example tags covered by the approximate match and not by the direct match:\n",
      "\n",
      "['slow romantic song', 'dead romantic', 'mi musica romantica alegre', 'romantic instrumental', 'romantic pop', 'romantic night', 'Dark Romanticism', 'romantic tension', 'Romantic lovesongs', 'downtempo electronic chill romantic']\n",
      "\n",
      "Improvement granted by like match: 8835 songs, 193.51%\n"
     ]
    }
   ],
   "source": [
    "likes['romantic'] = ['romant']\n",
    "\n",
    "df_exact, df_like, set_diff = like_match_analysis(\n",
    "    MOOD_CATEGORIES['romantic'],\n",
    "    likes['romantic'],\n",
    "    conn)   "
   ]
  },
  {
   "cell_type": "code",
   "execution_count": 332,
   "metadata": {},
   "outputs": [
    {
     "name": "stdout",
     "output_type": "stream",
     "text": [
      "Number of songs that are a direct match: 9448\n",
      "Number of songs that are an approximate match: 18283\n",
      "\tafter filter: 18239\n",
      "\n",
      "Example tags covered by the approximate match and not by the direct match:\n",
      "\n",
      "['slow romantic song', 'dead romantic', 'mi musica romantica alegre', 'romantic instrumental', 'romantic pop', 'romantic night', 'Dark Romanticism', 'romantic tension', 'Romantic lovesongs', 'downtempo electronic chill romantic']\n",
      "\n",
      "Improvement granted by like match: 8791 songs, 193.05%\n"
     ]
    }
   ],
   "source": [
    "filters['romantic'] = ['ace of base', 'aiden', 'ana gabriel', 'romantic warrior', 'nekromantix',\n",
    "          'negromantix', 'romantic worrior', 'the swan romantic', 'necromanti',\n",
    "          'nekromanti', 'phil collins', ]\n",
    "\n",
    "df_exact, df_like, set_diff = like_match_analysis(\n",
    "    MOOD_CATEGORIES['romantic'],\n",
    "    likes['romantic'],\n",
    "    conn,\n",
    "    filters=filters['romantic'])\n"
   ]
  },
  {
   "cell_type": "markdown",
   "metadata": {},
   "source": [
    "#### Sad"
   ]
  },
  {
   "cell_type": "code",
   "execution_count": 320,
   "metadata": {},
   "outputs": [
    {
     "name": "stdout",
     "output_type": "stream",
     "text": [
      "Number of songs that are a direct match: 21115\n",
      "Number of songs that are an approximate match: 49104\n",
      "\n",
      "Example tags covered by the approximate match and not by the direct match:\n",
      "\n",
      "['revived melancholy', 'Soul-achingly sad', 'Sad but good songs', 'Beautiful sadness', 'melancholic mood', 'fck melancholy', 'melancholy on the edge of apocalypse', 'sad slow and sleepy', 'sadindie', 'make me sad']\n",
      "\n",
      "Improvement granted by like match: 27989 songs, 232.56%\n"
     ]
    }
   ],
   "source": [
    "likes['sad'] = ['sad', 'unhappy', 'melanchol']\n",
    "\n",
    "df_exact, df_like, set_diff = like_match_analysis(\n",
    "    MOOD_CATEGORIES['sad'],\n",
    "    likes['sad'],\n",
    "    conn)   "
   ]
  },
  {
   "cell_type": "code",
   "execution_count": 321,
   "metadata": {},
   "outputs": [
    {
     "name": "stdout",
     "output_type": "stream",
     "text": [
      "Number of songs that are a direct match: 21115\n",
      "Number of songs that are an approximate match: 49104\n",
      "\tafter filter: 48269\n",
      "\n",
      "Example tags covered by the approximate match and not by the direct match:\n",
      "\n",
      "['revived melancholy', 'Soul-achingly sad', 'Sad but good songs', 'melancholy evenings', 'sad lyrics with happy tunes', 'Beautiful sadness', 'melancholic mood', 'fck melancholy', 'quiet and sad', 'melancholy on the edge of apocalypse']\n",
      "\n",
      "Improvement granted by like match: 27154 songs, 228.60%\n"
     ]
    }
   ],
   "source": [
    "filters['sad'] = ['crusade', 'cat stevens', 'sadie', 'cansado', 'palisades', 'ablusado',\n",
    "          'sadist', 'pasad', 'sade', 'pesad', 'masada', 'all-american rejects',\n",
    "          'prasad', 'sadventure', 'sadiddy', 'chris garneau', 'the ataris',\n",
    "          'moody blues', 'toni braxton', 'casada', 'incubus', 'nick cave', \n",
    "          'ryan cabrera', 'wayne wonder', 'cassady']\n",
    "\n",
    "df_exact, df_like, set_diff = like_match_analysis(\n",
    "    MOOD_CATEGORIES['sad'],\n",
    "    likes['sad'],\n",
    "    conn,\n",
    "    filters=filters['sad'])\n"
   ]
  },
  {
   "cell_type": "markdown",
   "metadata": {},
   "source": [
    "#### Upbeat"
   ]
  },
  {
   "cell_type": "code",
   "execution_count": 322,
   "metadata": {},
   "outputs": [
    {
     "name": "stdout",
     "output_type": "stream",
     "text": [
      "Number of songs that are a direct match: 9569\n",
      "Number of songs that are an approximate match: 11570\n",
      "\n",
      "Example tags covered by the approximate match and not by the direct match:\n",
      "\n",
      "['upbeat dance 80s', 'upbeat instrumental', 'zestcooooooool :D', 'upbeat  holiday', 'female upbeat', 'upbeatpounder', 'upbeat Xmas', 'overlooked for its musical value due to its upbeat nature', 'upbeatsweetsound', 'lovely upbeat']\n",
      "\n",
      "Improvement granted by like match: 2001 songs, 120.91%\n"
     ]
    }
   ],
   "source": [
    "likes['upbeat'] = ['upbeat', 'gleeful', 'high spirits', 'zest', 'enthusias']\n",
    "\n",
    "df_exact, df_like, set_diff = like_match_analysis(\n",
    "    MOOD_CATEGORIES['upbeat'],\n",
    "    likes['upbeat'],\n",
    "    conn)   "
   ]
  },
  {
   "cell_type": "code",
   "execution_count": 323,
   "metadata": {},
   "outputs": [
    {
     "name": "stdout",
     "output_type": "stream",
     "text": [
      "Number of songs that are a direct match: 9569\n",
      "Number of songs that are an approximate match: 11570\n",
      "\tafter filter: 11225\n",
      "\n",
      "Example tags covered by the approximate match and not by the direct match:\n",
      "\n",
      "['upbeat dance 80s', 'upbeat instrumental', 'upbeat  holiday', 'female upbeat', 'upbeat Xmas', 'upbeatpounder', 'overlooked for its musical value due to its upbeat nature', 'upbeatsweetsound', 'lovely upbeat', 'Liz Enthusiasm']\n",
      "\n",
      "Improvement granted by like match: 1656 songs, 117.31%\n"
     ]
    }
   ],
   "source": [
    "filters['upbeat'] = ['too upbeat', 'lemon zest', 'niemogeprzestacsluchac', 'zestcooooooool',\n",
    "          'zestfunk', 'zesthop', 'zestig', 'zestjazzy', 'zestoko', 'zestpsy',\n",
    "          'zestteuf']\n",
    "\n",
    "df_exact, df_like, set_diff = like_match_analysis(\n",
    "    MOOD_CATEGORIES['upbeat'],\n",
    "    likes['upbeat'],\n",
    "    conn,\n",
    "    filters=filters['upbeat'])\n"
   ]
  },
  {
   "cell_type": "markdown",
   "metadata": {},
   "source": [
    "### Filters\n",
    "\n",
    "We now have a set of filters for each and a new set of like-queries for each mood. With this information, we can construct a new, expanded MOOD_CATEGORIES dictionary to increase the size of our dataset."
   ]
  },
  {
   "cell_type": "code",
   "execution_count": 277,
   "metadata": {},
   "outputs": [
    {
     "data": {
      "text/plain": [
       "{'aggression': ['not so aggressive', 'aggressio'],\n",
       " 'agnst': ['gangst', 'langstrumpf', 'farangstar', 'gaaangstaa', 'klangstark'],\n",
       " 'anger': ['garage',\n",
       "  'entourage',\n",
       "  'daranger',\n",
       "  'danger',\n",
       "  'underage',\n",
       "  'banger',\n",
       "  'ranger',\n",
       "  'doppleganger',\n",
       "  'doppelganger',\n",
       "  'traged',\n",
       "  'piangere',\n",
       "  'stranger',\n",
       "  'beverage',\n",
       "  'coverage',\n",
       "  'zangeres',\n",
       "  'average',\n",
       "  'mirage',\n",
       "  'underage',\n",
       "  'langer',\n",
       "  'not in anger',\n",
       "  'tanger',\n",
       "  'fuleragem',\n",
       "  'fragements',\n",
       "  'enouragement',\n",
       "  'suffragette',\n",
       "  'avarage',\n",
       "  'leverage',\n",
       "  'changer',\n",
       "  'courage',\n",
       "  'hervorragend',\n",
       "  'bursdagsanger',\n",
       "  'tragedies',\n",
       "  'rage against the machine',\n",
       "  'volkzangers',\n",
       "  'getragen',\n",
       "  'frageze',\n",
       "  'tanger',\n",
       "  'arragem',\n",
       "  'not rage',\n",
       "  'wangerFamilie',\n",
       "  'cooperage',\n",
       "  'anchorage',\n",
       "  'sanger',\n",
       "  'manger',\n",
       "  'sangerin',\n",
       "  'kenneth anger',\n",
       "  'svanger',\n",
       "  'songs that take all the anger out of you',\n",
       "  'pandeiragem',\n",
       "  'behangers',\n",
       "  'fragen',\n",
       "  'angerls',\n",
       "  'frage',\n",
       "  'korageklimper',\n",
       "  'sjanger',\n",
       "  'umbrageous'],\n",
       " 'brooding': ['broodcast',\n",
       "  'marilyn manson - the reflecting god',\n",
       "  'silverchair-reflections of a sound'],\n",
       " 'calm': ['calminha',\n",
       "  'schill-das',\n",
       "  'dragonland',\n",
       "  'clelia felix',\n",
       "  'schiller',\n",
       "  'quiet riot',\n",
       "  'chillung',\n",
       "  'alex gopher',\n",
       "  'royksoppia',\n",
       "  'bob baldwin',\n",
       "  'uncomfortabl',\n",
       "  'chili con carnage',\n",
       "  'hot as chilli',\n",
       "  'smokey robinson',\n",
       "  'quiet roit',\n",
       "  'grover washington',\n",
       "  'stvari',\n",
       "  'mobb deep',\n",
       "  'scott matthews',\n",
       "  'shadow puppets',\n",
       "  'red hot chilli pipers',\n",
       "  'feeder-2002',\n",
       "  'piehti',\n",
       "  'peter schilling',\n",
       "  'the main ingredient',\n",
       "  'red hot chilli pepper',\n",
       "  'impossible to listen to quietly',\n",
       "  'cannot be played quietly',\n",
       "  'probably have listened to the chills',\n",
       "  'rustycanuckchill',\n",
       "  'southern comfort',\n",
       "  'most serene republic',\n",
       "  'john mayer',\n",
       "  'nusrat fateh',\n",
       "  'pink martini',\n",
       "  'skunk anansie',\n",
       "  'tonight is glory',\n",
       "  'brutal metal for quiet people',\n",
       "  'calmeback',\n",
       "  'red hot chilli pepers',\n",
       "  'comfort food',\n",
       "  'chilli peppers',\n",
       "  'comfortably numb',\n",
       "  'simon cooper',\n",
       "  'redhotchillypeppers',\n",
       "  'the sea is calm once more',\n",
       "  'paul brown',\n",
       "  'maria mena',\n",
       "  'chilli pepers',\n",
       "  'comfortable liar',\n",
       "  'unrequieted',\n",
       "  'carly simon',\n",
       "  'shai',\n",
       "  'quietdrive',\n",
       "  'red hot chillis',\n",
       "  'buddha-bar',\n",
       "  'discomfort',\n",
       "  'red hot chilly pepers',\n",
       "  'children of bodom',\n",
       "  'not calming'],\n",
       " 'cheerful': ['cheerlead',\n",
       "  'samples jolly roger',\n",
       "  'pretty depressing',\n",
       "  'cheerless',\n",
       "  'Sophie Merry'],\n",
       " 'confident': ['confidential'],\n",
       " 'depressed': ['billy squier',\n",
       "  'david benoit',\n",
       "  'dark alley',\n",
       "  'john fogerty',\n",
       "  'jacks mannequin',\n",
       "  'naglfar',\n",
       "  'brenda russell',\n",
       "  'uncle tupelo',\n",
       "  'omarion',\n",
       "  'ozzy osbourne',\n",
       "  'donnie darko',\n",
       "  'donny darko',\n",
       "  'its dark outside',\n",
       "  'julenzeit',\n",
       "  'the hoosiers',\n",
       "  'black shuck',\n",
       "  'hot chip',\n",
       "  'mary gauthier',\n",
       "  'zombie girl',\n",
       "  'tuna sandwiches',\n",
       "  'dark sky demo',\n",
       "  'macbeth',\n",
       "  'poisonblack',\n",
       "  'oxide and neutrino',\n",
       "  'motion picture soundtrack'],\n",
       " 'desire': ['hope of the states mix',\n",
       "  'hopelorn',\n",
       "  'you hope that he get what',\n",
       "  'trip-hop',\n",
       "  'hope sandoval',\n",
       "  'hopeless',\n",
       "  'swallow the sun',\n",
       "  'trip hop',\n",
       "  'hopelessness',\n",
       "  'chopin',\n",
       "  'the white ship of hope',\n",
       "  'no hope',\n",
       "  'hope is gone',\n",
       "  'hopeton',\n",
       "  'hip-hope',\n",
       "  'james hope',\n",
       "  'hoperas',\n",
       "  'randy hope',\n",
       "  'falsehope',\n",
       "  'i hope not',\n",
       "  'rapid hope loss',\n",
       "  'hopek',\n",
       "  'give up all hope',\n",
       "  'barbershopesque',\n",
       "  'miridesire',\n",
       "  'i hope my neighbour',\n",
       "  'pirates of the caribbean'],\n",
       " 'dreamy': ['wasnt jake dreamy',\n",
       "  'val kilmer is dreamy',\n",
       "  'alex james',\n",
       "  'roots manuva'],\n",
       " 'earnest': ['fervent qawwali',\n",
       "  'sincerely frightening',\n",
       "  'not sincere',\n",
       "  'sincere mj cole nero rmx',\n",
       "  'brand nubian',\n",
       "  'i would clap',\n",
       "  'insincere',\n",
       "  'monneglows',\n",
       "  'sri radha',\n",
       "  'new found glory'],\n",
       " 'excitement': ['juat travelling through',\n",
       "  'tardor',\n",
       "  'excited for full album',\n",
       "  'michael jackson',\n",
       "  'richardor',\n",
       "  'thrilla riddim',\n",
       "  'hardore',\n",
       "  'the pointer sisters',\n",
       "  'the thrills',\n",
       "  'in his excitement',\n",
       "  'jagged edge',\n",
       "  'the theme',\n",
       "  'thrill is gone',\n",
       "  'thrillseekers',\n",
       "  'fall out boy'],\n",
       " 'grief': ['the heartbreakers',\n",
       "  '1st album',\n",
       "  'femi kuti',\n",
       "  'glenn jones',\n",
       "  'brenda lee',\n",
       "  'kenny g',\n",
       "  'kings of convenience',\n",
       "  'madonna',\n",
       "  'maria mena',\n",
       "  'markus schulz',\n",
       "  'matt wertz',\n",
       "  'mcfly',\n",
       "  'moonsorrow',\n",
       "  'mustard plug',\n",
       "  'my chemical romance',\n",
       "  'pat benatar',\n",
       "  'paul cardall',\n",
       "  'jonas brothers',\n",
       "  'ferry corsten',\n",
       "  'taylor swift',\n",
       "  'ted leo',\n",
       "  'not sorry',\n",
       "  'impalas',\n",
       "  'pillows',\n",
       "  'whitney houston',\n",
       "  'calvin johnston',\n",
       "  'jackson browne',\n",
       "  'johnny cash'],\n",
       " 'happy': ['al green',\n",
       "  'altered image',\n",
       "  'angelique',\n",
       "  'avril lavigne',\n",
       "  'bert kaempfert',\n",
       "  'black uhuru',\n",
       "  'bud powell trio',\n",
       "  'cloudy',\n",
       "  'enrico rava',\n",
       "  'edwin hawkins singers',\n",
       "  'faith evans',\n",
       "  'garbage',\n",
       "  'tim hughes',\n",
       "  'kotaro oshio',\n",
       "  'junior jack',\n",
       "  'jill cunniff',\n",
       "  'modeselektor',\n",
       "  'phillip walker',\n",
       "  'siouxsie and the banshees',\n",
       "  'snow patrol',\n",
       "  'all-american rejects',\n",
       "  'all american rejects',\n",
       "  'the cure',\n",
       "  'tomas andersson',\n",
       "  'neil sedaka',\n",
       "  'happy feet soundtrack',\n",
       "  'happy gilmore',\n",
       "  'not happy'],\n",
       " 'pessimism': ['veil of maya', 'marshal crenshaw'],\n",
       " 'romantic': ['ace of base',\n",
       "  'aiden',\n",
       "  'ana gabriel',\n",
       "  'romantic warrior',\n",
       "  'nekromantix',\n",
       "  'negromantix',\n",
       "  'romantic worrior',\n",
       "  'the swan romantic',\n",
       "  'necromanti',\n",
       "  'nekromanti',\n",
       "  'phil collins'],\n",
       " 'upbeat': ['too upbeat',\n",
       "  'lemon zest',\n",
       "  'niemogeprzestacsluchac',\n",
       "  'zestcooooooool',\n",
       "  'zestfunk',\n",
       "  'zesthop',\n",
       "  'zestig',\n",
       "  'zestjazzy',\n",
       "  'zestoko',\n",
       "  'zestpsy',\n",
       "  'zestteuf']}"
      ]
     },
     "execution_count": 277,
     "metadata": {},
     "output_type": "execute_result"
    }
   ],
   "source": [
    "filters"
   ]
  },
  {
   "cell_type": "code",
   "execution_count": 324,
   "metadata": {},
   "outputs": [
    {
     "data": {
      "text/plain": [
       "{'aggression': ['aggress'],\n",
       " 'anger': ['anger', 'angry', 'choleric', 'fury', 'outraged', 'rage'],\n",
       " 'angst': ['angst', 'anxiety', 'anxious', 'jumpy', 'nervous', 'angsty'],\n",
       " 'brooding': ['brood', 'contemplat', 'meditat', 'reflect'],\n",
       " 'calm': ['calm', 'comfort', 'quiet', 'serene', 'mellow', 'chill'],\n",
       " 'cheerful': ['cheer', 'festive', 'jolly', 'jovial', 'merry'],\n",
       " 'confident': ['confident', 'encourag', 'optimis'],\n",
       " 'depressed': ['depress', 'dark', 'drear'],\n",
       " 'desire': ['desire', 'desirin', 'hope', 'hopin'],\n",
       " 'dreamy': ['dreamy'],\n",
       " 'earnest': ['earnest',\n",
       "  'heartfelt',\n",
       "  'devout',\n",
       "  'wholeheart',\n",
       "  'sincere',\n",
       "  'impassion',\n",
       "  'fervent',\n",
       "  'ardent'],\n",
       " 'excitement': ['excite', 'exhilarating', 'thrill', 'ardor'],\n",
       " 'grief': ['grief', 'heartbreak', 'mournful', 'sorrow', 'sorry'],\n",
       " 'happy': ['happy', 'happiness'],\n",
       " 'pessimism': ['pessimis', 'cynic', 'weltschmerz'],\n",
       " 'romant': ['romant'],\n",
       " 'sad': ['sad', 'unhappy', 'melanchol'],\n",
       " 'upbeat': ['upbeat', 'gleeful', 'high spirits', 'zest', 'enthusias']}"
      ]
     },
     "execution_count": 324,
     "metadata": {},
     "output_type": "execute_result"
    }
   ],
   "source": [
    "likes"
   ]
  },
  {
   "cell_type": "code",
   "execution_count": 335,
   "metadata": {},
   "outputs": [
    {
     "name": "stdout",
     "output_type": "stream",
     "text": [
      "{'aggression': [['aggression', 'aggressive'],\n",
      "                ['aggress'],\n",
      "                ['not so aggressive', 'aggressio']],\n",
      " 'anger': [['anger', 'angry', 'choleric', 'fury', 'outraged', 'rage'],\n",
      "           ['anger', 'angry', 'choleric', 'fury', 'outraged', 'rage'],\n",
      "           ['garage',\n",
      "            'entourage',\n",
      "            'daranger',\n",
      "            'danger',\n",
      "            'underage',\n",
      "            'banger',\n",
      "            'ranger',\n",
      "            'doppleganger',\n",
      "            'doppelganger',\n",
      "            'traged',\n",
      "            'piangere',\n",
      "            'stranger',\n",
      "            'beverage',\n",
      "            'coverage',\n",
      "            'zangeres',\n",
      "            'average',\n",
      "            'mirage',\n",
      "            'underage',\n",
      "            'langer',\n",
      "            'not in anger',\n",
      "            'tanger',\n",
      "            'fuleragem',\n",
      "            'fragements',\n",
      "            'enouragement',\n",
      "            'suffragette',\n",
      "            'avarage',\n",
      "            'leverage',\n",
      "            'changer',\n",
      "            'courage',\n",
      "            'hervorragend',\n",
      "            'bursdagsanger',\n",
      "            'tragedies',\n",
      "            'rage against the machine',\n",
      "            'volkzangers',\n",
      "            'getragen',\n",
      "            'frageze',\n",
      "            'tanger',\n",
      "            'arragem',\n",
      "            'not rage',\n",
      "            'wangerFamilie',\n",
      "            'cooperage',\n",
      "            'anchorage',\n",
      "            'sanger',\n",
      "            'manger',\n",
      "            'sangerin',\n",
      "            'kenneth anger',\n",
      "            'svanger',\n",
      "            'songs that take all the anger out of you',\n",
      "            'pandeiragem',\n",
      "            'behangers',\n",
      "            'fragen',\n",
      "            'angerls',\n",
      "            'frage',\n",
      "            'korageklimper',\n",
      "            'sjanger',\n",
      "            'umbrageous']],\n",
      " 'angst': [['angst', 'anxiety', 'anxious', 'jumpy', 'nervous', 'angsty'],\n",
      "           ['angst', 'anxiety', 'anxious', 'jumpy', 'nervous', 'angsty'],\n",
      "           ['gangst', 'langstrumpf', 'farangstar', 'gaaangstaa', 'klangstark']],\n",
      " 'brooding': [['brooding', 'contemplative', 'meditative', 'reflective'],\n",
      "              ['brood', 'contemplat', 'meditat', 'reflect'],\n",
      "              ['broodcast',\n",
      "               'marilyn manson - the reflecting god',\n",
      "               'silverchair-reflections of a sound']],\n",
      " 'calm': [['calm', 'comfort', 'quiet', 'serene', 'mellow', 'chill out'],\n",
      "          ['calm', 'comfort', 'quiet', 'serene', 'mellow', 'chill'],\n",
      "          ['calminha',\n",
      "           'schill-das',\n",
      "           'dragonland',\n",
      "           'clelia felix',\n",
      "           'schiller',\n",
      "           'quiet riot',\n",
      "           'chillung',\n",
      "           'alex gopher',\n",
      "           'royksoppia',\n",
      "           'bob baldwin',\n",
      "           'uncomfortabl',\n",
      "           'chili con carnage',\n",
      "           'hot as chilli',\n",
      "           'smokey robinson',\n",
      "           'quiet roit',\n",
      "           'grover washington',\n",
      "           'stvari',\n",
      "           'mobb deep',\n",
      "           'scott matthews',\n",
      "           'shadow puppets',\n",
      "           'red hot chilli pipers',\n",
      "           'feeder-2002',\n",
      "           'piehti',\n",
      "           'peter schilling',\n",
      "           'the main ingredient',\n",
      "           'red hot chilli pepper',\n",
      "           'impossible to listen to quietly',\n",
      "           'cannot be played quietly',\n",
      "           'probably have listened to the chills',\n",
      "           'rustycanuckchill',\n",
      "           'southern comfort',\n",
      "           'most serene republic',\n",
      "           'john mayer',\n",
      "           'nusrat fateh',\n",
      "           'pink martini',\n",
      "           'skunk anansie',\n",
      "           'tonight is glory',\n",
      "           'brutal metal for quiet people',\n",
      "           'calmeback',\n",
      "           'red hot chilli pepers',\n",
      "           'comfort food',\n",
      "           'chilli peppers',\n",
      "           'comfortably numb',\n",
      "           'simon cooper',\n",
      "           'redhotchillypeppers',\n",
      "           'the sea is calm once more',\n",
      "           'paul brown',\n",
      "           'maria mena',\n",
      "           'chilli pepers',\n",
      "           'comfortable liar',\n",
      "           'unrequieted',\n",
      "           'carly simon',\n",
      "           'shai',\n",
      "           'quietdrive',\n",
      "           'red hot chillis',\n",
      "           'buddha-bar',\n",
      "           'discomfort',\n",
      "           'red hot chilly pepers',\n",
      "           'children of bodom',\n",
      "           'not calming']],\n",
      " 'cheerful': [['cheerful', 'cheer up', 'festive', 'jolly', 'jovial', 'merry'],\n",
      "              ['cheer', 'festive', 'jolly', 'jovial', 'merry'],\n",
      "              ['cheerlead',\n",
      "               'samples jolly roger',\n",
      "               'pretty depressing',\n",
      "               'cheerless',\n",
      "               'Sophie Merry']],\n",
      " 'confident': [['confident', 'encouraging', 'encouragement', 'optimism'],\n",
      "               ['confident', 'encourag', 'optimis'],\n",
      "               ['confidential']],\n",
      " 'depressed': [['depressed', 'blue', 'dark', 'depressive', 'dreary'],\n",
      "               ['depress', 'dark', 'drear'],\n",
      "               ['billy squier',\n",
      "                'david benoit',\n",
      "                'dark alley',\n",
      "                'john fogerty',\n",
      "                'jacks mannequin',\n",
      "                'naglfar',\n",
      "                'brenda russell',\n",
      "                'uncle tupelo',\n",
      "                'omarion',\n",
      "                'ozzy osbourne',\n",
      "                'donnie darko',\n",
      "                'donny darko',\n",
      "                'its dark outside',\n",
      "                'julenzeit',\n",
      "                'the hoosiers',\n",
      "                'black shuck',\n",
      "                'hot chip',\n",
      "                'mary gauthier',\n",
      "                'zombie girl',\n",
      "                'tuna sandwiches',\n",
      "                'dark sky demo',\n",
      "                'macbeth',\n",
      "                'poisonblack',\n",
      "                'oxide and neutrino',\n",
      "                'motion picture soundtrack']],\n",
      " 'desire': [['desire', 'hope', 'hopeful', 'mood: hopeful'],\n",
      "            ['desire', 'desirin', 'hope', 'hopin'],\n",
      "            ['hope of the states mix',\n",
      "             'hopelorn',\n",
      "             'you hope that he get what',\n",
      "             'trip-hop',\n",
      "             'hope sandoval',\n",
      "             'hopeless',\n",
      "             'swallow the sun',\n",
      "             'trip hop',\n",
      "             'hopelessness',\n",
      "             'chopin',\n",
      "             'the white ship of hope',\n",
      "             'no hope',\n",
      "             'hope is gone',\n",
      "             'hopeton',\n",
      "             'hip-hope',\n",
      "             'james hope',\n",
      "             'hoperas',\n",
      "             'randy hope',\n",
      "             'falsehope',\n",
      "             'i hope not',\n",
      "             'rapid hope loss',\n",
      "             'hopek',\n",
      "             'give up all hope',\n",
      "             'barbershopesque',\n",
      "             'miridesire',\n",
      "             'i hope my neighbour',\n",
      "             'pirates of the caribbean']],\n",
      " 'dreamy': [['dreamy'],\n",
      "            ['dreamy'],\n",
      "            ['wasnt jake dreamy',\n",
      "             'val kilmer is dreamy',\n",
      "             'alex james',\n",
      "             'roots manuva']],\n",
      " 'earnest': [['earnest', 'heartfelt'],\n",
      "             ['earnest',\n",
      "              'heartfelt',\n",
      "              'devout',\n",
      "              'wholeheart',\n",
      "              'sincere',\n",
      "              'impassion',\n",
      "              'fervent',\n",
      "              'ardent'],\n",
      "             ['fervent qawwali',\n",
      "              'sincerely frightening',\n",
      "              'not sincere',\n",
      "              'sincere mj cole nero rmx',\n",
      "              'brand nubian',\n",
      "              'i would clap',\n",
      "              'insincere',\n",
      "              'monneglows',\n",
      "              'sri radha',\n",
      "              'new found glory']],\n",
      " 'excitement': [['excitement', 'exciting', 'exhilarating', 'thrill', 'ardor'],\n",
      "                ['excite', 'exhilarating', 'thrill', 'ardor'],\n",
      "                ['juat travelling through',\n",
      "                 'tardor',\n",
      "                 'excited for full album',\n",
      "                 'michael jackson',\n",
      "                 'richardor',\n",
      "                 'thrilla riddim',\n",
      "                 'hardore',\n",
      "                 'the pointer sisters',\n",
      "                 'the thrills',\n",
      "                 'in his excitement',\n",
      "                 'jagged edge',\n",
      "                 'the theme',\n",
      "                 'thrill is gone',\n",
      "                 'thrillseekers',\n",
      "                 'fall out boy']],\n",
      " 'grief': [['grief', 'heartbreak', 'mournful', 'sorrow', 'sorry'],\n",
      "           ['grief', 'heartbreak', 'mournful', 'sorrow', 'sorry'],\n",
      "           ['the heartbreakers',\n",
      "            '1st album',\n",
      "            'femi kuti',\n",
      "            'glenn jones',\n",
      "            'brenda lee',\n",
      "            'kenny g',\n",
      "            'kings of convenience',\n",
      "            'madonna',\n",
      "            'maria mena',\n",
      "            'markus schulz',\n",
      "            'matt wertz',\n",
      "            'mcfly',\n",
      "            'moonsorrow',\n",
      "            'mustard plug',\n",
      "            'my chemical romance',\n",
      "            'pat benatar',\n",
      "            'paul cardall',\n",
      "            'jonas brothers',\n",
      "            'ferry corsten',\n",
      "            'taylor swift',\n",
      "            'ted leo',\n",
      "            'not sorry',\n",
      "            'impalas',\n",
      "            'pillows',\n",
      "            'whitney houston',\n",
      "            'calvin johnston',\n",
      "            'jackson browne',\n",
      "            'johnny cash']],\n",
      " 'happy': [['happy', 'happiness', 'happy songs', 'happy music'],\n",
      "           ['happy', 'happiness'],\n",
      "           ['al green',\n",
      "            'altered image',\n",
      "            'angelique',\n",
      "            'avril lavigne',\n",
      "            'bert kaempfert',\n",
      "            'black uhuru',\n",
      "            'bud powell trio',\n",
      "            'cloudy',\n",
      "            'enrico rava',\n",
      "            'edwin hawkins singers',\n",
      "            'faith evans',\n",
      "            'garbage',\n",
      "            'tim hughes',\n",
      "            'kotaro oshio',\n",
      "            'junior jack',\n",
      "            'jill cunniff',\n",
      "            'modeselektor',\n",
      "            'phillip walker',\n",
      "            'siouxsie and the banshees',\n",
      "            'snow patrol',\n",
      "            'all-american rejects',\n",
      "            'all american rejects',\n",
      "            'the cure',\n",
      "            'tomas andersson',\n",
      "            'neil sedaka',\n",
      "            'happy feet soundtrack',\n",
      "            'happy gilmore',\n",
      "            'not happy']],\n",
      " 'pessimism': [['pessimism', 'cynical', 'pessimistic', 'weltschmerz'],\n",
      "               ['pessimis', 'cynic', 'weltschmerz'],\n",
      "               ['veil of maya', 'marshal crenshaw']],\n",
      " 'romantic': [['romantic', 'romantic music'],\n",
      "              ['romant'],\n",
      "              ['ace of base',\n",
      "               'aiden',\n",
      "               'ana gabriel',\n",
      "               'romantic warrior',\n",
      "               'nekromantix',\n",
      "               'negromantix',\n",
      "               'romantic worrior',\n",
      "               'the swan romantic',\n",
      "               'necromanti',\n",
      "               'nekromanti',\n",
      "               'phil collins']],\n",
      " 'sad': [['sadness', 'unhappy', 'melancholic', 'melancholy'],\n",
      "         ['sad', 'unhappy', 'melanchol'],\n",
      "         ['crusade',\n",
      "          'cat stevens',\n",
      "          'sadie',\n",
      "          'cansado',\n",
      "          'palisades',\n",
      "          'ablusado',\n",
      "          'sadist',\n",
      "          'pasad',\n",
      "          'sade',\n",
      "          'pesad',\n",
      "          'masada',\n",
      "          'all-american rejects',\n",
      "          'prasad',\n",
      "          'sadventure',\n",
      "          'sadiddy',\n",
      "          'chris garneau',\n",
      "          'the ataris',\n",
      "          'moody blues',\n",
      "          'toni braxton',\n",
      "          'casada',\n",
      "          'incubus',\n",
      "          'nick cave',\n",
      "          'ryan cabrera',\n",
      "          'wayne wonder',\n",
      "          'cassady']],\n",
      " 'upbeat': [['upbeat', 'gleeful', 'high spirits', 'zest', 'enthusiastic'],\n",
      "            ['upbeat', 'gleeful', 'high spirits', 'zest', 'enthusias'],\n",
      "            ['too upbeat',\n",
      "             'lemon zest',\n",
      "             'niemogeprzestacsluchac',\n",
      "             'zestcooooooool',\n",
      "             'zestfunk',\n",
      "             'zesthop',\n",
      "             'zestig',\n",
      "             'zestjazzy',\n",
      "             'zestoko',\n",
      "             'zestpsy',\n",
      "             'zestteuf']]}\n"
     ]
    }
   ],
   "source": [
    "mood_categories_expanded = dict()\n",
    "\n",
    "for mood, exact_queries in MOOD_CATEGORIES.items():\n",
    "    mood_categories_expanded[mood] = [exact_queries, likes[mood], filters[mood]]\n",
    "\n",
    "pprint(mood_categories_expanded)"
   ]
  },
  {
   "cell_type": "code",
   "execution_count": 336,
   "metadata": {},
   "outputs": [
    {
     "ename": "NameError",
     "evalue": "name 'json' is not defined",
     "output_type": "error",
     "traceback": [
      "\u001b[0;31m---------------------------------------------------------------------------\u001b[0m",
      "\u001b[0;31mNameError\u001b[0m                                 Traceback (most recent call last)",
      "\u001b[0;32m<ipython-input-336-c156de21073c>\u001b[0m in \u001b[0;36m<module>\u001b[0;34m\u001b[0m\n\u001b[1;32m      1\u001b[0m \u001b[0;31m# save as json\u001b[0m\u001b[0;34m\u001b[0m\u001b[0;34m\u001b[0m\u001b[0m\n\u001b[1;32m      2\u001b[0m \u001b[0;32mwith\u001b[0m \u001b[0mopen\u001b[0m\u001b[0;34m(\u001b[0m\u001b[0;34m'mood_categories_expanded.json'\u001b[0m\u001b[0;34m,\u001b[0m \u001b[0;34m'w'\u001b[0m\u001b[0;34m)\u001b[0m \u001b[0;32mas\u001b[0m \u001b[0moutfile\u001b[0m\u001b[0;34m:\u001b[0m\u001b[0;34m\u001b[0m\u001b[0m\n\u001b[0;32m----> 3\u001b[0;31m     \u001b[0mjson\u001b[0m\u001b[0;34m.\u001b[0m\u001b[0mdump\u001b[0m\u001b[0;34m(\u001b[0m\u001b[0mmood_categories_expanded\u001b[0m\u001b[0;34m,\u001b[0m \u001b[0moutfile\u001b[0m\u001b[0;34m,\u001b[0m \u001b[0mindent\u001b[0m\u001b[0;34m=\u001b[0m\u001b[0;36m4\u001b[0m\u001b[0;34m,\u001b[0m \u001b[0msort_keys\u001b[0m\u001b[0;34m=\u001b[0m\u001b[0;32mTrue\u001b[0m\u001b[0;34m)\u001b[0m\u001b[0;34m\u001b[0m\u001b[0m\n\u001b[0m",
      "\u001b[0;31mNameError\u001b[0m: name 'json' is not defined"
     ]
    }
   ],
   "source": [
    "# save as json\n",
    "with open('mood_categories_expanded.json', 'w') as outfile:\n",
    "    json.dump(mood_categories_expanded, outfile, indent=4, sort_keys=True)"
   ]
  },
  {
   "cell_type": "code",
   "execution_count": null,
   "metadata": {},
   "outputs": [],
   "source": []
  }
 ],
 "metadata": {
  "kernelspec": {
   "display_name": ".venv_w266_project",
   "language": "python",
   "name": ".venv_w266_project"
  },
  "language_info": {
   "codemirror_mode": {
    "name": "ipython",
    "version": 3
   },
   "file_extension": ".py",
   "mimetype": "text/x-python",
   "name": "python",
   "nbconvert_exporter": "python",
   "pygments_lexer": "ipython3",
   "version": "3.5.2"
  }
 },
 "nbformat": 4,
 "nbformat_minor": 2
}
