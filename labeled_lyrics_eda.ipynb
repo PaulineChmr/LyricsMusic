{
 "cells": [
  {
   "cell_type": "code",
   "execution_count": 34,
   "metadata": {},
   "outputs": [],
   "source": [
    "import pandas as pd\n",
    "from utils import unpicklify\n",
    "#df = pd.read_csv('logs/tf/mood_classification/moods_and_lyrics.csv')\n",
    "df = unpicklify('logs/tf/mood_classification/moods_and_lyrics.csv')"
   ]
  },
  {
   "cell_type": "code",
   "execution_count": 35,
   "metadata": {},
   "outputs": [],
   "source": [
    "import warnings\n",
    "warnings.filterwarnings('ignore')"
   ]
  },
  {
   "cell_type": "markdown",
   "metadata": {},
   "source": [
    "# Filtering"
   ]
  },
  {
   "cell_type": "markdown",
   "metadata": {},
   "source": [
    "### Duplicates\n",
    "\n",
    "(there are none because the moods_and_lyrics csv file already dropped duplicates)"
   ]
  },
  {
   "cell_type": "markdown",
   "metadata": {},
   "source": [
    "### NAs\n",
    "\n",
    "There are NAs in the non processed lyrics series. Thankfully, preprocessing removes the NAs."
   ]
  },
  {
   "cell_type": "code",
   "execution_count": 73,
   "metadata": {},
   "outputs": [
    {
     "name": "stdout",
     "output_type": "stream",
     "text": [
      "na=497\n",
      "na pre=0\n"
     ]
    }
   ],
   "source": [
    "print('na={0}'.format(df.lyrics.isna().sum()))\n",
    "print('na pre={0}'.format(df.preprocessed_lyrics.isna().sum()))"
   ]
  },
  {
   "cell_type": "markdown",
   "metadata": {},
   "source": [
    "### Instrumentals\n",
    "\n",
    "Some songs in the datasets are instrumentals but still have lyrics. This can be a short 1 sentence introduction, the name of the artist and the song, or something else very brief.\n",
    "\n",
    "The goal of this section is to find what value we should use as a minimum wordcount in our dataset.\n",
    "\n",
    "#### Number of Instrumentals"
   ]
  },
  {
   "cell_type": "code",
   "execution_count": 74,
   "metadata": {},
   "outputs": [
    {
     "name": "stdout",
     "output_type": "stream",
     "text": [
      "instrumentals=764\n",
      "instrumentals preprocessed=748\n"
     ]
    }
   ],
   "source": [
    "def count_instrumentals(lyrics):\n",
    "    lyrics = lyrics.dropna()\n",
    "    return lyrics.str.lower().str.contains(\"instrumental\").sum()\n",
    "\n",
    "print('instrumentals={0}'.format(count_instrumentals(df.lyrics)))\n",
    "print('instrumentals preprocessed={0}'.format(count_instrumentals(df.preprocessed_lyrics)))"
   ]
  },
  {
   "cell_type": "markdown",
   "metadata": {},
   "source": [
    "#### Examples of Instrumental \"Lyrics\"\n"
   ]
  },
  {
   "cell_type": "code",
   "execution_count": 77,
   "metadata": {},
   "outputs": [],
   "source": [
    "def show_examples_based_on_wordcount(data, bottom_limit=None, top_limit=None):\n",
    "    exdata = data.copy()\n",
    "    if top_limit:\n",
    "        exdata = exdata[exdata.wordcount < top_limit]\n",
    "    if bottom_limit:\n",
    "        exdata = exdata[exdata.wordcount > bottom_limit]\n",
    "    count = 0\n",
    "    limit = 10\n",
    "    skip = 8\n",
    "    print('*************************************************')\n",
    "    print('{0}:{1}'.format(bottom_limit, top_limit))\n",
    "    for index, x in exdata.iterrows():\n",
    "        # don't just look at the beginning\n",
    "        if index % skip == 0:\n",
    "            print('-----------------------------')\n",
    "            print('Example {0}, Track: {1}, Mood: {2}'.format(index, x['lyrics_filename'], x['mood']))\n",
    "            print('Lyrics: {0}'.format(x['lyrics']))\n",
    "            count += 1\n",
    "            if count == limit:\n",
    "                print('done')\n",
    "                break\n"
   ]
  },
  {
   "cell_type": "code",
   "execution_count": 78,
   "metadata": {},
   "outputs": [
    {
     "name": "stdout",
     "output_type": "stream",
     "text": [
      "*************************************************\n",
      "None:10\n",
      "-----------------------------\n",
      "Example 0, Track: _And_Oceans___New_Model_World, Mood: calm\n",
      "Lyrics: And Oceans\n",
      "Miscellaneous\n",
      "New Model World\n",
      "[instrumental]\n",
      "-----------------------------\n",
      "Example 408, Track: ATB___Underwater_World, Mood: calm\n",
      "Lyrics: Won't you have some of that\n",
      "Some of that\n",
      "-----------------------------\n",
      "Example 920, Track: Aim___Cold_Water_Music, Mood: calm\n",
      "Lyrics: You know we got a great thing here\n",
      "-----------------------------\n",
      "Example 1176, Track: Alan_Parsons___Dreamscape, Mood: calm\n",
      "Lyrics: Alan Parsons Project\n",
      "Try Anything Once\n",
      "Dreamscape\n",
      "Instrumental\n",
      "[parsons]\n",
      "-----------------------------\n",
      "Example 4776, Track: Beastie_Boys___Transitions, Mood: calm\n",
      "Lyrics: Beastie Boys/Nishita)\n",
      "(Instrumental\n",
      "-----------------------------\n",
      "Example 5376, Track: Betty_Davis___Special_People, Mood: sad\n",
      "Lyrics: *Needs lyrics*\n",
      "-----------------------------\n",
      "Example 7192, Track: Bonobo___Kota, Mood: calm\n",
      "Lyrics: [No Lyrics]\n",
      "-----------------------------\n",
      "Example 7656, Track: Brenda_Boykin___Be_My_Lover, Mood: calm\n",
      "Lyrics: Be My Lover\n",
      "-----------------------------\n",
      "Example 7792, Track: Brian_Wilson___Our_Prayer__Gee, Mood: anger\n",
      "Lyrics: How I love my girl\n",
      "Heroes and villains\n",
      "-----------------------------\n",
      "Example 8024, Track: Broken_Social_Scene___Da_Da_Da_Da, Mood: calm\n",
      "Lyrics: I think it's almost time\n",
      "done\n",
      "\n",
      "\n",
      "\n",
      "\n",
      "*************************************************\n",
      "10:15\n",
      "-----------------------------\n",
      "Example 10504, Track: Cold_Cave___Ive_Seen_The_Future_And_Its_No_Place_For_Me, Mood: depressed\n",
      "Lyrics: I've seen the future and it's no place for me\n",
      "X4\n",
      "-----------------------------\n",
      "Example 11280, Track: Cult_Of_Luna___Waiting_For_You, Mood: sad\n",
      "Lyrics: I am praying for the raging flood\n",
      "I am waiting for you to come\n",
      "-----------------------------\n",
      "Example 14016, Track: Donovan___Tangerine_Puppet, Mood: sad\n",
      "Lyrics: (spoken)\n",
      "This is the fairy story of a tangerine puppet\n",
      "\n",
      "(instrumental)\n",
      "-----------------------------\n",
      "Example 19288, Track: Gorillaz___Double_Bass, Mood: calm\n",
      "Lyrics: [Interlude]\n",
      "All of which makes me anxious\n",
      "At times, unbearably so\n",
      "-----------------------------\n",
      "Example 19376, Track: Grace_Jones___Dont_Cry__Its_Only_The_Rhythm, Mood: calm\n",
      "Lyrics: \"Grace Jones has a sense of humour?\"\n",
      "\"Sure, can't you tell?\"\n",
      "-----------------------------\n",
      "Example 31424, Track: Orbital___Out_There_Somewhere_Part_1, Mood: cheerful\n",
      "Lyrics: \"I'll remember if it's the last thing I do!\"\n",
      "\n",
      "\"What's wrong?\"\n",
      "\n",
      "\"What's wrong?\"\n",
      "-----------------------------\n",
      "Example 35856, Track: Scooter___Hysteria, Mood: happy\n",
      "Lyrics: Extacy!\n",
      "\n",
      "Extacy!\n",
      "There's no reason to be disturbed\n",
      "\n",
      "Extacy!\n",
      "\n",
      "Extacy!\n",
      "Extacy!\n",
      "-----------------------------\n",
      "Example 36672, Track: Shpongle___Turn_Up_the_Silence, Mood: calm\n",
      "Lyrics: Diving down, yeah! I like it, yeah! Woah, I like this...\n",
      "-----------------------------\n",
      "Example 42216, Track: The_Crystal_Method___Bad_Stone, Mood: calm\n",
      "Lyrics: Amen\n",
      "Wouldn't want a goose\n",
      "Are you out there\n",
      "What's Up wo\n",
      "\n",
      "\n",
      "\n",
      "\n",
      "*************************************************\n",
      "15:20\n",
      "-----------------------------\n",
      "Example 6912, Track: Bob_Dylan___All_The_Tired_Horses, Mood: calm\n",
      "Lyrics: All the tired horses in the sun\n",
      "How'm I supposed to get any riding done? Hmm\n",
      "-----------------------------\n",
      "Example 25672, Track: Kona_Triangle___Mango_Rubicon, Mood: calm\n",
      "Lyrics: After Submit Lyrics, Your name will be printed as part of the credit when your lyric is approved\n",
      "-----------------------------\n",
      "Example 26264, Track: Lali_Puna___603, Mood: calm\n",
      "Lyrics: Six-o-three-nine-one\n",
      "Four-eight-seven-ten\n",
      "Black hair, brown eyes\n",
      "Solid residence\n",
      "If you want to know\n",
      "Who I am\n",
      "Just ask me\n",
      "-----------------------------\n",
      "Example 30592, Track: Nite_Jewel___Suburbia, Mood: calm\n",
      "Lyrics:           \n",
      "            Lyrics for this song have yet to be released. Please check back once the song has been released.\n",
      "          \n",
      "        \n",
      "-----------------------------\n",
      "Example 30712, Track: NoisufX___My_Time_Charity_Edit, Mood: depressed\n",
      "Lyrics: \"I'm runnin' this monkey farm now, Frankenstein\n",
      "And I wanna know what the fuck you're doin' with my time!\"\n",
      "-----------------------------\n",
      "Example 32312, Track: Paul_Kalkbrenner___Ick_Muss_Aus_Dit_Millieu_Heraus, Mood: calm\n",
      "Lyrics: After Submit Lyrics, Your name will be printed as part of the credit when your lyric is approved\n",
      "-----------------------------\n",
      "Example 37320, Track: Slagsmalsklubben___Wellington_Sears, Mood: happy\n",
      "Lyrics: After Submit Lyrics, Your name will be printed as part of the credit when your lyric is approved\n",
      "-----------------------------\n",
      "Example 40632, Track: Telepopmusik___LIncertitude_D_Heisenberg, Mood: calm\n",
      "Lyrics: \"So this is the best we can do\n",
      "And it's more than enough for this job\"\n",
      "-----------------------------\n",
      "Example 40760, Track: Tesla_Boy___Neon_Love, Mood: calm\n",
      "Lyrics: And this night is electric\n",
      "And this night is neon\n",
      "I am so gone\n",
      "I want your love\n",
      "-----------------------------\n",
      "Example 41856, Track: The_Cinematic_Orchestra___Burn_Out, Mood: calm\n",
      "Lyrics: But when the money's gone...\n",
      "They don't come around...\n",
      "\n",
      "But when the money's gone...\n",
      "They don't come around...\n",
      "done\n"
     ]
    }
   ],
   "source": [
    "show_examples_based_on_wordcount(df, top_limit=10)\n",
    "print('\\n\\n\\n')\n",
    "show_examples_based_on_wordcount(df, bottom_limit=10, top_limit=15)\n",
    "print('\\n\\n\\n')\n",
    "show_examples_based_on_wordcount(df, bottom_limit=15, top_limit=20)"
   ]
  },
  {
   "cell_type": "markdown",
   "metadata": {},
   "source": [
    "#### What is the proper minimum length?"
   ]
  },
  {
   "cell_type": "code",
   "execution_count": null,
   "metadata": {},
   "outputs": [],
   "source": []
  }
 ],
 "metadata": {
  "kernelspec": {
   "display_name": ".venv_w266_project",
   "language": "python",
   "name": ".venv_w266_project"
  },
  "language_info": {
   "codemirror_mode": {
    "name": "ipython",
    "version": 3
   },
   "file_extension": ".py",
   "mimetype": "text/x-python",
   "name": "python",
   "nbconvert_exporter": "python",
   "pygments_lexer": "ipython3",
   "version": "3.5.2"
  }
 },
 "nbformat": 4,
 "nbformat_minor": 2
}
